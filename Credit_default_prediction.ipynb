{
  "nbformat": 4,
  "nbformat_minor": 0,
  "metadata": {
    "colab": {
      "name": "Credit_default_prediction.ipynb",
      "provenance": [],
      "collapsed_sections": []
    },
    "kernelspec": {
      "name": "python3",
      "display_name": "Python 3"
    },
    "accelerator": "GPU"
  },
  "cells": [
    {
      "cell_type": "markdown",
      "metadata": {
        "id": "q_PlF-xiFzDo",
        "colab_type": "text"
      },
      "source": [
        "https://colab.research.google.com/drive/1fIUxxjGKf3I5ZszwSjXEGgSwCKAH9aSJ"
      ]
    },
    {
      "cell_type": "markdown",
      "metadata": {
        "id": "3FcI57qIX8Gb",
        "colab_type": "text"
      },
      "source": [
        "You can choose to work on any structured dataset.\n",
        "Recommended dataset would be available at: https://www.kaggle.com/c/GiveMeSomeCredit/data"
      ]
    },
    {
      "cell_type": "code",
      "metadata": {
        "id": "B4myEEoOBtfX",
        "colab_type": "code",
        "colab": {}
      },
      "source": [
        "import pandas as pd\n",
        "data = pd.read_csv('...') # Path to the file you downloaded"
      ],
      "execution_count": 0,
      "outputs": []
    },
    {
      "cell_type": "code",
      "metadata": {
        "id": "aIVkw_zNGYbZ",
        "colab_type": "code",
        "colab": {}
      },
      "source": [
        "vars = data.columns[1:]"
      ],
      "execution_count": 0,
      "outputs": []
    },
    {
      "cell_type": "code",
      "metadata": {
        "id": "uYHb2pKsGhE8",
        "colab_type": "code",
        "colab": {}
      },
      "source": [
        "import numpy as np\n",
        "for t in vars:\n",
        "  data[t]= np.where(data[t].isnull(),data[t].median(),data[t])"
      ],
      "execution_count": 0,
      "outputs": []
    },
    {
      "cell_type": "code",
      "metadata": {
        "id": "b7QAFxSgDMKT",
        "colab_type": "code",
        "colab": {}
      },
      "source": [
        "for t in vars:\n",
        "    x=data[t].quantile(0.95)\n",
        "    data[t+\"outlier_flag\"]=np.where(data[t]>x,1,0)\n",
        "    data[t]=np.where(data[t]>x,x,data[t])"
      ],
      "execution_count": 0,
      "outputs": []
    },
    {
      "cell_type": "code",
      "metadata": {
        "id": "_2quFHmPE5v1",
        "colab_type": "code",
        "colab": {}
      },
      "source": [
        "data['Debt_income_ratio_newoutlier']=np.where(data['Debt_income_ratio']>1,1,0)\n",
        "data['Debt_income_ratio']=np.where(data['Debt_income_ratio']>1,1,data['Debt_income_ratio'])"
      ],
      "execution_count": 0,
      "outputs": []
    },
    {
      "cell_type": "code",
      "metadata": {
        "id": "puQl7MjnFEZX",
        "colab_type": "code",
        "colab": {}
      },
      "source": [
        "for t in vars:\n",
        "  data[t]= data[t]/data[t].max()"
      ],
      "execution_count": 0,
      "outputs": []
    },
    {
      "cell_type": "code",
      "metadata": {
        "id": "G09WrXP2FTlo",
        "colab_type": "code",
        "colab": {}
      },
      "source": [
        "X = data.iloc[:,1:]\n",
        "Y = data['Defaultin2yrs']"
      ],
      "execution_count": 0,
      "outputs": []
    },
    {
      "cell_type": "code",
      "metadata": {
        "id": "5IRFJNvXHNFa",
        "colab_type": "code",
        "outputId": "e9aa92bb-1574-413e-d0c2-71640ec19389",
        "colab": {
          "base_uri": "https://localhost:8080/",
          "height": 34
        }
      },
      "source": [
        "print(X.shape, Y.shape)"
      ],
      "execution_count": 0,
      "outputs": [
        {
          "output_type": "stream",
          "text": [
            "(150000, 21) (150000,)\n"
          ],
          "name": "stdout"
        }
      ]
    },
    {
      "cell_type": "code",
      "metadata": {
        "id": "iw1E26oXHObU",
        "colab_type": "code",
        "colab": {}
      },
      "source": [
        "from sklearn.model_selection import train_test_split"
      ],
      "execution_count": 0,
      "outputs": []
    },
    {
      "cell_type": "code",
      "metadata": {
        "id": "MUTbIo5SHkpc",
        "colab_type": "code",
        "colab": {}
      },
      "source": [
        "X_train, X_test, y_train, y_test = train_test_split(X, Y, test_size = 0.3, random_state= 42)"
      ],
      "execution_count": 0,
      "outputs": []
    },
    {
      "cell_type": "code",
      "metadata": {
        "id": "ZKRum18fHyah",
        "colab_type": "code",
        "outputId": "a0752b3b-f80a-486f-9684-05a0049786a1",
        "colab": {
          "base_uri": "https://localhost:8080/",
          "height": 34
        }
      },
      "source": [
        "print(X_train.shape, X_test.shape, y_train.shape, y_test.shape)"
      ],
      "execution_count": 0,
      "outputs": [
        {
          "output_type": "stream",
          "text": [
            "(105000, 21) (45000, 21) (105000,) (45000,)\n"
          ],
          "name": "stdout"
        }
      ]
    },
    {
      "cell_type": "code",
      "metadata": {
        "id": "aW4FQVnHIKXC",
        "colab_type": "code",
        "colab": {}
      },
      "source": [
        "from keras.models import Sequential\n",
        "from keras.layers import Dense\n",
        "from keras.layers import Dropout\n",
        "from keras.utils import np_utils"
      ],
      "execution_count": 0,
      "outputs": []
    },
    {
      "cell_type": "code",
      "metadata": {
        "id": "MEZjgCaUH2oq",
        "colab_type": "code",
        "outputId": "61699f3c-eca5-477d-d277-d97e76125605",
        "colab": {
          "base_uri": "https://localhost:8080/",
          "height": 204
        }
      },
      "source": [
        "model = Sequential()\n",
        "model.add(Dense(1000, input_dim=X_train.shape[1], activation='relu'))\n",
        "model.add(Dense(1,  activation='sigmoid'))\n",
        "model.summary()"
      ],
      "execution_count": 0,
      "outputs": [
        {
          "output_type": "stream",
          "text": [
            "_________________________________________________________________\n",
            "Layer (type)                 Output Shape              Param #   \n",
            "=================================================================\n",
            "dense_5 (Dense)              (None, 1000)              22000     \n",
            "_________________________________________________________________\n",
            "dense_6 (Dense)              (None, 1)                 1001      \n",
            "=================================================================\n",
            "Total params: 23,001\n",
            "Trainable params: 23,001\n",
            "Non-trainable params: 0\n",
            "_________________________________________________________________\n"
          ],
          "name": "stdout"
        }
      ]
    },
    {
      "cell_type": "code",
      "metadata": {
        "id": "smDWw4D1IHX4",
        "colab_type": "code",
        "colab": {}
      },
      "source": [
        "model.compile(loss='binary_crossentropy', optimizer='adam', metrics=['accuracy'])"
      ],
      "execution_count": 0,
      "outputs": []
    },
    {
      "cell_type": "code",
      "metadata": {
        "id": "M2POyNZNFe6E",
        "colab_type": "code",
        "outputId": "51fae8d5-ff9a-427d-dd97-4fbd6b186d41",
        "colab": {
          "base_uri": "https://localhost:8080/",
          "height": 714
        }
      },
      "source": [
        "history = model.fit(X_train, y_train, validation_data=(X_test, y_test), epochs=20, batch_size=1024, verbose=1)"
      ],
      "execution_count": 0,
      "outputs": [
        {
          "output_type": "stream",
          "text": [
            "Train on 105000 samples, validate on 45000 samples\n",
            "Epoch 1/20\n",
            "105000/105000 [==============================] - 1s 8us/step - loss: 0.2480 - acc: 0.9296 - val_loss: 0.1830 - val_acc: 0.9382\n",
            "Epoch 2/20\n",
            "105000/105000 [==============================] - 1s 6us/step - loss: 0.1826 - acc: 0.9366 - val_loss: 0.1784 - val_acc: 0.9379\n",
            "Epoch 3/20\n",
            "105000/105000 [==============================] - 1s 6us/step - loss: 0.1803 - acc: 0.9370 - val_loss: 0.1779 - val_acc: 0.9375\n",
            "Epoch 4/20\n",
            "105000/105000 [==============================] - 1s 6us/step - loss: 0.1797 - acc: 0.9369 - val_loss: 0.1781 - val_acc: 0.9376\n",
            "Epoch 5/20\n",
            "105000/105000 [==============================] - 1s 6us/step - loss: 0.1792 - acc: 0.9373 - val_loss: 0.1772 - val_acc: 0.9379\n",
            "Epoch 6/20\n",
            "105000/105000 [==============================] - 1s 6us/step - loss: 0.1787 - acc: 0.9374 - val_loss: 0.1778 - val_acc: 0.9371\n",
            "Epoch 7/20\n",
            "105000/105000 [==============================] - 1s 6us/step - loss: 0.1786 - acc: 0.9373 - val_loss: 0.1773 - val_acc: 0.9375\n",
            "Epoch 8/20\n",
            "105000/105000 [==============================] - 1s 6us/step - loss: 0.1785 - acc: 0.9376 - val_loss: 0.1772 - val_acc: 0.9377\n",
            "Epoch 9/20\n",
            "105000/105000 [==============================] - 1s 7us/step - loss: 0.1781 - acc: 0.9374 - val_loss: 0.1773 - val_acc: 0.9376\n",
            "Epoch 10/20\n",
            "105000/105000 [==============================] - 1s 6us/step - loss: 0.1780 - acc: 0.9374 - val_loss: 0.1772 - val_acc: 0.9376\n",
            "Epoch 11/20\n",
            "105000/105000 [==============================] - 1s 6us/step - loss: 0.1780 - acc: 0.9375 - val_loss: 0.1770 - val_acc: 0.9377\n",
            "Epoch 12/20\n",
            "105000/105000 [==============================] - 1s 6us/step - loss: 0.1778 - acc: 0.9374 - val_loss: 0.1767 - val_acc: 0.9376\n",
            "Epoch 13/20\n",
            "105000/105000 [==============================] - 1s 6us/step - loss: 0.1776 - acc: 0.9374 - val_loss: 0.1772 - val_acc: 0.9375\n",
            "Epoch 14/20\n",
            "105000/105000 [==============================] - 1s 6us/step - loss: 0.1775 - acc: 0.9376 - val_loss: 0.1770 - val_acc: 0.9373\n",
            "Epoch 15/20\n",
            "105000/105000 [==============================] - 1s 6us/step - loss: 0.1773 - acc: 0.9375 - val_loss: 0.1763 - val_acc: 0.9376\n",
            "Epoch 16/20\n",
            "105000/105000 [==============================] - 1s 6us/step - loss: 0.1770 - acc: 0.9377 - val_loss: 0.1766 - val_acc: 0.9376\n",
            "Epoch 17/20\n",
            "105000/105000 [==============================] - 1s 6us/step - loss: 0.1770 - acc: 0.9377 - val_loss: 0.1766 - val_acc: 0.9377\n",
            "Epoch 18/20\n",
            "105000/105000 [==============================] - 1s 6us/step - loss: 0.1769 - acc: 0.9377 - val_loss: 0.1769 - val_acc: 0.9378\n",
            "Epoch 19/20\n",
            "105000/105000 [==============================] - 1s 6us/step - loss: 0.1768 - acc: 0.9376 - val_loss: 0.1766 - val_acc: 0.9378\n",
            "Epoch 20/20\n",
            "105000/105000 [==============================] - 1s 6us/step - loss: 0.1766 - acc: 0.9379 - val_loss: 0.1770 - val_acc: 0.9376\n"
          ],
          "name": "stdout"
        }
      ]
    },
    {
      "cell_type": "code",
      "metadata": {
        "id": "_kEvLYiDFnv5",
        "colab_type": "code",
        "colab": {}
      },
      "source": [
        "from sklearn.metrics import roc_auc_score\n",
        "\n",
        "pred = model.predict(X_test)\n",
        "roc_auc_score(y_test, pred)"
      ],
      "execution_count": 0,
      "outputs": []
    },
    {
      "cell_type": "code",
      "metadata": {
        "id": "nMFVkxfpZNjV",
        "colab_type": "code",
        "outputId": "ad88a3f1-10fb-4c58-ebb2-9e2342502980",
        "colab": {
          "base_uri": "https://localhost:8080/",
          "height": 386
        }
      },
      "source": [
        "import matplotlib.pyplot as plt\n",
        "%matplotlib inline\n",
        "history_dict = history.history\n",
        "loss_values = history_dict['loss']\n",
        "val_loss_values = history_dict['val_loss']\n",
        "acc_values = history_dict['acc']\n",
        "val_acc_values = history_dict['val_acc']\n",
        "epochs = range(1, len(val_loss_values) + 1)\n",
        "\n",
        "plt.subplot(211)\n",
        "plt.plot(epochs, history.history['loss'], 'r', label='Training loss')\n",
        "plt.plot(epochs, val_loss_values, 'bo', label='Test loss')\n",
        "plt.title('Training and test loss')\n",
        "plt.xlabel('Epochs')\n",
        "plt.ylabel('Loss')\n",
        "plt.legend()\n",
        "plt.grid('off')\n",
        "plt.show()\n",
        "plt.subplot(212)\n",
        "plt.plot(epochs, history.history['acc'], 'r', label='Training accuracy')\n",
        "plt.plot(epochs, val_acc_values, 'bo', label='Test accuracy')\n",
        "plt.title('Training and test accuracy')\n",
        "plt.xlabel('Epochs')\n",
        "plt.ylabel('Accuracy')\n",
        "plt.gca().set_yticklabels(['{:.0f}%'.format(x*100) for x in plt.gca().get_yticks()]) \n",
        "plt.legend()\n",
        "plt.grid('off')\n",
        "plt.show()"
      ],
      "execution_count": 0,
      "outputs": [
        {
          "output_type": "stream",
          "text": [
            "/usr/local/lib/python3.6/dist-packages/matplotlib/cbook/__init__.py:424: MatplotlibDeprecationWarning: \n",
            "Passing one of 'on', 'true', 'off', 'false' as a boolean is deprecated; use an actual boolean (True/False) instead.\n",
            "  warn_deprecated(\"2.2\", \"Passing one of 'on', 'true', 'off', 'false' as a \"\n"
          ],
          "name": "stderr"
        },
        {
          "output_type": "display_data",
          "data": {
            "image/png": "[encoded data removed]",
            "text/plain": [
              "<Figure size 432x288 with 1 Axes>"
            ]
          },
          "metadata": {
            "tags": []
          }
        },
        {
          "output_type": "display_data",
          "data": {
            "image/png": "[encoded data removed]",
            "text/plain": [
              "<Figure size 432x288 with 1 Axes>"
            ]
          },
          "metadata": {
            "tags": []
          }
        }
      ]
    },
    {
      "cell_type": "code",
      "metadata": {
        "id": "q1bWzfgZFi1a",
        "colab_type": "code",
        "outputId": "f8485fa5-8edf-4550-9429-b32ed310651d",
        "colab": {
          "base_uri": "https://localhost:8080/",
          "height": 34
        }
      },
      "source": [
        "pred = model.predict(X_test)\n",
        "test_data = pd.DataFrame([y_test]).T\n",
        "test_data['pred']=pred\n",
        "test_data = test_data.reset_index(drop='index')\n",
        "test_data = test_data.sort_values(by='pred',ascending=False)\n",
        "print(test_data[:4500]['Defaultin2yrs'].sum())"
      ],
      "execution_count": 0,
      "outputs": [
        {
          "output_type": "stream",
          "text": [
            "1654\n"
          ],
          "name": "stdout"
        }
      ]
    },
    {
      "cell_type": "code",
      "metadata": {
        "id": "ZyhgyRQzKX6A",
        "colab_type": "code",
        "colab": {}
      },
      "source": [
        ""
      ],
      "execution_count": 0,
      "outputs": []
    },
    {
      "cell_type": "code",
      "metadata": {
        "id": "USxGXxxEKX-d",
        "colab_type": "code",
        "outputId": "632ba46f-b9b7-49c7-b146-409cbb7c840f",
        "colab": {
          "base_uri": "https://localhost:8080/",
          "height": 204
        }
      },
      "source": [
        "model = Sequential()\n",
        "model.add(Dense(1000, input_dim=21, activation='relu'))\n",
        "model.add(Dense(2,  activation='softmax'))\n",
        "model.summary()"
      ],
      "execution_count": 0,
      "outputs": [
        {
          "output_type": "stream",
          "text": [
            "_________________________________________________________________\n",
            "Layer (type)                 Output Shape              Param #   \n",
            "=================================================================\n",
            "dense_7 (Dense)              (None, 1000)              22000     \n",
            "_________________________________________________________________\n",
            "dense_8 (Dense)              (None, 2)                 2002      \n",
            "=================================================================\n",
            "Total params: 24,002\n",
            "Trainable params: 24,002\n",
            "Non-trainable params: 0\n",
            "_________________________________________________________________\n"
          ],
          "name": "stdout"
        }
      ]
    },
    {
      "cell_type": "code",
      "metadata": {
        "id": "r_zUpCSfKYBN",
        "colab_type": "code",
        "colab": {}
      },
      "source": [
        "model.compile(loss='categorical_crossentropy', optimizer='adam', metrics=['accuracy'])"
      ],
      "execution_count": 0,
      "outputs": []
    },
    {
      "cell_type": "code",
      "metadata": {
        "id": "U0caJmYvamfi",
        "colab_type": "code",
        "colab": {}
      },
      "source": [
        "from keras.utils import to_categorical"
      ],
      "execution_count": 0,
      "outputs": []
    },
    {
      "cell_type": "code",
      "metadata": {
        "id": "oQt5cPh6agqe",
        "colab_type": "code",
        "colab": {}
      },
      "source": [
        "y_train = to_categorical(y_train, num_classes=2)\n",
        "y_test = to_categorical(y_test, num_classes=2)"
      ],
      "execution_count": 0,
      "outputs": []
    },
    {
      "cell_type": "code",
      "metadata": {
        "id": "4ClIejD7bTTO",
        "colab_type": "code",
        "outputId": "0e9fe43f-85f6-4915-fe84-ad7775eb8c1f",
        "colab": {
          "base_uri": "https://localhost:8080/",
          "height": 34
        }
      },
      "source": [
        "y_test[:,1]"
      ],
      "execution_count": 0,
      "outputs": [
        {
          "output_type": "execute_result",
          "data": {
            "text/plain": [
              "array([0., 0., 0., ..., 0., 0., 0.], dtype=float32)"
            ]
          },
          "metadata": {
            "tags": []
          },
          "execution_count": 57
        }
      ]
    },
    {
      "cell_type": "code",
      "metadata": {
        "id": "khLqftuvGUCq",
        "colab_type": "code",
        "outputId": "dd1e1a6a-84e0-4193-f2a3-9fbcf5d8a1c5",
        "colab": {
          "base_uri": "https://localhost:8080/",
          "height": 714
        }
      },
      "source": [
        "history = model.fit(X_train, y_train, validation_data=(X_test, y_test), epochs=20, batch_size=1024, verbose=1,class_weight = {0:1,1:100})"
      ],
      "execution_count": 0,
      "outputs": [
        {
          "output_type": "stream",
          "text": [
            "Train on 105000 samples, validate on 45000 samples\n",
            "Epoch 1/20\n",
            "105000/105000 [==============================] - 1s 9us/step - loss: 2.2961 - acc: 0.1186 - val_loss: 1.4042 - val_acc: 0.2003\n",
            "Epoch 2/20\n",
            "105000/105000 [==============================] - 1s 7us/step - loss: 2.0490 - acc: 0.2966 - val_loss: 1.1834 - val_acc: 0.3958\n",
            "Epoch 3/20\n",
            "105000/105000 [==============================] - 1s 7us/step - loss: 2.0340 - acc: 0.3327 - val_loss: 1.3146 - val_acc: 0.3263\n",
            "Epoch 4/20\n",
            "105000/105000 [==============================] - 1s 7us/step - loss: 2.0263 - acc: 0.3307 - val_loss: 1.3034 - val_acc: 0.3461\n",
            "Epoch 5/20\n",
            "105000/105000 [==============================] - 1s 7us/step - loss: 2.0174 - acc: 0.3466 - val_loss: 1.3440 - val_acc: 0.3250\n",
            "Epoch 6/20\n",
            "105000/105000 [==============================] - 1s 7us/step - loss: 2.0169 - acc: 0.3470 - val_loss: 1.2937 - val_acc: 0.3377\n",
            "Epoch 7/20\n",
            "105000/105000 [==============================] - 1s 7us/step - loss: 2.0158 - acc: 0.3523 - val_loss: 1.2024 - val_acc: 0.3842\n",
            "Epoch 8/20\n",
            "105000/105000 [==============================] - 1s 7us/step - loss: 2.0095 - acc: 0.3548 - val_loss: 1.2962 - val_acc: 0.3433\n",
            "Epoch 9/20\n",
            "105000/105000 [==============================] - 1s 7us/step - loss: 2.0093 - acc: 0.3527 - val_loss: 1.3911 - val_acc: 0.3135\n",
            "Epoch 10/20\n",
            "105000/105000 [==============================] - 1s 7us/step - loss: 2.0068 - acc: 0.3541 - val_loss: 1.1924 - val_acc: 0.3914\n",
            "Epoch 11/20\n",
            "105000/105000 [==============================] - 1s 7us/step - loss: 2.0050 - acc: 0.3567 - val_loss: 1.3901 - val_acc: 0.3136\n",
            "Epoch 12/20\n",
            "105000/105000 [==============================] - 1s 7us/step - loss: 2.0042 - acc: 0.3537 - val_loss: 1.2880 - val_acc: 0.3634\n",
            "Epoch 13/20\n",
            "105000/105000 [==============================] - 1s 7us/step - loss: 2.0025 - acc: 0.3593 - val_loss: 1.3374 - val_acc: 0.3311\n",
            "Epoch 14/20\n",
            "105000/105000 [==============================] - 1s 7us/step - loss: 2.0015 - acc: 0.3542 - val_loss: 1.2079 - val_acc: 0.3938\n",
            "Epoch 15/20\n",
            "105000/105000 [==============================] - 1s 7us/step - loss: 1.9996 - acc: 0.3684 - val_loss: 1.2774 - val_acc: 0.3387\n",
            "Epoch 16/20\n",
            "105000/105000 [==============================] - 1s 7us/step - loss: 1.9949 - acc: 0.3517 - val_loss: 1.0866 - val_acc: 0.4514\n",
            "Epoch 17/20\n",
            "105000/105000 [==============================] - 1s 7us/step - loss: 1.9993 - acc: 0.3622 - val_loss: 1.1721 - val_acc: 0.4006\n",
            "Epoch 18/20\n",
            "105000/105000 [==============================] - 1s 7us/step - loss: 1.9928 - acc: 0.3604 - val_loss: 1.1849 - val_acc: 0.4006\n",
            "Epoch 19/20\n",
            "105000/105000 [==============================] - 1s 7us/step - loss: 1.9905 - acc: 0.3593 - val_loss: 1.2794 - val_acc: 0.3670\n",
            "Epoch 20/20\n",
            "105000/105000 [==============================] - 1s 7us/step - loss: 1.9922 - acc: 0.3558 - val_loss: 1.2155 - val_acc: 0.3866\n"
          ],
          "name": "stdout"
        }
      ]
    },
    {
      "cell_type": "code",
      "metadata": {
        "id": "n7bRqIkVb3ZY",
        "colab_type": "code",
        "outputId": "f9f72138-0204-42c7-a1f8-3fc4c014100f",
        "colab": {
          "base_uri": "https://localhost:8080/",
          "height": 386
        }
      },
      "source": [
        "import matplotlib.pyplot as plt\n",
        "%matplotlib inline\n",
        "history_dict = history.history\n",
        "loss_values = history_dict['loss']\n",
        "val_loss_values = history_dict['val_loss']\n",
        "acc_values = history_dict['acc']\n",
        "val_acc_values = history_dict['val_acc']\n",
        "epochs = range(1, len(val_loss_values) + 1)\n",
        "\n",
        "plt.subplot(211)\n",
        "plt.plot(epochs, history.history['loss'], 'r', label='Training loss')\n",
        "plt.plot(epochs, val_loss_values, 'bo', label='Test loss')\n",
        "plt.title('Training and test loss')\n",
        "plt.xlabel('Epochs')\n",
        "plt.ylabel('Loss')\n",
        "plt.legend()\n",
        "plt.grid('off')\n",
        "plt.show()\n",
        "plt.subplot(212)\n",
        "plt.plot(epochs, history.history['acc'], 'r', label='Training accuracy')\n",
        "plt.plot(epochs, val_acc_values, 'bo', label='Test accuracy')\n",
        "plt.title('Training and test accuracy')\n",
        "plt.xlabel('Epochs')\n",
        "plt.ylabel('Accuracy')\n",
        "plt.gca().set_yticklabels(['{:.0f}%'.format(x*100) for x in plt.gca().get_yticks()]) \n",
        "plt.legend()\n",
        "plt.grid('off')\n",
        "plt.show()"
      ],
      "execution_count": 0,
      "outputs": [
        {
          "output_type": "stream",
          "text": [
            "/usr/local/lib/python3.6/dist-packages/matplotlib/cbook/__init__.py:424: MatplotlibDeprecationWarning: \n",
            "Passing one of 'on', 'true', 'off', 'false' as a boolean is deprecated; use an actual boolean (True/False) instead.\n",
            "  warn_deprecated(\"2.2\", \"Passing one of 'on', 'true', 'off', 'false' as a \"\n"
          ],
          "name": "stderr"
        },
        {
          "output_type": "display_data",
          "data": {
            "image/png": "[encoded data removed]",
            "text/plain": [
              "<Figure size 432x288 with 1 Axes>"
            ]
          },
          "metadata": {
            "tags": []
          }
        },
        {
          "output_type": "display_data",
          "data": {
            "image/png": "[encoded data removed]",
            "text/plain": [
              "<Figure size 432x288 with 1 Axes>"
            ]
          },
          "metadata": {
            "tags": []
          }
        }
      ]
    },
    {
      "cell_type": "code",
      "metadata": {
        "id": "jYJkOFPkGbdl",
        "colab_type": "code",
        "outputId": "da927b66-07b4-4810-c803-7d677396a919",
        "colab": {
          "base_uri": "https://localhost:8080/",
          "height": 34
        }
      },
      "source": [
        "pred = model.predict(X_test)\n",
        "test_data = pd.DataFrame([y_test[:,1]]).T\n",
        "test_data['pred']=pred[:,1]\n",
        "test_data = test_data.reset_index(drop='index')\n",
        "test_data = test_data.sort_values(by='pred',ascending=False)\n",
        "test_data.columns = ['Defaultin2yrs','pred']\n",
        "print(test_data[:4500]['Defaultin2yrs'].sum())"
      ],
      "execution_count": 0,
      "outputs": [
        {
          "output_type": "stream",
          "text": [
            "1657.0\n"
          ],
          "name": "stdout"
        }
      ]
    },
    {
      "cell_type": "code",
      "metadata": {
        "id": "pUdG0SgXKsGZ",
        "colab_type": "code",
        "outputId": "1564f2e0-b9ee-4318-bd7f-8e7531426b41",
        "colab": {
          "base_uri": "https://localhost:8080/",
          "height": 34
        }
      },
      "source": [
        "from sklearn.metrics import roc_auc_score\n",
        "\n",
        "pred = model.predict(X_test)\n",
        "roc_auc_score(y_test, pred)"
      ],
      "execution_count": 0,
      "outputs": [
        {
          "output_type": "execute_result",
          "data": {
            "text/plain": [
              "0.8645550496887069"
            ]
          },
          "metadata": {
            "tags": []
          },
          "execution_count": 28
        }
      ]
    }
  ]
}