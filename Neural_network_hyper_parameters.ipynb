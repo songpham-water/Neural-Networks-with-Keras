{
  "nbformat": 4,
  "nbformat_minor": 0,
  "metadata": {
    "colab": {
      "name": "Neural_network_hyper_parameters.ipynb",
      "provenance": [],
      "collapsed_sections": []
    },
    "kernelspec": {
      "name": "python3",
      "display_name": "Python 3"
    },
    "accelerator": "GPU"
  },
  "cells": [
    {
      "cell_type": "markdown",
      "metadata": {
        "id": "nfCKyisr9l6k",
        "colab_type": "text"
      },
      "source": [
        "https://colab.research.google.com/drive/1gcUpK6gm0jRMcs7-8SsDM7Ao089O3V0b"
      ]
    },
    {
      "cell_type": "markdown",
      "metadata": {
        "id": "O6bAYTDQvA9E",
        "colab_type": "text"
      },
      "source": [
        "# Building a Neural Network"
      ]
    },
    {
      "cell_type": "code",
      "metadata": {
        "id": "Ofc-wXYMESXW",
        "colab_type": "code",
        "colab": {
          "base_uri": "https://localhost:8080/",
          "height": 68
        },
        "outputId": "327e4526-e5e4-42c3-88ad-613a5bf729f4"
      },
      "source": [
        "from keras.datasets import mnist\n",
        "import numpy\n",
        "from keras.datasets import mnist\n",
        "from keras.models import Sequential\n",
        "from keras.layers import Dense\n",
        "from keras.layers import Dropout\n",
        "from keras.utils import np_utils\n",
        "(X_train, y_train), (X_test, y_test) = mnist.load_data()"
      ],
      "execution_count": 1,
      "outputs": [
        {
          "output_type": "stream",
          "text": [
            "Using TensorFlow backend.\n"
          ],
          "name": "stderr"
        },
        {
          "output_type": "stream",
          "text": [
            "Downloading data from https://s3.amazonaws.com/img-datasets/mnist.npz\n",
            "11493376/11490434 [==============================] - 2s 0us/step\n"
          ],
          "name": "stdout"
        }
      ]
    },
    {
      "cell_type": "code",
      "metadata": {
        "id": "OxRIzZdKuizI",
        "colab_type": "code",
        "colab": {}
      },
      "source": [
        "num_pixels = X_train.shape[1] * X_train.shape[2]\n",
        "X_train = X_train.reshape(X_train.shape[0], num_pixels).astype('float32')\n",
        "X_test = X_test.reshape(X_test.shape[0], num_pixels).astype('float32')"
      ],
      "execution_count": 0,
      "outputs": []
    },
    {
      "cell_type": "code",
      "metadata": {
        "id": "692WkaMoui3q",
        "colab_type": "code",
        "colab": {}
      },
      "source": [
        "y_train = np_utils.to_categorical(y_train)\n",
        "y_test = np_utils.to_categorical(y_test)\n",
        "num_classes = y_test.shape[1]"
      ],
      "execution_count": 0,
      "outputs": []
    },
    {
      "cell_type": "code",
      "metadata": {
        "id": "tksxAR3CuorW",
        "colab_type": "code",
        "colab": {}
      },
      "source": [
        "model = Sequential()\n",
        "model.add(Dense(1000,input_dim=784,activation='relu'))\n",
        "model.add(Dense(10,  activation='softmax'))\n",
        "model.compile(loss='categorical_crossentropy', optimizer='adam', metrics=['accuracy'])\n",
        "history = model.fit(X_train, y_train, validation_data=(X_test, y_test), epochs=500, batch_size=1024, verbose=1)"
      ],
      "execution_count": 0,
      "outputs": []
    },
    {
      "cell_type": "code",
      "metadata": {
        "id": "8r17OnGnwkhj",
        "colab_type": "code",
        "colab": {}
      },
      "source": [
        "history_dict = history.history\n",
        "loss_values = history_dict['loss']\n",
        "val_loss_values = history_dict['val_loss']\n",
        "acc_values = history_dict['acc']\n",
        "val_acc_values = history_dict['val_acc']\n",
        "epochs = range(1, len(val_loss_values) + 1)"
      ],
      "execution_count": 0,
      "outputs": []
    },
    {
      "cell_type": "code",
      "metadata": {
        "id": "iDY-zI6wwkqM",
        "colab_type": "code",
        "outputId": "3a01a910-2879-46ff-d8fb-cc9cbf015bc0",
        "colab": {
          "base_uri": "https://localhost:8080/",
          "height": 388
        }
      },
      "source": [
        "import matplotlib.ticker as mtick\n",
        "import matplotlib.pyplot as plt\n",
        "%matplotlib inline\n",
        "plt.subplot(211)\n",
        "plt.plot(epochs, history.history['loss'], 'bo', label='Training loss')\n",
        "plt.plot(epochs, val_loss_values, 'r', label='Test loss')\n",
        "plt.title('Training and test loss')\n",
        "plt.xlabel('Epochs')\n",
        "plt.ylabel('Loss')\n",
        "plt.legend()\n",
        "plt.grid('off')\n",
        "plt.show()\n",
        "plt.subplot(212)\n",
        "plt.plot(epochs, history.history['acc'], 'bo', label='Training accuracy')\n",
        "plt.plot(epochs, val_acc_values, 'r', label='Test accuracy')\n",
        "plt.title('Training and test accuracy')\n",
        "plt.xlabel('Epochs')\n",
        "plt.ylabel('Accuracy')\n",
        "plt.gca().set_yticklabels(['{:.0f}%'.format(x*100) for x in plt.gca().get_yticks()]) \n",
        "plt.legend()\n",
        "plt.grid('off')\n",
        "plt.show()"
      ],
      "execution_count": 0,
      "outputs": [
        {
          "output_type": "stream",
          "text": [
            "/usr/local/lib/python3.6/dist-packages/matplotlib/cbook/__init__.py:424: MatplotlibDeprecationWarning: \n",
            "Passing one of 'on', 'true', 'off', 'false' as a boolean is deprecated; use an actual boolean (True/False) instead.\n",
            "  warn_deprecated(\"2.2\", \"Passing one of 'on', 'true', 'off', 'false' as a \"\n"
          ],
          "name": "stderr"
        },
        {
          "output_type": "display_data",
          "data": {
            "image/png": "[encoded data removed]",
            "text/plain": [
              "<Figure size 432x288 with 1 Axes>"
            ]
          },
          "metadata": {
            "tags": []
          }
        },
        {
          "output_type": "display_data",
          "data": {
            "image/png": "[encoded data removed]",
            "text/plain": [
              "<Figure size 432x288 with 1 Axes>"
            ]
          },
          "metadata": {
            "tags": []
          }
        }
      ]
    },
    {
      "cell_type": "markdown",
      "metadata": {
        "id": "cTwAWTGHvKS1",
        "colab_type": "text"
      },
      "source": [
        "# Building a neural network with scaling"
      ]
    },
    {
      "cell_type": "code",
      "metadata": {
        "id": "uxDunHZlEUiZ",
        "colab_type": "code",
        "colab": {}
      },
      "source": [
        "# num_pixels = X_train.shape[1] * X_train.shape[2]\n",
        "# X_train = X_train.reshape(X_train.shape[0], num_pixels).astype('float32')\n",
        "# X_test = X_test.reshape(X_test.shape[0], num_pixels).astype('float32')\n",
        "\n",
        "# Commenting this out coz this is already reshaped"
      ],
      "execution_count": 0,
      "outputs": []
    },
    {
      "cell_type": "code",
      "metadata": {
        "id": "K4b3fPPLEZLc",
        "colab_type": "code",
        "colab": {}
      },
      "source": [
        "X_train = X_train/255\n",
        "X_test = X_test/255"
      ],
      "execution_count": 0,
      "outputs": []
    },
    {
      "cell_type": "code",
      "metadata": {
        "id": "EplGPwFdEagq",
        "colab_type": "code",
        "colab": {}
      },
      "source": [
        "# y_train = np_utils.to_categorical(y_train)\n",
        "# y_test = np_utils.to_categorical(y_test)\n",
        "# num_classes = y_test.shape[1]\n",
        "\n",
        "# Redundant as already done in the first part"
      ],
      "execution_count": 0,
      "outputs": []
    },
    {
      "cell_type": "code",
      "metadata": {
        "id": "zv6K4zn6EbvA",
        "colab_type": "code",
        "colab": {}
      },
      "source": [
        "model = Sequential()\n",
        "model.add(Dense(1000,input_dim=784,activation='relu'))\n",
        "model.add(Dense(10,  activation='softmax'))\n",
        "model.compile(loss='categorical_crossentropy', optimizer='adam', metrics=['accuracy'])\n",
        "history = model.fit(X_train, y_train, validation_data=(X_test, y_test), epochs=500, batch_size=1024, verbose=1)"
      ],
      "execution_count": 0,
      "outputs": []
    },
    {
      "cell_type": "code",
      "metadata": {
        "id": "BBEldkcCEduj",
        "colab_type": "code",
        "colab": {}
      },
      "source": [
        "history_dict = history.history\n",
        "loss_values = history_dict['loss']\n",
        "val_loss_values = history_dict['val_loss']\n",
        "acc_values = history_dict['acc']\n",
        "val_acc_values = history_dict['val_acc']\n",
        "epochs = range(1, len(val_loss_values) + 1)"
      ],
      "execution_count": 0,
      "outputs": []
    },
    {
      "cell_type": "code",
      "metadata": {
        "id": "7rxTPoDhEpfY",
        "colab_type": "code",
        "outputId": "9eab4a38-d679-4afd-a185-f87da5dca8b4",
        "colab": {
          "base_uri": "https://localhost:8080/",
          "height": 388
        }
      },
      "source": [
        "import matplotlib.ticker as mtick\n",
        "import matplotlib.pyplot as plt\n",
        "%matplotlib inline\n",
        "plt.subplot(211)\n",
        "plt.plot(epochs, history.history['loss'], 'bo', label='Training loss')\n",
        "plt.plot(epochs, val_loss_values, 'r', label='Test loss')\n",
        "plt.title('Training and test loss')\n",
        "plt.xlabel('Epochs')\n",
        "plt.ylabel('Loss')\n",
        "plt.legend()\n",
        "plt.grid('off')\n",
        "plt.show()\n",
        "plt.subplot(212)\n",
        "plt.plot(epochs, history.history['acc'], 'bo', label='Training accuracy')\n",
        "plt.plot(epochs, val_acc_values, 'r', label='Test accuracy')\n",
        "plt.title('Training and test accuracy')\n",
        "plt.xlabel('Epochs')\n",
        "plt.ylabel('Accuracy')\n",
        "plt.gca().set_yticklabels(['{:.0f}%'.format(x*100) for x in plt.gca().get_yticks()]) \n",
        "plt.legend()\n",
        "plt.grid('off')\n",
        "plt.show()"
      ],
      "execution_count": 0,
      "outputs": [
        {
          "output_type": "stream",
          "text": [
            "/usr/local/lib/python3.6/dist-packages/matplotlib/cbook/__init__.py:424: MatplotlibDeprecationWarning: \n",
            "Passing one of 'on', 'true', 'off', 'false' as a boolean is deprecated; use an actual boolean (True/False) instead.\n",
            "  warn_deprecated(\"2.2\", \"Passing one of 'on', 'true', 'off', 'false' as a \"\n"
          ],
          "name": "stderr"
        },
        {
          "output_type": "display_data",
          "data": {
            "image/png": "[encoded data removed]",
            "text/plain": [
              "<Figure size 432x288 with 1 Axes>"
            ]
          },
          "metadata": {
            "tags": []
          }
        },
        {
          "output_type": "display_data",
          "data": {
            "image/png": "[encoded data removed]",
            "text/plain": [
              "<Figure size 432x288 with 1 Axes>"
            ]
          },
          "metadata": {
            "tags": []
          }
        }
      ]
    },
    {
      "cell_type": "code",
      "metadata": {
        "id": "XprbehjnGKnQ",
        "colab_type": "code",
        "colab": {}
      },
      "source": [
        ""
      ],
      "execution_count": 0,
      "outputs": []
    },
    {
      "cell_type": "code",
      "metadata": {
        "id": "xdJ9hDCuGKqf",
        "colab_type": "code",
        "colab": {}
      },
      "source": [
        ""
      ],
      "execution_count": 0,
      "outputs": []
    },
    {
      "cell_type": "markdown",
      "metadata": {
        "id": "UoWEn-MzvQs7",
        "colab_type": "text"
      },
      "source": [
        "# Impact of having high number of non-zero values"
      ]
    },
    {
      "cell_type": "code",
      "metadata": {
        "id": "4uoWbS2ZSase",
        "colab_type": "code",
        "colab": {}
      },
      "source": [
        "from keras.datasets import mnist\n",
        "import numpy\n",
        "from keras.datasets import mnist\n",
        "from keras.models import Sequential\n",
        "from keras.layers import Dense\n",
        "from keras.layers import Dropout\n",
        "from keras.utils import np_utils\n",
        "(X_train, y_train), (X_test, y_test) = mnist.load_data()\n",
        "\n",
        "num_pixels = X_train.shape[1] * X_train.shape[2]\n",
        "X_train = X_train.reshape(X_train.shape[0], num_pixels).astype('float32')\n",
        "X_test = X_test.reshape(X_test.shape[0], num_pixels).astype('float32')\n",
        "\n",
        "y_train = np_utils.to_categorical(y_train)\n",
        "y_test = np_utils.to_categorical(y_test)\n",
        "num_classes = y_test.shape[1]"
      ],
      "execution_count": 0,
      "outputs": []
    },
    {
      "cell_type": "code",
      "metadata": {
        "id": "JFWX--OvGKtT",
        "colab_type": "code",
        "outputId": "601aa347-8aec-4c39-8ec8-9bdee9d105e9",
        "colab": {
          "base_uri": "https://localhost:8080/",
          "height": 34
        }
      },
      "source": [
        "28*28*X_train.shape[0]"
      ],
      "execution_count": 0,
      "outputs": [
        {
          "output_type": "execute_result",
          "data": {
            "text/plain": [
              "47040000"
            ]
          },
          "metadata": {
            "tags": []
          },
          "execution_count": 10
        }
      ]
    },
    {
      "cell_type": "code",
      "metadata": {
        "id": "gJaoAK9TGKwM",
        "colab_type": "code",
        "outputId": "c53ed7e8-7cda-458d-8e14-57c87448858d",
        "colab": {
          "base_uri": "https://localhost:8080/",
          "height": 34
        }
      },
      "source": [
        "X_train.flatten().shape"
      ],
      "execution_count": 0,
      "outputs": [
        {
          "output_type": "execute_result",
          "data": {
            "text/plain": [
              "(47040000,)"
            ]
          },
          "metadata": {
            "tags": []
          },
          "execution_count": 11
        }
      ]
    },
    {
      "cell_type": "code",
      "metadata": {
        "id": "hn0b9j4KS1xu",
        "colab_type": "code",
        "colab": {}
      },
      "source": [
        "X_train/=255\n",
        "X_test/=255"
      ],
      "execution_count": 0,
      "outputs": []
    },
    {
      "cell_type": "code",
      "metadata": {
        "id": "0iofD1SfGKyz",
        "colab_type": "code",
        "outputId": "0ca9d6d4-ad3f-47eb-ec6a-b97bc23ec0df",
        "colab": {
          "base_uri": "https://localhost:8080/",
          "height": 363
        }
      },
      "source": [
        "import matplotlib.pyplot as plt\n",
        "%matplotlib inline\n",
        "plt.hist(X_train.flatten())\n",
        "plt.grid('off')\n",
        "plt.title('Histogram of input values')\n",
        "plt.xlabel('Input values')\n",
        "plt.ylabel('Frequency of input values')"
      ],
      "execution_count": 0,
      "outputs": [
        {
          "output_type": "stream",
          "text": [
            "/usr/local/lib/python3.6/dist-packages/matplotlib/cbook/__init__.py:424: MatplotlibDeprecationWarning: \n",
            "Passing one of 'on', 'true', 'off', 'false' as a boolean is deprecated; use an actual boolean (True/False) instead.\n",
            "  warn_deprecated(\"2.2\", \"Passing one of 'on', 'true', 'off', 'false' as a \"\n"
          ],
          "name": "stderr"
        },
        {
          "output_type": "execute_result",
          "data": {
            "text/plain": [
              "Text(0, 0.5, 'Frequency of input values')"
            ]
          },
          "metadata": {
            "tags": []
          },
          "execution_count": 27
        },
        {
          "output_type": "display_data",
          "data": {
            "image/png": "[encoded data removed]",
            "text/plain": [
              "<Figure size 432x288 with 1 Axes>"
            ]
          },
          "metadata": {
            "tags": []
          }
        }
      ]
    },
    {
      "cell_type": "code",
      "metadata": {
        "id": "B5BF75GIGeV3",
        "colab_type": "code",
        "colab": {}
      },
      "source": [
        "X_train = 1-X_train\n",
        "X_test = 1-X_test"
      ],
      "execution_count": 0,
      "outputs": []
    },
    {
      "cell_type": "code",
      "metadata": {
        "id": "eifmkUNUT_Nq",
        "colab_type": "code",
        "outputId": "10af79e0-861f-4858-d8f1-4b6a6b521a7b",
        "colab": {
          "base_uri": "https://localhost:8080/",
          "height": 34
        }
      },
      "source": [
        "X_train.shape"
      ],
      "execution_count": 0,
      "outputs": [
        {
          "output_type": "execute_result",
          "data": {
            "text/plain": [
              "(60000, 784)"
            ]
          },
          "metadata": {
            "tags": []
          },
          "execution_count": 29
        }
      ]
    },
    {
      "cell_type": "code",
      "metadata": {
        "id": "jaZA3Jl-TtTE",
        "colab_type": "code",
        "outputId": "20c5cb14-1494-4a15-8a09-1a632652f104",
        "colab": {
          "base_uri": "https://localhost:8080/",
          "height": 320
        }
      },
      "source": [
        "import matplotlib.pyplot as plt\n",
        "%matplotlib inline\n",
        "plt.subplot(221)\n",
        "plt.imshow(X_train[0].reshape(28,28), cmap=plt.get_cmap('gray'))\n",
        "plt.grid('off')\n",
        "plt.subplot(222)\n",
        "plt.imshow(X_train[1].reshape(28,28), cmap=plt.get_cmap('gray'))\n",
        "plt.grid('off')\n",
        "plt.subplot(223)\n",
        "plt.imshow(X_train[2].reshape(28,28), cmap=plt.get_cmap('gray'))\n",
        "plt.grid('off')\n",
        "plt.subplot(224)\n",
        "plt.imshow(X_train[3].reshape(28,28), cmap=plt.get_cmap('gray'))\n",
        "plt.grid('off')\n",
        "plt.show()"
      ],
      "execution_count": 0,
      "outputs": [
        {
          "output_type": "stream",
          "text": [
            "/usr/local/lib/python3.6/dist-packages/matplotlib/cbook/__init__.py:424: MatplotlibDeprecationWarning: \n",
            "Passing one of 'on', 'true', 'off', 'false' as a boolean is deprecated; use an actual boolean (True/False) instead.\n",
            "  warn_deprecated(\"2.2\", \"Passing one of 'on', 'true', 'off', 'false' as a \"\n"
          ],
          "name": "stderr"
        },
        {
          "output_type": "display_data",
          "data": {
            "image/png": "[encoded data removed]",
            "text/plain": [
              "<Figure size 432x288 with 4 Axes>"
            ]
          },
          "metadata": {
            "tags": []
          }
        }
      ]
    },
    {
      "cell_type": "code",
      "metadata": {
        "id": "KUEeoXAbGj40",
        "colab_type": "code",
        "outputId": "049e6d67-f415-4f1a-ffb0-3c96f307737e",
        "colab": {
          "base_uri": "https://localhost:8080/",
          "height": 363
        }
      },
      "source": [
        "plt.hist(X_train.flatten())\n",
        "plt.grid('off')\n",
        "plt.title('Histogram of input values')\n",
        "plt.xlabel('Input values')\n",
        "plt.ylabel('Frequency of input values')"
      ],
      "execution_count": 0,
      "outputs": [
        {
          "output_type": "stream",
          "text": [
            "/usr/local/lib/python3.6/dist-packages/matplotlib/cbook/__init__.py:424: MatplotlibDeprecationWarning: \n",
            "Passing one of 'on', 'true', 'off', 'false' as a boolean is deprecated; use an actual boolean (True/False) instead.\n",
            "  warn_deprecated(\"2.2\", \"Passing one of 'on', 'true', 'off', 'false' as a \"\n"
          ],
          "name": "stderr"
        },
        {
          "output_type": "execute_result",
          "data": {
            "text/plain": [
              "Text(0, 0.5, 'Frequency of input values')"
            ]
          },
          "metadata": {
            "tags": []
          },
          "execution_count": 31
        },
        {
          "output_type": "display_data",
          "data": {
            "image/png": "[encoded data removed]",
            "text/plain": [
              "<Figure size 432x288 with 1 Axes>"
            ]
          },
          "metadata": {
            "tags": []
          }
        }
      ]
    },
    {
      "cell_type": "code",
      "metadata": {
        "id": "gFRvtodoGlLm",
        "colab_type": "code",
        "colab": {}
      },
      "source": [
        "model = Sequential()\n",
        "model.add(Dense(1000,input_dim=784,activation='relu'))\n",
        "model.add(Dense(10,  activation='softmax'))\n",
        "model.compile(loss='categorical_crossentropy', optimizer='adam', metrics=['accuracy'])\n",
        "history = model.fit(X_train, y_train, validation_data=(X_test, y_test), epochs=100, batch_size=32, verbose=1)"
      ],
      "execution_count": 0,
      "outputs": []
    },
    {
      "cell_type": "code",
      "metadata": {
        "id": "gEiXKxkcGoIH",
        "colab_type": "code",
        "colab": {}
      },
      "source": [
        "history_dict = history.history\n",
        "loss_values = history_dict['loss']\n",
        "val_loss_values = history_dict['val_loss']\n",
        "acc_values = history_dict['acc']\n",
        "val_acc_values = history_dict['val_acc']\n",
        "epochs = range(1, len(val_loss_values) + 1)"
      ],
      "execution_count": 0,
      "outputs": []
    },
    {
      "cell_type": "code",
      "metadata": {
        "id": "kESfp1MAHmtD",
        "colab_type": "code",
        "outputId": "7046fbc0-4b91-40d1-bad6-c7568d596f3c",
        "colab": {
          "base_uri": "https://localhost:8080/",
          "height": 388
        }
      },
      "source": [
        "import matplotlib.pyplot as plt\n",
        "%matplotlib inline\n",
        "plt.subplot(211)\n",
        "plt.plot(epochs, history.history['loss'], 'bo', label='Training loss')\n",
        "plt.plot(epochs, val_loss_values, 'r', label='Test loss')\n",
        "plt.title('Training and test loss')\n",
        "plt.xlabel('Epochs')\n",
        "plt.ylabel('Loss')\n",
        "plt.legend()\n",
        "plt.grid('off')\n",
        "plt.show()\n",
        "plt.subplot(212)\n",
        "plt.plot(epochs, history.history['acc'], 'bo', label='Training accuracy')\n",
        "plt.plot(epochs, val_acc_values, 'r', label='Test accuracy')\n",
        "plt.title('Training and test accuracy')\n",
        "plt.xlabel('Epochs')\n",
        "plt.ylabel('Accuracy')\n",
        "plt.gca().set_yticklabels(['{:.0f}%'.format(x*100) for x in plt.gca().get_yticks()]) \n",
        "plt.legend()\n",
        "plt.grid('off')\n",
        "plt.show()"
      ],
      "execution_count": 0,
      "outputs": [
        {
          "output_type": "stream",
          "text": [
            "/usr/local/lib/python3.6/dist-packages/matplotlib/cbook/__init__.py:424: MatplotlibDeprecationWarning: \n",
            "Passing one of 'on', 'true', 'off', 'false' as a boolean is deprecated; use an actual boolean (True/False) instead.\n",
            "  warn_deprecated(\"2.2\", \"Passing one of 'on', 'true', 'off', 'false' as a \"\n"
          ],
          "name": "stderr"
        },
        {
          "output_type": "display_data",
          "data": {
            "image/png": "[encoded data removed]",
            "text/plain": [
              "<Figure size 432x288 with 1 Axes>"
            ]
          },
          "metadata": {
            "tags": []
          }
        },
        {
          "output_type": "display_data",
          "data": {
            "image/png": "[encoded data removed]",
            "text/plain": [
              "<Figure size 432x288 with 1 Axes>"
            ]
          },
          "metadata": {
            "tags": []
          }
        }
      ]
    },
    {
      "cell_type": "code",
      "metadata": {
        "id": "FAf4uqKmHqTo",
        "colab_type": "code",
        "colab": {}
      },
      "source": [
        ""
      ],
      "execution_count": 0,
      "outputs": []
    },
    {
      "cell_type": "code",
      "metadata": {
        "id": "ef0yyZaJHtTd",
        "colab_type": "code",
        "colab": {}
      },
      "source": [
        ""
      ],
      "execution_count": 0,
      "outputs": []
    },
    {
      "cell_type": "markdown",
      "metadata": {
        "id": "MnGGemzqvaDZ",
        "colab_type": "text"
      },
      "source": [
        "# Impact of high batch size on network learning"
      ]
    },
    {
      "cell_type": "code",
      "metadata": {
        "id": "YdzfWMfQHtWP",
        "colab_type": "code",
        "colab": {}
      },
      "source": [
        "(X_train, y_train), (X_test, y_test) = mnist.load_data()\n",
        "num_pixels = X_train.shape[1] * X_train.shape[2]\n",
        "X_train = X_train.reshape(X_train.shape[0], num_pixels).astype('float32')\n",
        "X_test = X_test.reshape(X_test.shape[0], num_pixels).astype('float32')\n",
        "X_train = X_train/255\n",
        "X_test = X_test/255\n",
        "y_train = np_utils.to_categorical(y_train)\n",
        "y_test = np_utils.to_categorical(y_test)\n",
        "num_classes = y_test.shape[1]\n",
        "model = Sequential()\n",
        "model.add(Dense(1000,input_dim=784,activation='relu'))\n",
        "model.add(Dense(10,  activation='softmax'))\n",
        "model.compile(loss='categorical_crossentropy', optimizer='adam', metrics=['accuracy'])\n",
        "history = model.fit(X_train, y_train, validation_data=(X_test, y_test), epochs=500, batch_size=32000, verbose=1)"
      ],
      "execution_count": 0,
      "outputs": []
    },
    {
      "cell_type": "code",
      "metadata": {
        "id": "IrpPa_CqICCp",
        "colab_type": "code",
        "colab": {}
      },
      "source": [
        "history_dict = history.history\n",
        "loss_values = history_dict['loss']\n",
        "val_loss_values = history_dict['val_loss']\n",
        "acc_values = history_dict['acc']\n",
        "val_acc_values = history_dict['val_acc']\n",
        "epochs = range(1, len(val_loss_values) + 1)"
      ],
      "execution_count": 0,
      "outputs": []
    },
    {
      "cell_type": "code",
      "metadata": {
        "id": "-f644nmaIGvk",
        "colab_type": "code",
        "outputId": "25dbc3ca-c4ad-40d3-bc72-2b659978c1c7",
        "colab": {
          "base_uri": "https://localhost:8080/",
          "height": 388
        }
      },
      "source": [
        "import matplotlib.pyplot as plt\n",
        "%matplotlib inline\n",
        "plt.subplot(211)\n",
        "plt.plot(epochs, history.history['loss'], 'bo', label='Training loss')\n",
        "plt.plot(epochs, val_loss_values, 'r', label='Test loss')\n",
        "plt.title('Training and test loss')\n",
        "plt.xlabel('Epochs')\n",
        "plt.ylabel('Loss')\n",
        "plt.legend()\n",
        "plt.grid('off')\n",
        "plt.show()\n",
        "plt.subplot(212)\n",
        "plt.plot(epochs, history.history['acc'], 'bo', label='Training accuracy')\n",
        "plt.plot(epochs, val_acc_values, 'r', label='Test accuracy')\n",
        "plt.title('Training and test accuracy')\n",
        "plt.xlabel('Epochs')\n",
        "plt.ylabel('Accuracy')\n",
        "plt.gca().set_yticklabels(['{:.0f}%'.format(x*100) for x in plt.gca().get_yticks()]) \n",
        "plt.legend()\n",
        "plt.grid('off')\n",
        "plt.show()"
      ],
      "execution_count": 0,
      "outputs": [
        {
          "output_type": "stream",
          "text": [
            "/usr/local/lib/python3.6/dist-packages/matplotlib/cbook/__init__.py:424: MatplotlibDeprecationWarning: \n",
            "Passing one of 'on', 'true', 'off', 'false' as a boolean is deprecated; use an actual boolean (True/False) instead.\n",
            "  warn_deprecated(\"2.2\", \"Passing one of 'on', 'true', 'off', 'false' as a \"\n"
          ],
          "name": "stderr"
        },
        {
          "output_type": "display_data",
          "data": {
            "image/png": "[encoded data removed]",
            "text/plain": [
              "<Figure size 432x288 with 1 Axes>"
            ]
          },
          "metadata": {
            "tags": []
          }
        },
        {
          "output_type": "display_data",
          "data": {
            "image/png": "[encoded data removed]",
            "text/plain": [
              "<Figure size 432x288 with 1 Axes>"
            ]
          },
          "metadata": {
            "tags": []
          }
        }
      ]
    },
    {
      "cell_type": "code",
      "metadata": {
        "id": "rPwPwI4GIS3T",
        "colab_type": "code",
        "colab": {}
      },
      "source": [
        ""
      ],
      "execution_count": 0,
      "outputs": []
    },
    {
      "cell_type": "code",
      "metadata": {
        "id": "2APS-DZuIS5z",
        "colab_type": "code",
        "colab": {}
      },
      "source": [
        ""
      ],
      "execution_count": 0,
      "outputs": []
    },
    {
      "cell_type": "code",
      "metadata": {
        "id": "RkoJFr7PIS87",
        "colab_type": "code",
        "colab": {}
      },
      "source": [
        ""
      ],
      "execution_count": 0,
      "outputs": []
    },
    {
      "cell_type": "markdown",
      "metadata": {
        "id": "YoD212fDvgpM",
        "colab_type": "text"
      },
      "source": [
        "# Building a deep neural network"
      ]
    },
    {
      "cell_type": "code",
      "metadata": {
        "id": "udSOPT-9IS_O",
        "colab_type": "code",
        "colab": {}
      },
      "source": [
        "(X_train, y_train), (X_test, y_test) = mnist.load_data()\n",
        "num_pixels = X_train.shape[1] * X_train.shape[2]\n",
        "X_train = X_train.reshape(X_train.shape[0], num_pixels).astype('float32')\n",
        "X_test = X_test.reshape(X_test.shape[0], num_pixels).astype('float32')\n",
        "X_train = X_train/255\n",
        "X_test = X_test/255\n",
        "y_train = np_utils.to_categorical(y_train)\n",
        "y_test = np_utils.to_categorical(y_test)\n",
        "num_classes = y_test.shape[1]\n",
        "model = Sequential()\n",
        "model.add(Dense(1000, input_dim=784, activation='relu'))\n",
        "model.add(Dense(1000,activation='relu'))\n",
        "model.add(Dense(1000,activation='relu'))\n",
        "model.add(Dense(10,  activation='softmax'))\n",
        "model.compile(loss='categorical_crossentropy', optimizer='adam', metrics=['accuracy'])\n",
        "history = model.fit(X_train, y_train, validation_data=(X_test, y_test), epochs=100, batch_size=1024, verbose=1)"
      ],
      "execution_count": 0,
      "outputs": []
    },
    {
      "cell_type": "code",
      "metadata": {
        "id": "bkhGMJnkIdtD",
        "colab_type": "code",
        "colab": {}
      },
      "source": [
        "history_dict = history.history\n",
        "loss_values = history_dict['loss']\n",
        "val_loss_values = history_dict['val_loss']\n",
        "acc_values = history_dict['acc']\n",
        "val_acc_values = history_dict['val_acc']\n",
        "epochs = range(1, len(val_loss_values) + 1)"
      ],
      "execution_count": 0,
      "outputs": []
    },
    {
      "cell_type": "code",
      "metadata": {
        "id": "fhDKd4QhKmrR",
        "colab_type": "code",
        "outputId": "213f3189-82ea-412c-b373-dbd333607edc",
        "colab": {
          "base_uri": "https://localhost:8080/",
          "height": 388
        }
      },
      "source": [
        "import matplotlib.pyplot as plt\n",
        "%matplotlib inline\n",
        "plt.subplot(211)\n",
        "plt.plot(epochs, history.history['loss'], 'bo', label='Training loss')\n",
        "plt.plot(epochs, val_loss_values, 'r', label='Test loss')\n",
        "plt.title('Training and test loss')\n",
        "plt.xlabel('Epochs')\n",
        "plt.ylabel('Loss')\n",
        "plt.legend()\n",
        "plt.grid('off')\n",
        "plt.show()\n",
        "plt.subplot(212)\n",
        "plt.plot(epochs, history.history['acc'], 'bo', label='Training accuracy')\n",
        "plt.plot(epochs, val_acc_values, 'r', label='Test accuracy')\n",
        "plt.title('Training and test accuracy')\n",
        "plt.xlabel('Epochs')\n",
        "plt.ylabel('Accuracy')\n",
        "plt.gca().set_yticklabels(['{:.0f}%'.format(x*100) for x in plt.gca().get_yticks()]) \n",
        "plt.legend()\n",
        "plt.grid('off')\n",
        "plt.show()"
      ],
      "execution_count": 0,
      "outputs": [
        {
          "output_type": "stream",
          "text": [
            "/usr/local/lib/python3.6/dist-packages/matplotlib/cbook/__init__.py:424: MatplotlibDeprecationWarning: \n",
            "Passing one of 'on', 'true', 'off', 'false' as a boolean is deprecated; use an actual boolean (True/False) instead.\n",
            "  warn_deprecated(\"2.2\", \"Passing one of 'on', 'true', 'off', 'false' as a \"\n"
          ],
          "name": "stderr"
        },
        {
          "output_type": "display_data",
          "data": {
            "image/png": "[encoded data removed]",
            "text/plain": [
              "<Figure size 432x288 with 1 Axes>"
            ]
          },
          "metadata": {
            "tags": []
          }
        },
        {
          "output_type": "display_data",
          "data": {
            "image/png": "[encoded data removed]",
            "text/plain": [
              "<Figure size 432x288 with 1 Axes>"
            ]
          },
          "metadata": {
            "tags": []
          }
        }
      ]
    },
    {
      "cell_type": "code",
      "metadata": {
        "id": "9NoxtCpDKoiL",
        "colab_type": "code",
        "colab": {}
      },
      "source": [
        ""
      ],
      "execution_count": 0,
      "outputs": []
    },
    {
      "cell_type": "markdown",
      "metadata": {
        "id": "XESDt-TsvoaW",
        "colab_type": "text"
      },
      "source": [
        "# Impact of varying learning rate on network accuracy"
      ]
    },
    {
      "cell_type": "code",
      "metadata": {
        "id": "zI97Pn3BKpEC",
        "colab_type": "code",
        "colab": {}
      },
      "source": [
        "from keras.optimizers import Adam\n",
        "adam = Adam(lr = 0.1)"
      ],
      "execution_count": 0,
      "outputs": []
    },
    {
      "cell_type": "code",
      "metadata": {
        "id": "ylMTLksYKpGs",
        "colab_type": "code",
        "colab": {}
      },
      "source": [
        "model = Sequential()\n",
        "model.add(Dense(1000,input_dim=784,activation='relu'))\n",
        "model.add(Dense(10,  activation='softmax'))\n",
        "model.compile(loss='categorical_crossentropy', optimizer=adam, metrics=['accuracy'])\n",
        "history = model.fit(X_train, y_train, validation_data=(X_test, y_test), epochs=500, batch_size=1024, verbose=1)"
      ],
      "execution_count": 0,
      "outputs": []
    },
    {
      "cell_type": "code",
      "metadata": {
        "id": "dWGWLBB6KpKj",
        "colab_type": "code",
        "colab": {}
      },
      "source": [
        "history_dict = history.history\n",
        "loss_values = history_dict['loss']\n",
        "val_loss_values = history_dict['val_loss']\n",
        "acc_values = history_dict['acc']\n",
        "val_acc_values = history_dict['val_acc']\n",
        "epochs = range(1, len(val_loss_values) + 1)"
      ],
      "execution_count": 0,
      "outputs": []
    },
    {
      "cell_type": "code",
      "metadata": {
        "id": "acGDwHWoMBaV",
        "colab_type": "code",
        "outputId": "f868702a-8369-4897-ad51-99412fe52280",
        "colab": {
          "base_uri": "https://localhost:8080/",
          "height": 388
        }
      },
      "source": [
        "import matplotlib.pyplot as plt\n",
        "%matplotlib inline\n",
        "plt.subplot(211)\n",
        "plt.plot(epochs, history.history['loss'], 'bo', label='Training loss')\n",
        "plt.plot(epochs, val_loss_values, 'r', label='Test loss')\n",
        "plt.title('Training and test loss')\n",
        "plt.xlabel('Epochs')\n",
        "plt.ylabel('Loss')\n",
        "plt.legend()\n",
        "plt.grid('off')\n",
        "plt.show()\n",
        "plt.subplot(212)\n",
        "plt.plot(epochs, history.history['acc'], 'bo', label='Training accuracy')\n",
        "plt.plot(epochs, val_acc_values, 'r', label='Test accuracy')\n",
        "plt.title('Training and test accuracy')\n",
        "plt.xlabel('Epochs')\n",
        "plt.ylabel('Accuracy')\n",
        "plt.gca().set_yticklabels(['{:.0f}%'.format(x*100) for x in plt.gca().get_yticks()]) \n",
        "plt.legend()\n",
        "plt.grid('off')\n",
        "plt.show()"
      ],
      "execution_count": 0,
      "outputs": [
        {
          "output_type": "stream",
          "text": [
            "/usr/local/lib/python3.6/dist-packages/matplotlib/cbook/__init__.py:424: MatplotlibDeprecationWarning: \n",
            "Passing one of 'on', 'true', 'off', 'false' as a boolean is deprecated; use an actual boolean (True/False) instead.\n",
            "  warn_deprecated(\"2.2\", \"Passing one of 'on', 'true', 'off', 'false' as a \"\n"
          ],
          "name": "stderr"
        },
        {
          "output_type": "display_data",
          "data": {
            "image/png": "[encoded data removed]",
            "text/plain": [
              "<Figure size 432x288 with 1 Axes>"
            ]
          },
          "metadata": {
            "tags": []
          }
        },
        {
          "output_type": "display_data",
          "data": {
            "image/png": "[encoded data removed]",
            "text/plain": [
              "<Figure size 432x288 with 1 Axes>"
            ]
          },
          "metadata": {
            "tags": []
          }
        }
      ]
    },
    {
      "cell_type": "code",
      "metadata": {
        "id": "qCLaMTJke3Z3",
        "colab_type": "code",
        "colab": {}
      },
      "source": [
        ""
      ],
      "execution_count": 0,
      "outputs": []
    },
    {
      "cell_type": "code",
      "metadata": {
        "id": "3t8abtzVe3W5",
        "colab_type": "code",
        "colab": {}
      },
      "source": [
        ""
      ],
      "execution_count": 0,
      "outputs": []
    },
    {
      "cell_type": "code",
      "metadata": {
        "id": "IND-0Ln8MBeO",
        "colab_type": "code",
        "colab": {}
      },
      "source": [
        ""
      ],
      "execution_count": 0,
      "outputs": []
    },
    {
      "cell_type": "markdown",
      "metadata": {
        "id": "Eofhnm4HvtT5",
        "colab_type": "text"
      },
      "source": [
        "# Impact of varying optimizers on network accuracy"
      ]
    },
    {
      "cell_type": "code",
      "metadata": {
        "id": "jJ_1s1qcZ_w6",
        "colab_type": "code",
        "colab": {}
      },
      "source": [
        "(X_train, y_train), (X_test, y_test) = mnist.load_data()\n",
        "num_pixels = X_train.shape[1] * X_train.shape[2]\n",
        "X_train = X_train.reshape(X_train.shape[0], num_pixels).astype('float32')\n",
        "X_test = X_test.reshape(X_test.shape[0], num_pixels).astype('float32')\n",
        "X_train = X_train/255\n",
        "X_test = X_test/255\n",
        "y_train = np_utils.to_categorical(y_train)\n",
        "y_test = np_utils.to_categorical(y_test)\n",
        "num_classes = y_test.shape[1]"
      ],
      "execution_count": 0,
      "outputs": []
    },
    {
      "cell_type": "code",
      "metadata": {
        "id": "CdRB9liGMBhD",
        "colab_type": "code",
        "colab": {}
      },
      "source": [
        "model = Sequential()\n",
        "model.add(Dense(1000,input_dim=784,activation='relu'))\n",
        "model.add(Dense(10,  activation='softmax'))\n",
        "model.compile(loss='categorical_crossentropy', optimizer='sgd', metrics=['accuracy'])\n",
        "history = model.fit(X_train, y_train, validation_data=(X_test, y_test), epochs=100, batch_size=32, verbose=1)"
      ],
      "execution_count": 0,
      "outputs": []
    },
    {
      "cell_type": "code",
      "metadata": {
        "id": "9mJn0xjd9Vw0",
        "colab_type": "code",
        "colab": {}
      },
      "source": [
        "history_dict = history.history\n",
        "loss_values = history_dict['loss']\n",
        "val_loss_values = history_dict['val_loss']\n",
        "acc_values = history_dict['acc']\n",
        "val_acc_values = history_dict['val_acc']\n",
        "epochs = range(1, len(val_loss_values) + 1)"
      ],
      "execution_count": 0,
      "outputs": []
    },
    {
      "cell_type": "code",
      "metadata": {
        "id": "SGNat5v4MG6x",
        "colab_type": "code",
        "outputId": "b4bf2441-8772-4ac2-c003-e8343bdfa21e",
        "colab": {
          "base_uri": "https://localhost:8080/",
          "height": 388
        }
      },
      "source": [
        "import matplotlib.pyplot as plt\n",
        "%matplotlib inline\n",
        "plt.subplot(211)\n",
        "plt.plot(epochs, history.history['loss'], 'bo', label='Training loss')\n",
        "plt.plot(epochs, val_loss_values, 'r', label='Test loss')\n",
        "plt.title('Training and test loss')\n",
        "plt.xlabel('Epochs')\n",
        "plt.ylabel('Loss')\n",
        "plt.legend()\n",
        "plt.grid('off')\n",
        "plt.show()\n",
        "plt.subplot(212)\n",
        "plt.plot(epochs, history.history['acc'], 'bo', label='Training accuracy')\n",
        "plt.plot(epochs, val_acc_values, 'r', label='Test accuracy')\n",
        "plt.title('Training and test accuracy')\n",
        "plt.xlabel('Epochs')\n",
        "plt.ylabel('Accuracy')\n",
        "plt.gca().set_yticklabels(['{:.0f}%'.format(x*100) for x in plt.gca().get_yticks()]) \n",
        "plt.legend()\n",
        "plt.grid('off')\n",
        "plt.show()"
      ],
      "execution_count": 9,
      "outputs": [
        {
          "output_type": "stream",
          "text": [
            "/usr/local/lib/python3.6/dist-packages/matplotlib/cbook/__init__.py:424: MatplotlibDeprecationWarning: \n",
            "Passing one of 'on', 'true', 'off', 'false' as a boolean is deprecated; use an actual boolean (True/False) instead.\n",
            "  warn_deprecated(\"2.2\", \"Passing one of 'on', 'true', 'off', 'false' as a \"\n"
          ],
          "name": "stderr"
        },
        {
          "output_type": "display_data",
          "data": {
            "image/png": "[encoded data removed]",
            "text/plain": [
              "<Figure size 432x288 with 1 Axes>"
            ]
          },
          "metadata": {
            "tags": []
          }
        },
        {
          "output_type": "display_data",
          "data": {
            "image/png": "[encoded data removed]",
            "text/plain": [
              "<Figure size 432x288 with 1 Axes>"
            ]
          },
          "metadata": {
            "tags": []
          }
        }
      ]
    },
    {
      "cell_type": "code",
      "metadata": {
        "id": "EnwiJmjFMupY",
        "colab_type": "code",
        "colab": {}
      },
      "source": [
        ""
      ],
      "execution_count": 0,
      "outputs": []
    },
    {
      "cell_type": "code",
      "metadata": {
        "id": "Gjl6A2SCMuu2",
        "colab_type": "code",
        "colab": {}
      },
      "source": [
        ""
      ],
      "execution_count": 0,
      "outputs": []
    },
    {
      "cell_type": "markdown",
      "metadata": {
        "id": "hg5uG64Ev1DZ",
        "colab_type": "text"
      },
      "source": [
        "# Understanding overfitting"
      ]
    },
    {
      "cell_type": "code",
      "metadata": {
        "id": "ejzbtndsMuyC",
        "colab_type": "code",
        "outputId": "cec37a6e-957c-4eaa-d008-a8bce3042609",
        "colab": {
          "base_uri": "https://localhost:8080/",
          "height": 204
        }
      },
      "source": [
        "model = Sequential()\n",
        "model.add(Dense(1000,input_dim=784,activation='relu'))\n",
        "model.add(Dense(10,  activation='softmax'))\n",
        "model.compile(loss='categorical_crossentropy', optimizer='adam', metrics=['accuracy'])\n",
        "history = model.fit(X_train, y_train, validation_data=(X_test, y_test), epochs=5, batch_size=1024, verbose=1)"
      ],
      "execution_count": 0,
      "outputs": [
        {
          "output_type": "stream",
          "text": [
            "Train on 60000 samples, validate on 10000 samples\n",
            "Epoch 1/5\n",
            "60000/60000 [==============================] - 1s 20us/step - loss: 0.4676 - acc: 0.8734 - val_loss: 0.2222 - val_acc: 0.9369\n",
            "Epoch 2/5\n",
            "60000/60000 [==============================] - 1s 10us/step - loss: 0.1949 - acc: 0.9455 - val_loss: 0.1614 - val_acc: 0.9517\n",
            "Epoch 3/5\n",
            "60000/60000 [==============================] - 1s 11us/step - loss: 0.1390 - acc: 0.9613 - val_loss: 0.1278 - val_acc: 0.9626\n",
            "Epoch 4/5\n",
            "60000/60000 [==============================] - 1s 10us/step - loss: 0.1056 - acc: 0.9711 - val_loss: 0.1055 - val_acc: 0.9682\n",
            "Epoch 5/5\n",
            "60000/60000 [==============================] - 1s 11us/step - loss: 0.0842 - acc: 0.9773 - val_loss: 0.0936 - val_acc: 0.9721\n"
          ],
          "name": "stdout"
        }
      ]
    },
    {
      "cell_type": "code",
      "metadata": {
        "id": "B84iOUgUMutL",
        "colab_type": "code",
        "outputId": "2017d30f-9473-4ef6-920a-074129aec69c",
        "colab": {
          "base_uri": "https://localhost:8080/",
          "height": 85
        }
      },
      "source": [
        "model.weights"
      ],
      "execution_count": 0,
      "outputs": [
        {
          "output_type": "execute_result",
          "data": {
            "text/plain": [
              "[<tf.Variable 'dense_23/kernel:0' shape=(784, 1000) dtype=float32_ref>,\n",
              " <tf.Variable 'dense_23/bias:0' shape=(1000,) dtype=float32_ref>,\n",
              " <tf.Variable 'dense_24/kernel:0' shape=(1000, 10) dtype=float32_ref>,\n",
              " <tf.Variable 'dense_24/bias:0' shape=(10,) dtype=float32_ref>]"
            ]
          },
          "metadata": {
            "tags": []
          },
          "execution_count": 53
        }
      ]
    },
    {
      "cell_type": "code",
      "metadata": {
        "id": "E4SdBnTQNlpN",
        "colab_type": "code",
        "outputId": "f36f6f03-5fe5-45b0-ad6b-7b96fc93ae4f",
        "colab": {
          "base_uri": "https://localhost:8080/",
          "height": 346
        }
      },
      "source": [
        "plt.hist(model.get_weights()[2].flatten())\n",
        "plt.xlabel('Weight values')\n",
        "plt.ylabel('Frequency')\n",
        "plt.title('Histogram of weight values in 5 epochs scenario')\n",
        "plt.grid('off')"
      ],
      "execution_count": 0,
      "outputs": [
        {
          "output_type": "stream",
          "text": [
            "/usr/local/lib/python3.6/dist-packages/matplotlib/cbook/__init__.py:424: MatplotlibDeprecationWarning: \n",
            "Passing one of 'on', 'true', 'off', 'false' as a boolean is deprecated; use an actual boolean (True/False) instead.\n",
            "  warn_deprecated(\"2.2\", \"Passing one of 'on', 'true', 'off', 'false' as a \"\n"
          ],
          "name": "stderr"
        },
        {
          "output_type": "display_data",
          "data": {
            "image/png": "[encoded data removed]",
            "text/plain": [
              "<Figure size 432x288 with 1 Axes>"
            ]
          },
          "metadata": {
            "tags": []
          }
        }
      ]
    },
    {
      "cell_type": "code",
      "metadata": {
        "id": "u0adRkuNNyez",
        "colab_type": "code",
        "colab": {}
      },
      "source": [
        ""
      ],
      "execution_count": 0,
      "outputs": []
    },
    {
      "cell_type": "code",
      "metadata": {
        "id": "46Tru0UQNyjV",
        "colab_type": "code",
        "outputId": "33947a63-7020-47db-945c-9ea9561b5b7f",
        "colab": {
          "base_uri": "https://localhost:8080/",
          "height": 1000
        }
      },
      "source": [
        "model = Sequential()\n",
        "model.add(Dense(1000,input_dim=784,activation='relu'))\n",
        "model.add(Dense(10,  activation='softmax'))\n",
        "model.compile(loss='categorical_crossentropy', optimizer='adam', metrics=['accuracy'])\n",
        "history = model.fit(X_train, y_train, validation_data=(X_test, y_test), epochs=100, batch_size=1024, verbose=1)"
      ],
      "execution_count": 0,
      "outputs": [
        {
          "output_type": "stream",
          "text": [
            "Train on 60000 samples, validate on 10000 samples\n",
            "Epoch 1/100\n",
            "60000/60000 [==============================] - 1s 20us/step - loss: 0.4682 - acc: 0.8734 - val_loss: 0.2304 - val_acc: 0.9358\n",
            "Epoch 2/100\n",
            "60000/60000 [==============================] - 1s 11us/step - loss: 0.1934 - acc: 0.9454 - val_loss: 0.1629 - val_acc: 0.9532\n",
            "Epoch 3/100\n",
            "60000/60000 [==============================] - 1s 11us/step - loss: 0.1399 - acc: 0.9600 - val_loss: 0.1279 - val_acc: 0.9622\n",
            "Epoch 4/100\n",
            "60000/60000 [==============================] - 1s 10us/step - loss: 0.1069 - acc: 0.9702 - val_loss: 0.1076 - val_acc: 0.9682\n",
            "Epoch 5/100\n",
            "60000/60000 [==============================] - 1s 11us/step - loss: 0.0852 - acc: 0.9759 - val_loss: 0.0913 - val_acc: 0.9727\n",
            "Epoch 6/100\n",
            "60000/60000 [==============================] - 1s 11us/step - loss: 0.0698 - acc: 0.9808 - val_loss: 0.0825 - val_acc: 0.9744\n",
            "Epoch 7/100\n",
            "60000/60000 [==============================] - 1s 11us/step - loss: 0.0579 - acc: 0.9845 - val_loss: 0.0795 - val_acc: 0.9758\n",
            "Epoch 8/100\n",
            "60000/60000 [==============================] - 1s 10us/step - loss: 0.0489 - acc: 0.9871 - val_loss: 0.0740 - val_acc: 0.9768\n",
            "Epoch 9/100\n",
            "60000/60000 [==============================] - 1s 11us/step - loss: 0.0410 - acc: 0.9894 - val_loss: 0.0705 - val_acc: 0.9785\n",
            "Epoch 10/100\n",
            "60000/60000 [==============================] - 1s 11us/step - loss: 0.0341 - acc: 0.9918 - val_loss: 0.0669 - val_acc: 0.9793\n",
            "Epoch 11/100\n",
            "60000/60000 [==============================] - 1s 11us/step - loss: 0.0293 - acc: 0.9935 - val_loss: 0.0660 - val_acc: 0.9800\n",
            "Epoch 12/100\n",
            "60000/60000 [==============================] - 1s 10us/step - loss: 0.0254 - acc: 0.9946 - val_loss: 0.0655 - val_acc: 0.9797\n",
            "Epoch 13/100\n",
            "60000/60000 [==============================] - 1s 11us/step - loss: 0.0217 - acc: 0.9957 - val_loss: 0.0614 - val_acc: 0.9812\n",
            "Epoch 14/100\n",
            "60000/60000 [==============================] - 1s 11us/step - loss: 0.0183 - acc: 0.9965 - val_loss: 0.0616 - val_acc: 0.9800\n",
            "Epoch 15/100\n",
            "60000/60000 [==============================] - 1s 11us/step - loss: 0.0163 - acc: 0.9971 - val_loss: 0.0608 - val_acc: 0.9805\n",
            "Epoch 16/100\n",
            "60000/60000 [==============================] - 1s 11us/step - loss: 0.0144 - acc: 0.9978 - val_loss: 0.0616 - val_acc: 0.9815\n",
            "Epoch 17/100\n",
            "60000/60000 [==============================] - 1s 11us/step - loss: 0.0123 - acc: 0.9982 - val_loss: 0.0605 - val_acc: 0.9820\n",
            "Epoch 18/100\n",
            "60000/60000 [==============================] - 1s 11us/step - loss: 0.0102 - acc: 0.9988 - val_loss: 0.0605 - val_acc: 0.9814\n",
            "Epoch 19/100\n",
            "60000/60000 [==============================] - 1s 11us/step - loss: 0.0090 - acc: 0.9992 - val_loss: 0.0593 - val_acc: 0.9812\n",
            "Epoch 20/100\n",
            "60000/60000 [==============================] - 1s 10us/step - loss: 0.0075 - acc: 0.9994 - val_loss: 0.0597 - val_acc: 0.9823\n",
            "Epoch 21/100\n",
            "60000/60000 [==============================] - 1s 11us/step - loss: 0.0068 - acc: 0.9996 - val_loss: 0.0595 - val_acc: 0.9809\n",
            "Epoch 22/100\n",
            "60000/60000 [==============================] - 1s 10us/step - loss: 0.0061 - acc: 0.9995 - val_loss: 0.0606 - val_acc: 0.9813\n",
            "Epoch 23/100\n",
            "60000/60000 [==============================] - 1s 11us/step - loss: 0.0054 - acc: 0.9997 - val_loss: 0.0604 - val_acc: 0.9818\n",
            "Epoch 24/100\n",
            "60000/60000 [==============================] - 1s 11us/step - loss: 0.0049 - acc: 0.9998 - val_loss: 0.0616 - val_acc: 0.9807\n",
            "Epoch 25/100\n",
            "60000/60000 [==============================] - 1s 10us/step - loss: 0.0042 - acc: 0.9998 - val_loss: 0.0615 - val_acc: 0.9813\n",
            "Epoch 26/100\n",
            "60000/60000 [==============================] - 1s 11us/step - loss: 0.0038 - acc: 0.9999 - val_loss: 0.0608 - val_acc: 0.9817\n",
            "Epoch 27/100\n",
            "60000/60000 [==============================] - 1s 11us/step - loss: 0.0033 - acc: 0.9999 - val_loss: 0.0619 - val_acc: 0.9817\n",
            "Epoch 28/100\n",
            "60000/60000 [==============================] - 1s 10us/step - loss: 0.0034 - acc: 0.9999 - val_loss: 0.0606 - val_acc: 0.9817\n",
            "Epoch 29/100\n",
            "60000/60000 [==============================] - 1s 11us/step - loss: 0.0028 - acc: 1.0000 - val_loss: 0.0609 - val_acc: 0.9823\n",
            "Epoch 30/100\n",
            "60000/60000 [==============================] - 1s 11us/step - loss: 0.0025 - acc: 1.0000 - val_loss: 0.0614 - val_acc: 0.9822\n",
            "Epoch 31/100\n",
            "60000/60000 [==============================] - 1s 11us/step - loss: 0.0024 - acc: 1.0000 - val_loss: 0.0628 - val_acc: 0.9820\n",
            "Epoch 32/100\n",
            "60000/60000 [==============================] - 1s 11us/step - loss: 0.0020 - acc: 1.0000 - val_loss: 0.0621 - val_acc: 0.9824\n",
            "Epoch 33/100\n",
            "60000/60000 [==============================] - 1s 11us/step - loss: 0.0019 - acc: 1.0000 - val_loss: 0.0622 - val_acc: 0.9820\n",
            "Epoch 34/100\n",
            "60000/60000 [==============================] - 1s 11us/step - loss: 0.0017 - acc: 1.0000 - val_loss: 0.0627 - val_acc: 0.9826\n",
            "Epoch 35/100\n",
            "60000/60000 [==============================] - 1s 11us/step - loss: 0.0016 - acc: 1.0000 - val_loss: 0.0633 - val_acc: 0.9822\n",
            "Epoch 36/100\n",
            "60000/60000 [==============================] - 1s 11us/step - loss: 0.0015 - acc: 1.0000 - val_loss: 0.0638 - val_acc: 0.9829\n",
            "Epoch 37/100\n",
            "60000/60000 [==============================] - 1s 11us/step - loss: 0.0014 - acc: 1.0000 - val_loss: 0.0643 - val_acc: 0.9822\n",
            "Epoch 38/100\n",
            "60000/60000 [==============================] - 1s 11us/step - loss: 0.0013 - acc: 1.0000 - val_loss: 0.0639 - val_acc: 0.9826\n",
            "Epoch 39/100\n",
            "60000/60000 [==============================] - 1s 11us/step - loss: 0.0012 - acc: 1.0000 - val_loss: 0.0640 - val_acc: 0.9824\n",
            "Epoch 40/100\n",
            "60000/60000 [==============================] - 1s 11us/step - loss: 0.0011 - acc: 1.0000 - val_loss: 0.0649 - val_acc: 0.9821\n",
            "Epoch 41/100\n",
            "60000/60000 [==============================] - 1s 10us/step - loss: 0.0010 - acc: 1.0000 - val_loss: 0.0643 - val_acc: 0.9830\n",
            "Epoch 42/100\n",
            "60000/60000 [==============================] - 1s 11us/step - loss: 9.6525e-04 - acc: 1.0000 - val_loss: 0.0656 - val_acc: 0.9825\n",
            "Epoch 43/100\n",
            "60000/60000 [==============================] - 1s 10us/step - loss: 9.2271e-04 - acc: 1.0000 - val_loss: 0.0653 - val_acc: 0.9825\n",
            "Epoch 44/100\n",
            "60000/60000 [==============================] - 1s 10us/step - loss: 8.6918e-04 - acc: 1.0000 - val_loss: 0.0657 - val_acc: 0.9828\n",
            "Epoch 45/100\n",
            "60000/60000 [==============================] - 1s 11us/step - loss: 8.1375e-04 - acc: 1.0000 - val_loss: 0.0659 - val_acc: 0.9827\n",
            "Epoch 46/100\n",
            "60000/60000 [==============================] - 1s 11us/step - loss: 7.6382e-04 - acc: 1.0000 - val_loss: 0.0669 - val_acc: 0.9823\n",
            "Epoch 47/100\n",
            "60000/60000 [==============================] - 1s 11us/step - loss: 7.2062e-04 - acc: 1.0000 - val_loss: 0.0660 - val_acc: 0.9828\n",
            "Epoch 48/100\n",
            "60000/60000 [==============================] - 1s 11us/step - loss: 6.7626e-04 - acc: 1.0000 - val_loss: 0.0669 - val_acc: 0.9827\n",
            "Epoch 49/100\n",
            "60000/60000 [==============================] - 1s 10us/step - loss: 6.4518e-04 - acc: 1.0000 - val_loss: 0.0670 - val_acc: 0.9829\n",
            "Epoch 50/100\n",
            "60000/60000 [==============================] - 1s 10us/step - loss: 6.0748e-04 - acc: 1.0000 - val_loss: 0.0672 - val_acc: 0.9829\n",
            "Epoch 51/100\n",
            "60000/60000 [==============================] - 1s 11us/step - loss: 5.7520e-04 - acc: 1.0000 - val_loss: 0.0674 - val_acc: 0.9827\n",
            "Epoch 52/100\n",
            "60000/60000 [==============================] - 1s 11us/step - loss: 5.4578e-04 - acc: 1.0000 - val_loss: 0.0676 - val_acc: 0.9828\n",
            "Epoch 53/100\n",
            "60000/60000 [==============================] - 1s 11us/step - loss: 5.2383e-04 - acc: 1.0000 - val_loss: 0.0680 - val_acc: 0.9826\n",
            "Epoch 54/100\n",
            "60000/60000 [==============================] - 1s 11us/step - loss: 4.8730e-04 - acc: 1.0000 - val_loss: 0.0684 - val_acc: 0.9828\n",
            "Epoch 55/100\n",
            "60000/60000 [==============================] - 1s 11us/step - loss: 4.6614e-04 - acc: 1.0000 - val_loss: 0.0686 - val_acc: 0.9828\n",
            "Epoch 56/100\n",
            "60000/60000 [==============================] - 1s 11us/step - loss: 4.4056e-04 - acc: 1.0000 - val_loss: 0.0690 - val_acc: 0.9828\n",
            "Epoch 57/100\n",
            "60000/60000 [==============================] - 1s 10us/step - loss: 4.1962e-04 - acc: 1.0000 - val_loss: 0.0693 - val_acc: 0.9827\n",
            "Epoch 58/100\n",
            "60000/60000 [==============================] - 1s 11us/step - loss: 3.9847e-04 - acc: 1.0000 - val_loss: 0.0693 - val_acc: 0.9827\n",
            "Epoch 59/100\n",
            "60000/60000 [==============================] - 1s 11us/step - loss: 3.7887e-04 - acc: 1.0000 - val_loss: 0.0699 - val_acc: 0.9827\n",
            "Epoch 60/100\n",
            "60000/60000 [==============================] - 1s 10us/step - loss: 3.5983e-04 - acc: 1.0000 - val_loss: 0.0699 - val_acc: 0.9827\n",
            "Epoch 61/100\n",
            "60000/60000 [==============================] - 1s 10us/step - loss: 3.4404e-04 - acc: 1.0000 - val_loss: 0.0703 - val_acc: 0.9832\n",
            "Epoch 62/100\n",
            "60000/60000 [==============================] - 1s 11us/step - loss: 3.2604e-04 - acc: 1.0000 - val_loss: 0.0706 - val_acc: 0.9826\n",
            "Epoch 63/100\n",
            "60000/60000 [==============================] - 1s 11us/step - loss: 3.1113e-04 - acc: 1.0000 - val_loss: 0.0704 - val_acc: 0.9827\n",
            "Epoch 64/100\n",
            "60000/60000 [==============================] - 1s 11us/step - loss: 2.9394e-04 - acc: 1.0000 - val_loss: 0.0711 - val_acc: 0.9829\n",
            "Epoch 65/100\n",
            "60000/60000 [==============================] - 1s 10us/step - loss: 2.8276e-04 - acc: 1.0000 - val_loss: 0.0711 - val_acc: 0.9826\n",
            "Epoch 66/100\n",
            "60000/60000 [==============================] - 1s 11us/step - loss: 2.7120e-04 - acc: 1.0000 - val_loss: 0.0716 - val_acc: 0.9826\n",
            "Epoch 67/100\n",
            "60000/60000 [==============================] - 1s 10us/step - loss: 2.5885e-04 - acc: 1.0000 - val_loss: 0.0714 - val_acc: 0.9829\n",
            "Epoch 68/100\n",
            "60000/60000 [==============================] - 1s 11us/step - loss: 2.4571e-04 - acc: 1.0000 - val_loss: 0.0717 - val_acc: 0.9829\n",
            "Epoch 69/100\n",
            "60000/60000 [==============================] - 1s 10us/step - loss: 2.3337e-04 - acc: 1.0000 - val_loss: 0.0718 - val_acc: 0.9829\n",
            "Epoch 70/100\n",
            "60000/60000 [==============================] - 1s 11us/step - loss: 2.2673e-04 - acc: 1.0000 - val_loss: 0.0723 - val_acc: 0.9828\n",
            "Epoch 71/100\n",
            "60000/60000 [==============================] - 1s 11us/step - loss: 2.1573e-04 - acc: 1.0000 - val_loss: 0.0723 - val_acc: 0.9823\n",
            "Epoch 72/100\n",
            "60000/60000 [==============================] - 1s 11us/step - loss: 2.0624e-04 - acc: 1.0000 - val_loss: 0.0732 - val_acc: 0.9828\n",
            "Epoch 73/100\n",
            "60000/60000 [==============================] - 1s 11us/step - loss: 1.9614e-04 - acc: 1.0000 - val_loss: 0.0731 - val_acc: 0.9828\n",
            "Epoch 74/100\n",
            "60000/60000 [==============================] - 1s 11us/step - loss: 1.8919e-04 - acc: 1.0000 - val_loss: 0.0731 - val_acc: 0.9829\n",
            "Epoch 75/100\n",
            "60000/60000 [==============================] - 1s 10us/step - loss: 1.8176e-04 - acc: 1.0000 - val_loss: 0.0739 - val_acc: 0.9827\n",
            "Epoch 76/100\n",
            "60000/60000 [==============================] - 1s 10us/step - loss: 1.7475e-04 - acc: 1.0000 - val_loss: 0.0732 - val_acc: 0.9827\n",
            "Epoch 77/100\n",
            "60000/60000 [==============================] - 1s 11us/step - loss: 1.6564e-04 - acc: 1.0000 - val_loss: 0.0736 - val_acc: 0.9828\n",
            "Epoch 78/100\n",
            "60000/60000 [==============================] - 1s 10us/step - loss: 1.5982e-04 - acc: 1.0000 - val_loss: 0.0738 - val_acc: 0.9827\n",
            "Epoch 79/100\n",
            "60000/60000 [==============================] - 1s 11us/step - loss: 1.5166e-04 - acc: 1.0000 - val_loss: 0.0744 - val_acc: 0.9829\n",
            "Epoch 80/100\n",
            "60000/60000 [==============================] - 1s 10us/step - loss: 1.4704e-04 - acc: 1.0000 - val_loss: 0.0744 - val_acc: 0.9828\n",
            "Epoch 81/100\n",
            "60000/60000 [==============================] - 1s 11us/step - loss: 1.4076e-04 - acc: 1.0000 - val_loss: 0.0750 - val_acc: 0.9827\n",
            "Epoch 82/100\n",
            "60000/60000 [==============================] - 1s 11us/step - loss: 1.3483e-04 - acc: 1.0000 - val_loss: 0.0749 - val_acc: 0.9829\n",
            "Epoch 83/100\n",
            "60000/60000 [==============================] - 1s 10us/step - loss: 1.2919e-04 - acc: 1.0000 - val_loss: 0.0749 - val_acc: 0.9830\n",
            "Epoch 84/100\n",
            "60000/60000 [==============================] - 1s 10us/step - loss: 1.2446e-04 - acc: 1.0000 - val_loss: 0.0757 - val_acc: 0.9829\n",
            "Epoch 85/100\n",
            "60000/60000 [==============================] - 1s 10us/step - loss: 1.1937e-04 - acc: 1.0000 - val_loss: 0.0758 - val_acc: 0.9829\n",
            "Epoch 86/100\n",
            "60000/60000 [==============================] - 1s 10us/step - loss: 1.1453e-04 - acc: 1.0000 - val_loss: 0.0756 - val_acc: 0.9832\n",
            "Epoch 87/100\n",
            "60000/60000 [==============================] - 1s 11us/step - loss: 1.1070e-04 - acc: 1.0000 - val_loss: 0.0760 - val_acc: 0.9826\n",
            "Epoch 88/100\n",
            "60000/60000 [==============================] - 1s 10us/step - loss: 1.0586e-04 - acc: 1.0000 - val_loss: 0.0762 - val_acc: 0.9828\n",
            "Epoch 89/100\n",
            "60000/60000 [==============================] - 1s 11us/step - loss: 1.0222e-04 - acc: 1.0000 - val_loss: 0.0764 - val_acc: 0.9829\n",
            "Epoch 90/100\n",
            "60000/60000 [==============================] - 1s 11us/step - loss: 9.7770e-05 - acc: 1.0000 - val_loss: 0.0763 - val_acc: 0.9829\n",
            "Epoch 91/100\n",
            "60000/60000 [==============================] - 1s 11us/step - loss: 9.4155e-05 - acc: 1.0000 - val_loss: 0.0772 - val_acc: 0.9829\n",
            "Epoch 92/100\n",
            "60000/60000 [==============================] - 1s 11us/step - loss: 8.9734e-05 - acc: 1.0000 - val_loss: 0.0771 - val_acc: 0.9828\n",
            "Epoch 93/100\n",
            "60000/60000 [==============================] - 1s 11us/step - loss: 8.6508e-05 - acc: 1.0000 - val_loss: 0.0774 - val_acc: 0.9829\n",
            "Epoch 94/100\n",
            "60000/60000 [==============================] - 1s 11us/step - loss: 8.2946e-05 - acc: 1.0000 - val_loss: 0.0776 - val_acc: 0.9829\n",
            "Epoch 95/100\n",
            "60000/60000 [==============================] - 1s 11us/step - loss: 8.0224e-05 - acc: 1.0000 - val_loss: 0.0779 - val_acc: 0.9829\n",
            "Epoch 96/100\n",
            "60000/60000 [==============================] - 1s 11us/step - loss: 7.7275e-05 - acc: 1.0000 - val_loss: 0.0777 - val_acc: 0.9830\n",
            "Epoch 97/100\n",
            "60000/60000 [==============================] - 1s 11us/step - loss: 7.3972e-05 - acc: 1.0000 - val_loss: 0.0780 - val_acc: 0.9831\n",
            "Epoch 98/100\n",
            "60000/60000 [==============================] - 1s 11us/step - loss: 7.1568e-05 - acc: 1.0000 - val_loss: 0.0786 - val_acc: 0.9827\n",
            "Epoch 99/100\n",
            "60000/60000 [==============================] - 1s 11us/step - loss: 6.8637e-05 - acc: 1.0000 - val_loss: 0.0787 - val_acc: 0.9832\n",
            "Epoch 100/100\n",
            "60000/60000 [==============================] - 1s 11us/step - loss: 6.6714e-05 - acc: 1.0000 - val_loss: 0.0789 - val_acc: 0.9828\n"
          ],
          "name": "stdout"
        }
      ]
    },
    {
      "cell_type": "code",
      "metadata": {
        "id": "VkzozWsdOt5a",
        "colab_type": "code",
        "outputId": "5d8a925c-e2d8-4592-cffb-c7c6eca1998e",
        "colab": {
          "base_uri": "https://localhost:8080/",
          "height": 346
        }
      },
      "source": [
        "plt.hist(model.get_weights()[2].flatten())\n",
        "plt.xlabel('Weight values')\n",
        "plt.ylabel('Frequency')\n",
        "plt.title('Histogram of weight values in 100 epochs scenario')\n",
        "plt.grid('off')"
      ],
      "execution_count": 0,
      "outputs": [
        {
          "output_type": "stream",
          "text": [
            "/usr/local/lib/python3.6/dist-packages/matplotlib/cbook/__init__.py:424: MatplotlibDeprecationWarning: \n",
            "Passing one of 'on', 'true', 'off', 'false' as a boolean is deprecated; use an actual boolean (True/False) instead.\n",
            "  warn_deprecated(\"2.2\", \"Passing one of 'on', 'true', 'off', 'false' as a \"\n"
          ],
          "name": "stderr"
        },
        {
          "output_type": "display_data",
          "data": {
            "image/png": "[encoded data removed]",
            "text/plain": [
              "<Figure size 432x288 with 1 Axes>"
            ]
          },
          "metadata": {
            "tags": []
          }
        }
      ]
    },
    {
      "cell_type": "code",
      "metadata": {
        "id": "YMitDZ7xOuOo",
        "colab_type": "code",
        "colab": {}
      },
      "source": [
        ""
      ],
      "execution_count": 0,
      "outputs": []
    },
    {
      "cell_type": "code",
      "metadata": {
        "id": "fl9Ky7rSO0Zr",
        "colab_type": "code",
        "colab": {}
      },
      "source": [
        ""
      ],
      "execution_count": 0,
      "outputs": []
    },
    {
      "cell_type": "markdown",
      "metadata": {
        "id": "DHcAO4kjv6Yo",
        "colab_type": "text"
      },
      "source": [
        "# Adding L2 regularization to reduce overfitting"
      ]
    },
    {
      "cell_type": "code",
      "metadata": {
        "id": "07C9i6lRO0fK",
        "colab_type": "code",
        "colab": {}
      },
      "source": [
        "from keras.regularizers import l2"
      ],
      "execution_count": 0,
      "outputs": []
    },
    {
      "cell_type": "code",
      "metadata": {
        "id": "2OjmvbdKO0dX",
        "colab_type": "code",
        "outputId": "a36e8679-288f-4049-8f0a-ef4bcd25f146",
        "colab": {
          "base_uri": "https://localhost:8080/",
          "height": 1000
        }
      },
      "source": [
        "model = Sequential()\n",
        "model.add(Dense(1000,input_dim=784,activation='relu',kernel_regularizer=l2(0.01)))\n",
        "model.add(Dense(10,  activation='softmax',kernel_regularizer=l2(0.01)))\n",
        "model.compile(loss='categorical_crossentropy', optimizer='adam', metrics=['accuracy'])\n",
        "history = model.fit(X_train, y_train, validation_data=(X_test, y_test), epochs=100, batch_size=1024, verbose=1)"
      ],
      "execution_count": 0,
      "outputs": [
        {
          "output_type": "stream",
          "text": [
            "Train on 60000 samples, validate on 10000 samples\n",
            "Epoch 1/100\n",
            "60000/60000 [==============================] - 1s 23us/step - loss: 3.9129 - acc: 0.8463 - val_loss: 1.0551 - val_acc: 0.9055\n",
            "Epoch 2/100\n",
            "60000/60000 [==============================] - 1s 11us/step - loss: 0.8343 - acc: 0.9045 - val_loss: 0.7291 - val_acc: 0.9123\n",
            "Epoch 3/100\n",
            "60000/60000 [==============================] - 1s 10us/step - loss: 0.7298 - acc: 0.9083 - val_loss: 0.7010 - val_acc: 0.9142\n",
            "Epoch 4/100\n",
            "60000/60000 [==============================] - 1s 11us/step - loss: 0.7203 - acc: 0.9095 - val_loss: 0.7016 - val_acc: 0.9151\n",
            "Epoch 5/100\n",
            "60000/60000 [==============================] - 1s 11us/step - loss: 0.7157 - acc: 0.9094 - val_loss: 0.6994 - val_acc: 0.9104\n",
            "Epoch 6/100\n",
            "60000/60000 [==============================] - 1s 10us/step - loss: 0.7106 - acc: 0.9104 - val_loss: 0.6896 - val_acc: 0.9183\n",
            "Epoch 7/100\n",
            "60000/60000 [==============================] - 1s 11us/step - loss: 0.7104 - acc: 0.9101 - val_loss: 0.6887 - val_acc: 0.9170\n",
            "Epoch 8/100\n",
            "60000/60000 [==============================] - 1s 11us/step - loss: 0.7087 - acc: 0.9097 - val_loss: 0.6851 - val_acc: 0.9163\n",
            "Epoch 9/100\n",
            "60000/60000 [==============================] - 1s 11us/step - loss: 0.7063 - acc: 0.9108 - val_loss: 0.6888 - val_acc: 0.9163\n",
            "Epoch 10/100\n",
            "60000/60000 [==============================] - 1s 11us/step - loss: 0.7037 - acc: 0.9113 - val_loss: 0.6935 - val_acc: 0.9123\n",
            "Epoch 11/100\n",
            "60000/60000 [==============================] - 1s 11us/step - loss: 0.7039 - acc: 0.9112 - val_loss: 0.6910 - val_acc: 0.9149\n",
            "Epoch 12/100\n",
            "60000/60000 [==============================] - 1s 10us/step - loss: 0.7027 - acc: 0.9111 - val_loss: 0.6835 - val_acc: 0.9144\n",
            "Epoch 13/100\n",
            "60000/60000 [==============================] - 1s 11us/step - loss: 0.7032 - acc: 0.9101 - val_loss: 0.6886 - val_acc: 0.9156\n",
            "Epoch 14/100\n",
            "60000/60000 [==============================] - 1s 10us/step - loss: 0.7038 - acc: 0.9106 - val_loss: 0.6825 - val_acc: 0.9178\n",
            "Epoch 15/100\n",
            "60000/60000 [==============================] - 1s 11us/step - loss: 0.7035 - acc: 0.9103 - val_loss: 0.6809 - val_acc: 0.9166\n",
            "Epoch 16/100\n",
            "60000/60000 [==============================] - 1s 11us/step - loss: 0.7020 - acc: 0.9109 - val_loss: 0.6806 - val_acc: 0.9152\n",
            "Epoch 17/100\n",
            "60000/60000 [==============================] - 1s 11us/step - loss: 0.7006 - acc: 0.9119 - val_loss: 0.6842 - val_acc: 0.9131\n",
            "Epoch 18/100\n",
            "60000/60000 [==============================] - 1s 11us/step - loss: 0.7012 - acc: 0.9104 - val_loss: 0.6832 - val_acc: 0.9180\n",
            "Epoch 19/100\n",
            "60000/60000 [==============================] - 1s 11us/step - loss: 0.7017 - acc: 0.9109 - val_loss: 0.6890 - val_acc: 0.9120\n",
            "Epoch 20/100\n",
            "60000/60000 [==============================] - 1s 11us/step - loss: 0.7021 - acc: 0.9097 - val_loss: 0.6863 - val_acc: 0.9146\n",
            "Epoch 21/100\n",
            "60000/60000 [==============================] - 1s 11us/step - loss: 0.7012 - acc: 0.9110 - val_loss: 0.6793 - val_acc: 0.9161\n",
            "Epoch 22/100\n",
            "60000/60000 [==============================] - 1s 11us/step - loss: 0.6996 - acc: 0.9111 - val_loss: 0.6845 - val_acc: 0.9167\n",
            "Epoch 23/100\n",
            "60000/60000 [==============================] - 1s 11us/step - loss: 0.7006 - acc: 0.9097 - val_loss: 0.6860 - val_acc: 0.9154\n",
            "Epoch 24/100\n",
            "60000/60000 [==============================] - 1s 11us/step - loss: 0.6994 - acc: 0.9111 - val_loss: 0.6812 - val_acc: 0.9137\n",
            "Epoch 25/100\n",
            "60000/60000 [==============================] - 1s 11us/step - loss: 0.6999 - acc: 0.9101 - val_loss: 0.6847 - val_acc: 0.9129\n",
            "Epoch 26/100\n",
            "60000/60000 [==============================] - 1s 11us/step - loss: 0.6990 - acc: 0.9113 - val_loss: 0.6790 - val_acc: 0.9172\n",
            "Epoch 27/100\n",
            "60000/60000 [==============================] - 1s 11us/step - loss: 0.7002 - acc: 0.9108 - val_loss: 0.6834 - val_acc: 0.9160\n",
            "Epoch 28/100\n",
            "60000/60000 [==============================] - 1s 11us/step - loss: 0.7010 - acc: 0.9096 - val_loss: 0.6818 - val_acc: 0.9146\n",
            "Epoch 29/100\n",
            "60000/60000 [==============================] - 1s 11us/step - loss: 0.6993 - acc: 0.9107 - val_loss: 0.6800 - val_acc: 0.9154\n",
            "Epoch 30/100\n",
            "60000/60000 [==============================] - 1s 10us/step - loss: 0.6989 - acc: 0.9106 - val_loss: 0.6764 - val_acc: 0.9138\n",
            "Epoch 31/100\n",
            "60000/60000 [==============================] - 1s 11us/step - loss: 0.6978 - acc: 0.9108 - val_loss: 0.6791 - val_acc: 0.9196\n",
            "Epoch 32/100\n",
            "60000/60000 [==============================] - 1s 11us/step - loss: 0.6971 - acc: 0.9124 - val_loss: 0.6795 - val_acc: 0.9177\n",
            "Epoch 33/100\n",
            "60000/60000 [==============================] - 1s 10us/step - loss: 0.6982 - acc: 0.9116 - val_loss: 0.6796 - val_acc: 0.9165\n",
            "Epoch 34/100\n",
            "60000/60000 [==============================] - 1s 11us/step - loss: 0.6979 - acc: 0.9112 - val_loss: 0.6791 - val_acc: 0.9165\n",
            "Epoch 35/100\n",
            "60000/60000 [==============================] - 1s 11us/step - loss: 0.6992 - acc: 0.9108 - val_loss: 0.6829 - val_acc: 0.9177\n",
            "Epoch 36/100\n",
            "60000/60000 [==============================] - 1s 11us/step - loss: 0.6982 - acc: 0.9100 - val_loss: 0.6850 - val_acc: 0.9148\n",
            "Epoch 37/100\n",
            "60000/60000 [==============================] - 1s 11us/step - loss: 0.7013 - acc: 0.9096 - val_loss: 0.6839 - val_acc: 0.9131\n",
            "Epoch 38/100\n",
            "60000/60000 [==============================] - 1s 10us/step - loss: 0.6980 - acc: 0.9108 - val_loss: 0.6862 - val_acc: 0.9146\n",
            "Epoch 39/100\n",
            "60000/60000 [==============================] - 1s 11us/step - loss: 0.6997 - acc: 0.9097 - val_loss: 0.6786 - val_acc: 0.9176\n",
            "Epoch 40/100\n",
            "60000/60000 [==============================] - 1s 11us/step - loss: 0.6978 - acc: 0.9116 - val_loss: 0.6828 - val_acc: 0.9162\n",
            "Epoch 41/100\n",
            "60000/60000 [==============================] - 1s 11us/step - loss: 0.6996 - acc: 0.9098 - val_loss: 0.6793 - val_acc: 0.9170\n",
            "Epoch 42/100\n",
            "60000/60000 [==============================] - 1s 11us/step - loss: 0.6973 - acc: 0.9118 - val_loss: 0.6779 - val_acc: 0.9151\n",
            "Epoch 43/100\n",
            "60000/60000 [==============================] - 1s 10us/step - loss: 0.6981 - acc: 0.9115 - val_loss: 0.6815 - val_acc: 0.9134\n",
            "Epoch 44/100\n",
            "60000/60000 [==============================] - 1s 11us/step - loss: 0.6979 - acc: 0.9102 - val_loss: 0.6794 - val_acc: 0.9134\n",
            "Epoch 45/100\n",
            "60000/60000 [==============================] - 1s 11us/step - loss: 0.6974 - acc: 0.9107 - val_loss: 0.6800 - val_acc: 0.9162\n",
            "Epoch 46/100\n",
            "60000/60000 [==============================] - 1s 11us/step - loss: 0.6997 - acc: 0.9106 - val_loss: 0.6759 - val_acc: 0.9171\n",
            "Epoch 47/100\n",
            "60000/60000 [==============================] - 1s 11us/step - loss: 0.6983 - acc: 0.9114 - val_loss: 0.6867 - val_acc: 0.9153\n",
            "Epoch 48/100\n",
            "60000/60000 [==============================] - 1s 10us/step - loss: 0.6994 - acc: 0.9103 - val_loss: 0.6813 - val_acc: 0.9152\n",
            "Epoch 49/100\n",
            "60000/60000 [==============================] - 1s 11us/step - loss: 0.6990 - acc: 0.9103 - val_loss: 0.6855 - val_acc: 0.9129\n",
            "Epoch 50/100\n",
            "60000/60000 [==============================] - 1s 11us/step - loss: 0.6981 - acc: 0.9109 - val_loss: 0.6738 - val_acc: 0.9182\n",
            "Epoch 51/100\n",
            "60000/60000 [==============================] - 1s 10us/step - loss: 0.6980 - acc: 0.9110 - val_loss: 0.6775 - val_acc: 0.9137\n",
            "Epoch 52/100\n",
            "60000/60000 [==============================] - 1s 11us/step - loss: 0.6971 - acc: 0.9117 - val_loss: 0.6802 - val_acc: 0.9141\n",
            "Epoch 53/100\n",
            "60000/60000 [==============================] - 1s 11us/step - loss: 0.6970 - acc: 0.9105 - val_loss: 0.6814 - val_acc: 0.9157\n",
            "Epoch 54/100\n",
            "60000/60000 [==============================] - 1s 10us/step - loss: 0.6965 - acc: 0.9110 - val_loss: 0.6803 - val_acc: 0.9152\n",
            "Epoch 55/100\n",
            "60000/60000 [==============================] - 1s 11us/step - loss: 0.6962 - acc: 0.9111 - val_loss: 0.6869 - val_acc: 0.9147\n",
            "Epoch 56/100\n",
            "60000/60000 [==============================] - 1s 11us/step - loss: 0.6952 - acc: 0.9119 - val_loss: 0.6769 - val_acc: 0.9162\n",
            "Epoch 57/100\n",
            "60000/60000 [==============================] - 1s 11us/step - loss: 0.6965 - acc: 0.9108 - val_loss: 0.6810 - val_acc: 0.9174\n",
            "Epoch 58/100\n",
            "60000/60000 [==============================] - 1s 11us/step - loss: 0.6959 - acc: 0.9102 - val_loss: 0.6775 - val_acc: 0.9173\n",
            "Epoch 59/100\n",
            "60000/60000 [==============================] - 1s 11us/step - loss: 0.6982 - acc: 0.9108 - val_loss: 0.6766 - val_acc: 0.9175\n",
            "Epoch 60/100\n",
            "60000/60000 [==============================] - 1s 11us/step - loss: 0.6963 - acc: 0.9122 - val_loss: 0.6805 - val_acc: 0.9145\n",
            "Epoch 61/100\n",
            "60000/60000 [==============================] - 1s 11us/step - loss: 0.6958 - acc: 0.9106 - val_loss: 0.6800 - val_acc: 0.9155\n",
            "Epoch 62/100\n",
            "60000/60000 [==============================] - 1s 10us/step - loss: 0.6953 - acc: 0.9121 - val_loss: 0.6817 - val_acc: 0.9163\n",
            "Epoch 63/100\n",
            "60000/60000 [==============================] - 1s 11us/step - loss: 0.6971 - acc: 0.9113 - val_loss: 0.6823 - val_acc: 0.9167\n",
            "Epoch 64/100\n",
            "60000/60000 [==============================] - 1s 11us/step - loss: 0.6984 - acc: 0.9111 - val_loss: 0.6803 - val_acc: 0.9186\n",
            "Epoch 65/100\n",
            "60000/60000 [==============================] - 1s 11us/step - loss: 0.6965 - acc: 0.9111 - val_loss: 0.6836 - val_acc: 0.9142\n",
            "Epoch 66/100\n",
            "60000/60000 [==============================] - 1s 11us/step - loss: 0.6959 - acc: 0.9112 - val_loss: 0.6801 - val_acc: 0.9138\n",
            "Epoch 67/100\n",
            "60000/60000 [==============================] - 1s 11us/step - loss: 0.6948 - acc: 0.9122 - val_loss: 0.6788 - val_acc: 0.9129\n",
            "Epoch 68/100\n",
            "60000/60000 [==============================] - 1s 11us/step - loss: 0.6961 - acc: 0.9118 - val_loss: 0.6837 - val_acc: 0.9182\n",
            "Epoch 69/100\n",
            "60000/60000 [==============================] - 1s 11us/step - loss: 0.6969 - acc: 0.9104 - val_loss: 0.6739 - val_acc: 0.9180\n",
            "Epoch 70/100\n",
            "60000/60000 [==============================] - 1s 11us/step - loss: 0.6959 - acc: 0.9120 - val_loss: 0.6799 - val_acc: 0.9170\n",
            "Epoch 71/100\n",
            "60000/60000 [==============================] - 1s 11us/step - loss: 0.6950 - acc: 0.9110 - val_loss: 0.6774 - val_acc: 0.9178\n",
            "Epoch 72/100\n",
            "60000/60000 [==============================] - 1s 11us/step - loss: 0.6952 - acc: 0.9114 - val_loss: 0.6774 - val_acc: 0.9151\n",
            "Epoch 73/100\n",
            "60000/60000 [==============================] - 1s 11us/step - loss: 0.6953 - acc: 0.9116 - val_loss: 0.6795 - val_acc: 0.9165\n",
            "Epoch 74/100\n",
            "60000/60000 [==============================] - 1s 11us/step - loss: 0.6966 - acc: 0.9114 - val_loss: 0.6752 - val_acc: 0.9137\n",
            "Epoch 75/100\n",
            "60000/60000 [==============================] - 1s 11us/step - loss: 0.6950 - acc: 0.9116 - val_loss: 0.6777 - val_acc: 0.9165\n",
            "Epoch 76/100\n",
            "60000/60000 [==============================] - 1s 11us/step - loss: 0.6952 - acc: 0.9109 - val_loss: 0.6780 - val_acc: 0.9156\n",
            "Epoch 77/100\n",
            "60000/60000 [==============================] - 1s 11us/step - loss: 0.6949 - acc: 0.9115 - val_loss: 0.6770 - val_acc: 0.9169\n",
            "Epoch 78/100\n",
            "60000/60000 [==============================] - 1s 11us/step - loss: 0.6952 - acc: 0.9115 - val_loss: 0.6783 - val_acc: 0.9178\n",
            "Epoch 79/100\n",
            "60000/60000 [==============================] - 1s 11us/step - loss: 0.6944 - acc: 0.9113 - val_loss: 0.6761 - val_acc: 0.9146\n",
            "Epoch 80/100\n",
            "60000/60000 [==============================] - 1s 11us/step - loss: 0.6944 - acc: 0.9122 - val_loss: 0.6784 - val_acc: 0.9162\n",
            "Epoch 81/100\n",
            "60000/60000 [==============================] - 1s 11us/step - loss: 0.6948 - acc: 0.9115 - val_loss: 0.6742 - val_acc: 0.9163\n",
            "Epoch 82/100\n",
            "60000/60000 [==============================] - 1s 11us/step - loss: 0.6950 - acc: 0.9118 - val_loss: 0.6763 - val_acc: 0.9163\n",
            "Epoch 83/100\n",
            "60000/60000 [==============================] - 1s 11us/step - loss: 0.6945 - acc: 0.9123 - val_loss: 0.6779 - val_acc: 0.9136\n",
            "Epoch 84/100\n",
            "60000/60000 [==============================] - 1s 11us/step - loss: 0.6953 - acc: 0.9111 - val_loss: 0.6775 - val_acc: 0.9148\n",
            "Epoch 85/100\n",
            "60000/60000 [==============================] - 1s 11us/step - loss: 0.6955 - acc: 0.9115 - val_loss: 0.6792 - val_acc: 0.9146\n",
            "Epoch 86/100\n",
            "60000/60000 [==============================] - 1s 11us/step - loss: 0.6962 - acc: 0.9109 - val_loss: 0.6771 - val_acc: 0.9167\n",
            "Epoch 87/100\n",
            "60000/60000 [==============================] - 1s 11us/step - loss: 0.6945 - acc: 0.9113 - val_loss: 0.6786 - val_acc: 0.9170\n",
            "Epoch 88/100\n",
            "60000/60000 [==============================] - 1s 11us/step - loss: 0.6972 - acc: 0.9107 - val_loss: 0.6790 - val_acc: 0.9184\n",
            "Epoch 89/100\n",
            "60000/60000 [==============================] - 1s 11us/step - loss: 0.6950 - acc: 0.9116 - val_loss: 0.6787 - val_acc: 0.9171\n",
            "Epoch 90/100\n",
            "60000/60000 [==============================] - 1s 11us/step - loss: 0.6959 - acc: 0.9119 - val_loss: 0.6862 - val_acc: 0.9164\n",
            "Epoch 91/100\n",
            "60000/60000 [==============================] - 1s 11us/step - loss: 0.6965 - acc: 0.9109 - val_loss: 0.6767 - val_acc: 0.9160\n",
            "Epoch 92/100\n",
            "60000/60000 [==============================] - 1s 11us/step - loss: 0.6949 - acc: 0.9118 - val_loss: 0.6787 - val_acc: 0.9161\n",
            "Epoch 93/100\n",
            "60000/60000 [==============================] - 1s 11us/step - loss: 0.6937 - acc: 0.9115 - val_loss: 0.6793 - val_acc: 0.9141\n",
            "Epoch 94/100\n",
            "60000/60000 [==============================] - 1s 11us/step - loss: 0.6950 - acc: 0.9114 - val_loss: 0.6799 - val_acc: 0.9165\n",
            "Epoch 95/100\n",
            "60000/60000 [==============================] - 1s 11us/step - loss: 0.6944 - acc: 0.9117 - val_loss: 0.6774 - val_acc: 0.9138\n",
            "Epoch 96/100\n",
            "60000/60000 [==============================] - 1s 11us/step - loss: 0.6941 - acc: 0.9116 - val_loss: 0.6762 - val_acc: 0.9182\n",
            "Epoch 97/100\n",
            "60000/60000 [==============================] - 1s 11us/step - loss: 0.6932 - acc: 0.9117 - val_loss: 0.6762 - val_acc: 0.9145\n",
            "Epoch 98/100\n",
            "60000/60000 [==============================] - 1s 11us/step - loss: 0.6969 - acc: 0.9102 - val_loss: 0.6801 - val_acc: 0.9145\n",
            "Epoch 99/100\n",
            "60000/60000 [==============================] - 1s 10us/step - loss: 0.6941 - acc: 0.9116 - val_loss: 0.6788 - val_acc: 0.9156\n",
            "Epoch 100/100\n",
            "60000/60000 [==============================] - 1s 11us/step - loss: 0.6949 - acc: 0.9121 - val_loss: 0.6790 - val_acc: 0.9174\n"
          ],
          "name": "stdout"
        }
      ]
    },
    {
      "cell_type": "code",
      "metadata": {
        "id": "J5fSB79IPl6i",
        "colab_type": "code",
        "outputId": "58718e0a-8d49-450f-95df-a2939407783b",
        "colab": {
          "base_uri": "https://localhost:8080/",
          "height": 388
        }
      },
      "source": [
        "history_dict = history.history\n",
        "loss_values = history_dict['loss']\n",
        "val_loss_values = history_dict['val_loss']\n",
        "acc_values = history_dict['acc']\n",
        "val_acc_values = history_dict['val_acc']\n",
        "epochs = range(1, len(val_loss_values) + 1)\n",
        "\n",
        "import matplotlib.pyplot as plt\n",
        "%matplotlib inline\n",
        "plt.subplot(211)\n",
        "plt.plot(epochs, history.history['loss'], 'bo', label='Training loss')\n",
        "plt.plot(epochs, val_loss_values, 'r', label='Test loss')\n",
        "plt.title('Training and test loss with regularization')\n",
        "plt.xlabel('Epochs')\n",
        "plt.ylabel('Loss')\n",
        "plt.legend()\n",
        "plt.grid('off')\n",
        "plt.show()\n",
        "plt.subplot(212)\n",
        "plt.plot(epochs, history.history['acc'], 'bo', label='Training accuracy')\n",
        "plt.plot(epochs, val_acc_values, 'r', label='Test accuracy')\n",
        "plt.title('Training and test accuracy with regularization')\n",
        "plt.xlabel('Epochs')\n",
        "plt.ylabel('Accuracy')\n",
        "plt.gca().set_yticklabels(['{:.0f}%'.format(x*100) for x in plt.gca().get_yticks()]) \n",
        "plt.legend()\n",
        "plt.grid('off')\n",
        "plt.show()"
      ],
      "execution_count": 0,
      "outputs": [
        {
          "output_type": "stream",
          "text": [
            "/usr/local/lib/python3.6/dist-packages/matplotlib/cbook/__init__.py:424: MatplotlibDeprecationWarning: \n",
            "Passing one of 'on', 'true', 'off', 'false' as a boolean is deprecated; use an actual boolean (True/False) instead.\n",
            "  warn_deprecated(\"2.2\", \"Passing one of 'on', 'true', 'off', 'false' as a \"\n"
          ],
          "name": "stderr"
        },
        {
          "output_type": "display_data",
          "data": {
            "image/png": "[encoded data removed]",
            "text/plain": [
              "<Figure size 432x288 with 1 Axes>"
            ]
          },
          "metadata": {
            "tags": []
          }
        },
        {
          "output_type": "display_data",
          "data": {
            "image/png": "[encoded data removed]",
            "text/plain": [
              "<Figure size 432x288 with 1 Axes>"
            ]
          },
          "metadata": {
            "tags": []
          }
        }
      ]
    },
    {
      "cell_type": "code",
      "metadata": {
        "id": "88CFIYq2jmYo",
        "colab_type": "code",
        "outputId": "166125d6-0576-43a8-c278-da9406ee5fe5",
        "colab": {
          "base_uri": "https://localhost:8080/",
          "height": 346
        }
      },
      "source": [
        "import matplotlib.pyplot as plt\n",
        "%matplotlib inline\n",
        "plt.hist(model.get_weights()[2].flatten())\n",
        "plt.xlabel('Weight values')\n",
        "plt.ylabel('Frequency')\n",
        "plt.title('Histogram of weight values when regularization is applied')\n",
        "plt.grid('off')"
      ],
      "execution_count": 0,
      "outputs": [
        {
          "output_type": "stream",
          "text": [
            "/usr/local/lib/python3.6/dist-packages/matplotlib/cbook/__init__.py:424: MatplotlibDeprecationWarning: \n",
            "Passing one of 'on', 'true', 'off', 'false' as a boolean is deprecated; use an actual boolean (True/False) instead.\n",
            "  warn_deprecated(\"2.2\", \"Passing one of 'on', 'true', 'off', 'false' as a \"\n"
          ],
          "name": "stderr"
        },
        {
          "output_type": "display_data",
          "data": {
            "image/png": "[encoded data removed]",
            "text/plain": [
              "<Figure size 432x288 with 1 Axes>"
            ]
          },
          "metadata": {
            "tags": []
          }
        }
      ]
    },
    {
      "cell_type": "code",
      "metadata": {
        "id": "G-YgL0XLjmdF",
        "colab_type": "code",
        "colab": {}
      },
      "source": [
        ""
      ],
      "execution_count": 0,
      "outputs": []
    },
    {
      "cell_type": "code",
      "metadata": {
        "id": "U_7a_fgDpPfy",
        "colab_type": "code",
        "outputId": "5a44774f-51b3-4d51-f366-81e8a93fffaa",
        "colab": {
          "base_uri": "https://localhost:8080/",
          "height": 34
        }
      },
      "source": [
        "!ls"
      ],
      "execution_count": 0,
      "outputs": [
        {
          "output_type": "stream",
          "text": [
            "sample_data\n"
          ],
          "name": "stdout"
        }
      ]
    },
    {
      "cell_type": "markdown",
      "metadata": {
        "id": "Pc4w26FswEPs",
        "colab_type": "text"
      },
      "source": [
        "# Applying dropout to reduce overfitting"
      ]
    },
    {
      "cell_type": "code",
      "metadata": {
        "id": "dgl4KOFopPj1",
        "colab_type": "code",
        "outputId": "fddfecf8-c944-47a3-bb34-3a8b78c1139f",
        "colab": {
          "base_uri": "https://localhost:8080/",
          "height": 374
        }
      },
      "source": [
        "model = Sequential()\n",
        "model.add(Dense(1000, input_dim=784, activation='relu'))\n",
        "model.add(Dense(1000,activation='relu'))\n",
        "model.add(Dense(1000,activation='relu'))\n",
        "model.add(Dense(10,  activation='softmax'))\n",
        "model.compile(loss='categorical_crossentropy', optimizer='adam', metrics=['accuracy'])\n",
        "history = model.fit(X_train, y_train, validation_data=(X_test, y_test), epochs=10, batch_size=32, verbose=1)"
      ],
      "execution_count": 0,
      "outputs": [
        {
          "output_type": "stream",
          "text": [
            "Train on 60000 samples, validate on 10000 samples\n",
            "Epoch 1/10\n",
            "60000/60000 [==============================] - 19s 312us/step - loss: 0.2025 - acc: 0.9394 - val_loss: 0.1041 - val_acc: 0.9692\n",
            "Epoch 2/10\n",
            "60000/60000 [==============================] - 18s 295us/step - loss: 0.0983 - acc: 0.9711 - val_loss: 0.1114 - val_acc: 0.9677\n",
            "Epoch 3/10\n",
            "60000/60000 [==============================] - 18s 294us/step - loss: 0.0732 - acc: 0.9782 - val_loss: 0.0968 - val_acc: 0.9745\n",
            "Epoch 4/10\n",
            "60000/60000 [==============================] - 18s 296us/step - loss: 0.0573 - acc: 0.9832 - val_loss: 0.0857 - val_acc: 0.9760\n",
            "Epoch 5/10\n",
            "60000/60000 [==============================] - 17s 291us/step - loss: 0.0483 - acc: 0.9861 - val_loss: 0.1080 - val_acc: 0.9729\n",
            "Epoch 6/10\n",
            "60000/60000 [==============================] - 18s 294us/step - loss: 0.0420 - acc: 0.9876 - val_loss: 0.1023 - val_acc: 0.9782\n",
            "Epoch 7/10\n",
            "60000/60000 [==============================] - 18s 298us/step - loss: 0.0368 - acc: 0.9893 - val_loss: 0.1026 - val_acc: 0.9766\n",
            "Epoch 8/10\n",
            "60000/60000 [==============================] - 17s 291us/step - loss: 0.0347 - acc: 0.9903 - val_loss: 0.1190 - val_acc: 0.9762\n",
            "Epoch 9/10\n",
            "60000/60000 [==============================] - 17s 291us/step - loss: 0.0336 - acc: 0.9912 - val_loss: 0.0967 - val_acc: 0.9814\n",
            "Epoch 10/10\n",
            "60000/60000 [==============================] - 17s 291us/step - loss: 0.0298 - acc: 0.9925 - val_loss: 0.0866 - val_acc: 0.9836\n"
          ],
          "name": "stdout"
        }
      ]
    },
    {
      "cell_type": "code",
      "metadata": {
        "id": "lzx0sOniqQOU",
        "colab_type": "code",
        "outputId": "75c2d329-53ff-4716-e1e9-9e3552e7d269",
        "colab": {
          "base_uri": "https://localhost:8080/",
          "height": 153
        }
      },
      "source": [
        "model.weights"
      ],
      "execution_count": 0,
      "outputs": [
        {
          "output_type": "execute_result",
          "data": {
            "text/plain": [
              "[<tf.Variable 'dense_29/kernel:0' shape=(784, 1000) dtype=float32_ref>,\n",
              " <tf.Variable 'dense_29/bias:0' shape=(1000,) dtype=float32_ref>,\n",
              " <tf.Variable 'dense_30/kernel:0' shape=(1000, 1000) dtype=float32_ref>,\n",
              " <tf.Variable 'dense_30/bias:0' shape=(1000,) dtype=float32_ref>,\n",
              " <tf.Variable 'dense_31/kernel:0' shape=(1000, 1000) dtype=float32_ref>,\n",
              " <tf.Variable 'dense_31/bias:0' shape=(1000,) dtype=float32_ref>,\n",
              " <tf.Variable 'dense_32/kernel:0' shape=(1000, 10) dtype=float32_ref>,\n",
              " <tf.Variable 'dense_32/bias:0' shape=(10,) dtype=float32_ref>]"
            ]
          },
          "metadata": {
            "tags": []
          },
          "execution_count": 62
        }
      ]
    },
    {
      "cell_type": "code",
      "metadata": {
        "id": "7aoeIXvfpPnx",
        "colab_type": "code",
        "outputId": "74e5d1bf-7732-403d-b575-f02c5701d769",
        "colab": {
          "base_uri": "https://localhost:8080/",
          "height": 346
        }
      },
      "source": [
        "import matplotlib.pyplot as plt\n",
        "%matplotlib inline\n",
        "plt.hist(model.get_weights()[2].flatten())\n",
        "plt.xlabel('Weight values')\n",
        "plt.ylabel('Frequency')\n",
        "plt.title('Histogram of weight values when dropout is applied')\n",
        "plt.grid('off')"
      ],
      "execution_count": 0,
      "outputs": [
        {
          "output_type": "stream",
          "text": [
            "/usr/local/lib/python3.6/dist-packages/matplotlib/cbook/__init__.py:424: MatplotlibDeprecationWarning: \n",
            "Passing one of 'on', 'true', 'off', 'false' as a boolean is deprecated; use an actual boolean (True/False) instead.\n",
            "  warn_deprecated(\"2.2\", \"Passing one of 'on', 'true', 'off', 'false' as a \"\n"
          ],
          "name": "stderr"
        },
        {
          "output_type": "display_data",
          "data": {
            "image/png": "[encoded data removed]",
            "text/plain": [
              "<Figure size 432x288 with 1 Axes>"
            ]
          },
          "metadata": {
            "tags": []
          }
        }
      ]
    },
    {
      "cell_type": "code",
      "metadata": {
        "id": "5WzUH8HXjmgp",
        "colab_type": "code",
        "colab": {}
      },
      "source": [
        "from keras.layers import Dropout, Activation"
      ],
      "execution_count": 0,
      "outputs": []
    },
    {
      "cell_type": "code",
      "metadata": {
        "id": "Y-bbz-fhTe61",
        "colab_type": "code",
        "outputId": "84f012f1-4119-4cd6-c0c0-8c498f9d12ab",
        "colab": {
          "base_uri": "https://localhost:8080/",
          "height": 1000
        }
      },
      "source": [
        "model = Sequential()\n",
        "model.add(Dense(1000, input_dim=784, activation='relu'))\n",
        "model.add(Dropout(0.9))\n",
        "model.add(Dense(10,  activation='softmax'))\n",
        "model.compile(loss='categorical_crossentropy', optimizer='adam', metrics=['accuracy'])\n",
        "history = model.fit(X_train, y_train, validation_data=(X_test, y_test), epochs=100, batch_size=1024, verbose=1)"
      ],
      "execution_count": 0,
      "outputs": [
        {
          "output_type": "stream",
          "text": [
            "WARNING:tensorflow:From /usr/local/lib/python3.6/dist-packages/keras/backend/tensorflow_backend.py:3733: calling dropout (from tensorflow.python.ops.nn_ops) with keep_prob is deprecated and will be removed in a future version.\n",
            "Instructions for updating:\n",
            "Please use `rate` instead of `keep_prob`. Rate should be set to `rate = 1 - keep_prob`.\n",
            "WARNING:tensorflow:Large dropout rate: 0.9 (>0.5). In TensorFlow 2.x, dropout() uses dropout rate instead of keep_prob. Please ensure that this is intended.\n",
            "Train on 60000 samples, validate on 10000 samples\n",
            "Epoch 1/100\n",
            "60000/60000 [==============================] - 1s 25us/step - loss: 0.8399 - acc: 0.7322 - val_loss: 0.3070 - val_acc: 0.9169\n",
            "Epoch 2/100\n",
            "60000/60000 [==============================] - 1s 12us/step - loss: 0.4106 - acc: 0.8784 - val_loss: 0.2294 - val_acc: 0.9367\n",
            "Epoch 3/100\n",
            "60000/60000 [==============================] - 1s 12us/step - loss: 0.3390 - acc: 0.8995 - val_loss: 0.1964 - val_acc: 0.9431\n",
            "Epoch 4/100\n",
            "60000/60000 [==============================] - 1s 12us/step - loss: 0.2951 - acc: 0.9141 - val_loss: 0.1709 - val_acc: 0.9499\n",
            "Epoch 5/100\n",
            "60000/60000 [==============================] - 1s 12us/step - loss: 0.2701 - acc: 0.9206 - val_loss: 0.1547 - val_acc: 0.9549\n",
            "Epoch 6/100\n",
            "60000/60000 [==============================] - 1s 12us/step - loss: 0.2488 - acc: 0.9266 - val_loss: 0.1408 - val_acc: 0.9578\n",
            "Epoch 7/100\n",
            "60000/60000 [==============================] - 1s 12us/step - loss: 0.2354 - acc: 0.9310 - val_loss: 0.1327 - val_acc: 0.9610\n",
            "Epoch 8/100\n",
            "60000/60000 [==============================] - 1s 12us/step - loss: 0.2216 - acc: 0.9347 - val_loss: 0.1244 - val_acc: 0.9632\n",
            "Epoch 9/100\n",
            "60000/60000 [==============================] - 1s 12us/step - loss: 0.2100 - acc: 0.9389 - val_loss: 0.1187 - val_acc: 0.9647\n",
            "Epoch 10/100\n",
            "60000/60000 [==============================] - 1s 12us/step - loss: 0.2020 - acc: 0.9413 - val_loss: 0.1128 - val_acc: 0.9668\n",
            "Epoch 11/100\n",
            "60000/60000 [==============================] - 1s 12us/step - loss: 0.1950 - acc: 0.9424 - val_loss: 0.1090 - val_acc: 0.9667\n",
            "Epoch 12/100\n",
            "60000/60000 [==============================] - 1s 12us/step - loss: 0.1891 - acc: 0.9443 - val_loss: 0.1040 - val_acc: 0.9684\n",
            "Epoch 13/100\n",
            "60000/60000 [==============================] - 1s 12us/step - loss: 0.1848 - acc: 0.9447 - val_loss: 0.1006 - val_acc: 0.9700\n",
            "Epoch 14/100\n",
            "60000/60000 [==============================] - 1s 12us/step - loss: 0.1759 - acc: 0.9469 - val_loss: 0.0982 - val_acc: 0.9712\n",
            "Epoch 15/100\n",
            "60000/60000 [==============================] - 1s 12us/step - loss: 0.1718 - acc: 0.9499 - val_loss: 0.0949 - val_acc: 0.9721\n",
            "Epoch 16/100\n",
            "60000/60000 [==============================] - 1s 12us/step - loss: 0.1664 - acc: 0.9504 - val_loss: 0.0931 - val_acc: 0.9724\n",
            "Epoch 17/100\n",
            "60000/60000 [==============================] - 1s 12us/step - loss: 0.1646 - acc: 0.9511 - val_loss: 0.0923 - val_acc: 0.9724\n",
            "Epoch 18/100\n",
            "60000/60000 [==============================] - 1s 12us/step - loss: 0.1615 - acc: 0.9517 - val_loss: 0.0900 - val_acc: 0.9733\n",
            "Epoch 19/100\n",
            "60000/60000 [==============================] - 1s 12us/step - loss: 0.1563 - acc: 0.9524 - val_loss: 0.0891 - val_acc: 0.9737\n",
            "Epoch 20/100\n",
            "60000/60000 [==============================] - 1s 12us/step - loss: 0.1546 - acc: 0.9536 - val_loss: 0.0872 - val_acc: 0.9739\n",
            "Epoch 21/100\n",
            "60000/60000 [==============================] - 1s 12us/step - loss: 0.1532 - acc: 0.9550 - val_loss: 0.0852 - val_acc: 0.9755\n",
            "Epoch 22/100\n",
            "60000/60000 [==============================] - 1s 12us/step - loss: 0.1487 - acc: 0.9556 - val_loss: 0.0823 - val_acc: 0.9758\n",
            "Epoch 23/100\n",
            "60000/60000 [==============================] - 1s 12us/step - loss: 0.1448 - acc: 0.9569 - val_loss: 0.0814 - val_acc: 0.9764\n",
            "Epoch 24/100\n",
            "60000/60000 [==============================] - 1s 12us/step - loss: 0.1434 - acc: 0.9563 - val_loss: 0.0811 - val_acc: 0.9760\n",
            "Epoch 25/100\n",
            "60000/60000 [==============================] - 1s 12us/step - loss: 0.1394 - acc: 0.9579 - val_loss: 0.0788 - val_acc: 0.9764\n",
            "Epoch 26/100\n",
            "60000/60000 [==============================] - 1s 12us/step - loss: 0.1403 - acc: 0.9576 - val_loss: 0.0792 - val_acc: 0.9765\n",
            "Epoch 27/100\n",
            "60000/60000 [==============================] - 1s 12us/step - loss: 0.1353 - acc: 0.9592 - val_loss: 0.0784 - val_acc: 0.9768\n",
            "Epoch 28/100\n",
            "60000/60000 [==============================] - 1s 12us/step - loss: 0.1373 - acc: 0.9590 - val_loss: 0.0783 - val_acc: 0.9768\n",
            "Epoch 29/100\n",
            "60000/60000 [==============================] - 1s 12us/step - loss: 0.1308 - acc: 0.9595 - val_loss: 0.0771 - val_acc: 0.9762\n",
            "Epoch 30/100\n",
            "60000/60000 [==============================] - 1s 12us/step - loss: 0.1304 - acc: 0.9600 - val_loss: 0.0762 - val_acc: 0.9771\n",
            "Epoch 31/100\n",
            "60000/60000 [==============================] - 1s 12us/step - loss: 0.1313 - acc: 0.9596 - val_loss: 0.0754 - val_acc: 0.9774\n",
            "Epoch 32/100\n",
            "60000/60000 [==============================] - 1s 12us/step - loss: 0.1288 - acc: 0.9604 - val_loss: 0.0751 - val_acc: 0.9778\n",
            "Epoch 33/100\n",
            "60000/60000 [==============================] - 1s 12us/step - loss: 0.1280 - acc: 0.9606 - val_loss: 0.0739 - val_acc: 0.9778\n",
            "Epoch 34/100\n",
            "60000/60000 [==============================] - 1s 12us/step - loss: 0.1226 - acc: 0.9622 - val_loss: 0.0732 - val_acc: 0.9785\n",
            "Epoch 35/100\n",
            "60000/60000 [==============================] - 1s 12us/step - loss: 0.1235 - acc: 0.9628 - val_loss: 0.0741 - val_acc: 0.9774\n",
            "Epoch 36/100\n",
            "60000/60000 [==============================] - 1s 12us/step - loss: 0.1220 - acc: 0.9626 - val_loss: 0.0710 - val_acc: 0.9781\n",
            "Epoch 37/100\n",
            "60000/60000 [==============================] - 1s 12us/step - loss: 0.1224 - acc: 0.9630 - val_loss: 0.0707 - val_acc: 0.9799\n",
            "Epoch 38/100\n",
            "60000/60000 [==============================] - 1s 12us/step - loss: 0.1200 - acc: 0.9631 - val_loss: 0.0711 - val_acc: 0.9796\n",
            "Epoch 39/100\n",
            "60000/60000 [==============================] - 1s 12us/step - loss: 0.1170 - acc: 0.9635 - val_loss: 0.0705 - val_acc: 0.9793\n",
            "Epoch 40/100\n",
            "60000/60000 [==============================] - 1s 12us/step - loss: 0.1191 - acc: 0.9637 - val_loss: 0.0696 - val_acc: 0.9795\n",
            "Epoch 41/100\n",
            "60000/60000 [==============================] - 1s 12us/step - loss: 0.1179 - acc: 0.9643 - val_loss: 0.0692 - val_acc: 0.9797\n",
            "Epoch 42/100\n",
            "60000/60000 [==============================] - 1s 12us/step - loss: 0.1145 - acc: 0.9650 - val_loss: 0.0695 - val_acc: 0.9794\n",
            "Epoch 43/100\n",
            "60000/60000 [==============================] - 1s 12us/step - loss: 0.1142 - acc: 0.9640 - val_loss: 0.0712 - val_acc: 0.9796\n",
            "Epoch 44/100\n",
            "60000/60000 [==============================] - 1s 12us/step - loss: 0.1148 - acc: 0.9638 - val_loss: 0.0673 - val_acc: 0.9794\n",
            "Epoch 45/100\n",
            "60000/60000 [==============================] - 1s 12us/step - loss: 0.1137 - acc: 0.9649 - val_loss: 0.0688 - val_acc: 0.9795\n",
            "Epoch 46/100\n",
            "60000/60000 [==============================] - 1s 12us/step - loss: 0.1104 - acc: 0.9659 - val_loss: 0.0670 - val_acc: 0.9807\n",
            "Epoch 47/100\n",
            "60000/60000 [==============================] - 1s 12us/step - loss: 0.1083 - acc: 0.9664 - val_loss: 0.0695 - val_acc: 0.9800\n",
            "Epoch 48/100\n",
            "60000/60000 [==============================] - 1s 12us/step - loss: 0.1094 - acc: 0.9661 - val_loss: 0.0671 - val_acc: 0.9806\n",
            "Epoch 49/100\n",
            "60000/60000 [==============================] - 1s 12us/step - loss: 0.1056 - acc: 0.9670 - val_loss: 0.0670 - val_acc: 0.9812\n",
            "Epoch 50/100\n",
            "60000/60000 [==============================] - 1s 12us/step - loss: 0.1061 - acc: 0.9667 - val_loss: 0.0670 - val_acc: 0.9810\n",
            "Epoch 51/100\n",
            "60000/60000 [==============================] - 1s 12us/step - loss: 0.1062 - acc: 0.9661 - val_loss: 0.0676 - val_acc: 0.9804\n",
            "Epoch 52/100\n",
            "60000/60000 [==============================] - 1s 12us/step - loss: 0.1045 - acc: 0.9667 - val_loss: 0.0669 - val_acc: 0.9799\n",
            "Epoch 53/100\n",
            "60000/60000 [==============================] - 1s 12us/step - loss: 0.1063 - acc: 0.9663 - val_loss: 0.0650 - val_acc: 0.9813\n",
            "Epoch 54/100\n",
            "60000/60000 [==============================] - 1s 12us/step - loss: 0.1044 - acc: 0.9666 - val_loss: 0.0643 - val_acc: 0.9817\n",
            "Epoch 55/100\n",
            "60000/60000 [==============================] - 1s 12us/step - loss: 0.1044 - acc: 0.9674 - val_loss: 0.0628 - val_acc: 0.9823\n",
            "Epoch 56/100\n",
            "60000/60000 [==============================] - 1s 12us/step - loss: 0.1017 - acc: 0.9680 - val_loss: 0.0663 - val_acc: 0.9810\n",
            "Epoch 57/100\n",
            "60000/60000 [==============================] - 1s 12us/step - loss: 0.1008 - acc: 0.9678 - val_loss: 0.0666 - val_acc: 0.9805\n",
            "Epoch 58/100\n",
            "60000/60000 [==============================] - 1s 12us/step - loss: 0.1007 - acc: 0.9680 - val_loss: 0.0659 - val_acc: 0.9811\n",
            "Epoch 59/100\n",
            "60000/60000 [==============================] - 1s 12us/step - loss: 0.1009 - acc: 0.9677 - val_loss: 0.0658 - val_acc: 0.9813\n",
            "Epoch 60/100\n",
            "60000/60000 [==============================] - 1s 12us/step - loss: 0.0994 - acc: 0.9691 - val_loss: 0.0657 - val_acc: 0.9812\n",
            "Epoch 61/100\n",
            "60000/60000 [==============================] - 1s 12us/step - loss: 0.1027 - acc: 0.9687 - val_loss: 0.0646 - val_acc: 0.9815\n",
            "Epoch 62/100\n",
            "60000/60000 [==============================] - 1s 12us/step - loss: 0.0990 - acc: 0.9688 - val_loss: 0.0638 - val_acc: 0.9824\n",
            "Epoch 63/100\n",
            "60000/60000 [==============================] - 1s 12us/step - loss: 0.0960 - acc: 0.9694 - val_loss: 0.0652 - val_acc: 0.9813\n",
            "Epoch 64/100\n",
            "60000/60000 [==============================] - 1s 12us/step - loss: 0.0978 - acc: 0.9693 - val_loss: 0.0633 - val_acc: 0.9814\n",
            "Epoch 65/100\n",
            "60000/60000 [==============================] - 1s 12us/step - loss: 0.0952 - acc: 0.9694 - val_loss: 0.0645 - val_acc: 0.9811\n",
            "Epoch 66/100\n",
            "60000/60000 [==============================] - 1s 12us/step - loss: 0.0955 - acc: 0.9690 - val_loss: 0.0664 - val_acc: 0.9817\n",
            "Epoch 67/100\n",
            "60000/60000 [==============================] - 1s 12us/step - loss: 0.0986 - acc: 0.9696 - val_loss: 0.0647 - val_acc: 0.9815\n",
            "Epoch 68/100\n",
            "60000/60000 [==============================] - 1s 12us/step - loss: 0.0937 - acc: 0.9698 - val_loss: 0.0646 - val_acc: 0.9816\n",
            "Epoch 69/100\n",
            "60000/60000 [==============================] - 1s 12us/step - loss: 0.0926 - acc: 0.9696 - val_loss: 0.0658 - val_acc: 0.9817\n",
            "Epoch 70/100\n",
            "60000/60000 [==============================] - 1s 12us/step - loss: 0.0942 - acc: 0.9698 - val_loss: 0.0646 - val_acc: 0.9820\n",
            "Epoch 71/100\n",
            "60000/60000 [==============================] - 1s 12us/step - loss: 0.0923 - acc: 0.9701 - val_loss: 0.0651 - val_acc: 0.9817\n",
            "Epoch 72/100\n",
            "60000/60000 [==============================] - 1s 12us/step - loss: 0.0898 - acc: 0.9710 - val_loss: 0.0649 - val_acc: 0.9818\n",
            "Epoch 73/100\n",
            "60000/60000 [==============================] - 1s 12us/step - loss: 0.0897 - acc: 0.9709 - val_loss: 0.0648 - val_acc: 0.9821\n",
            "Epoch 74/100\n",
            "60000/60000 [==============================] - 1s 12us/step - loss: 0.0914 - acc: 0.9709 - val_loss: 0.0645 - val_acc: 0.9819\n",
            "Epoch 75/100\n",
            "60000/60000 [==============================] - 1s 12us/step - loss: 0.0881 - acc: 0.9708 - val_loss: 0.0645 - val_acc: 0.9820\n",
            "Epoch 76/100\n",
            "60000/60000 [==============================] - 1s 12us/step - loss: 0.0909 - acc: 0.9707 - val_loss: 0.0645 - val_acc: 0.9816\n",
            "Epoch 77/100\n",
            "60000/60000 [==============================] - 1s 12us/step - loss: 0.0923 - acc: 0.9705 - val_loss: 0.0647 - val_acc: 0.9819\n",
            "Epoch 78/100\n",
            "60000/60000 [==============================] - 1s 12us/step - loss: 0.0889 - acc: 0.9717 - val_loss: 0.0646 - val_acc: 0.9816\n",
            "Epoch 79/100\n",
            "60000/60000 [==============================] - 1s 12us/step - loss: 0.0884 - acc: 0.9709 - val_loss: 0.0661 - val_acc: 0.9815\n",
            "Epoch 80/100\n",
            "60000/60000 [==============================] - 1s 12us/step - loss: 0.0878 - acc: 0.9711 - val_loss: 0.0649 - val_acc: 0.9817\n",
            "Epoch 81/100\n",
            "60000/60000 [==============================] - 1s 12us/step - loss: 0.0864 - acc: 0.9728 - val_loss: 0.0639 - val_acc: 0.9820\n",
            "Epoch 82/100\n",
            "60000/60000 [==============================] - 1s 12us/step - loss: 0.0877 - acc: 0.9713 - val_loss: 0.0632 - val_acc: 0.9820\n",
            "Epoch 83/100\n",
            "60000/60000 [==============================] - 1s 12us/step - loss: 0.0870 - acc: 0.9719 - val_loss: 0.0645 - val_acc: 0.9823\n",
            "Epoch 84/100\n",
            "60000/60000 [==============================] - 1s 12us/step - loss: 0.0870 - acc: 0.9712 - val_loss: 0.0659 - val_acc: 0.9819\n",
            "Epoch 85/100\n",
            "60000/60000 [==============================] - 1s 12us/step - loss: 0.0825 - acc: 0.9730 - val_loss: 0.0648 - val_acc: 0.9829\n",
            "Epoch 86/100\n",
            "60000/60000 [==============================] - 1s 12us/step - loss: 0.0872 - acc: 0.9724 - val_loss: 0.0655 - val_acc: 0.9826\n",
            "Epoch 87/100\n",
            "60000/60000 [==============================] - 1s 12us/step - loss: 0.0865 - acc: 0.9725 - val_loss: 0.0645 - val_acc: 0.9828\n",
            "Epoch 88/100\n",
            "60000/60000 [==============================] - 1s 12us/step - loss: 0.0871 - acc: 0.9725 - val_loss: 0.0633 - val_acc: 0.9831\n",
            "Epoch 89/100\n",
            "60000/60000 [==============================] - 1s 12us/step - loss: 0.0850 - acc: 0.9726 - val_loss: 0.0654 - val_acc: 0.9825\n",
            "Epoch 90/100\n",
            "60000/60000 [==============================] - 1s 12us/step - loss: 0.0862 - acc: 0.9722 - val_loss: 0.0648 - val_acc: 0.9822\n",
            "Epoch 91/100\n",
            "60000/60000 [==============================] - 1s 12us/step - loss: 0.0827 - acc: 0.9733 - val_loss: 0.0639 - val_acc: 0.9831\n",
            "Epoch 92/100\n",
            "60000/60000 [==============================] - 1s 12us/step - loss: 0.0825 - acc: 0.9734 - val_loss: 0.0644 - val_acc: 0.9819\n",
            "Epoch 93/100\n",
            "60000/60000 [==============================] - 1s 12us/step - loss: 0.0844 - acc: 0.9721 - val_loss: 0.0657 - val_acc: 0.9820\n",
            "Epoch 94/100\n",
            "60000/60000 [==============================] - 1s 12us/step - loss: 0.0794 - acc: 0.9740 - val_loss: 0.0649 - val_acc: 0.9821\n",
            "Epoch 95/100\n",
            "60000/60000 [==============================] - 1s 12us/step - loss: 0.0816 - acc: 0.9736 - val_loss: 0.0643 - val_acc: 0.9818\n",
            "Epoch 96/100\n",
            "60000/60000 [==============================] - 1s 12us/step - loss: 0.0836 - acc: 0.9735 - val_loss: 0.0658 - val_acc: 0.9821\n",
            "Epoch 97/100\n",
            "60000/60000 [==============================] - 1s 12us/step - loss: 0.0808 - acc: 0.9728 - val_loss: 0.0639 - val_acc: 0.9826\n",
            "Epoch 98/100\n",
            "60000/60000 [==============================] - 1s 12us/step - loss: 0.0810 - acc: 0.9735 - val_loss: 0.0663 - val_acc: 0.9823\n",
            "Epoch 99/100\n",
            "60000/60000 [==============================] - 1s 12us/step - loss: 0.0806 - acc: 0.9732 - val_loss: 0.0670 - val_acc: 0.9833\n",
            "Epoch 100/100\n",
            "60000/60000 [==============================] - 1s 12us/step - loss: 0.0810 - acc: 0.9740 - val_loss: 0.0652 - val_acc: 0.9823\n"
          ],
          "name": "stdout"
        }
      ]
    },
    {
      "cell_type": "code",
      "metadata": {
        "id": "gDYiLlRLj9Bf",
        "colab_type": "code",
        "outputId": "7dbf2a15-acf0-4298-f05c-949ac6aa0d50",
        "colab": {
          "base_uri": "https://localhost:8080/",
          "height": 294
        }
      },
      "source": [
        "import matplotlib.pyplot as plt\n",
        "%matplotlib inline\n",
        "plt.hist(model.get_weights()[2].flatten())\n",
        "plt.xlabel('Weight values')\n",
        "plt.ylabel('Frequency')\n",
        "plt.title('Histogram of weight values when dropout is applied')\n",
        "plt.grid('off')"
      ],
      "execution_count": 0,
      "outputs": [
        {
          "output_type": "display_data",
          "data": {
            "image/png": "[encoded data removed]",
            "text/plain": [
              "<matplotlib.figure.Figure at 0x7f86d8226240>"
            ]
          },
          "metadata": {
            "tags": []
          }
        }
      ]
    },
    {
      "cell_type": "code",
      "metadata": {
        "id": "GF3hnH_Kkla1",
        "colab_type": "code",
        "colab": {}
      },
      "source": [
        ""
      ],
      "execution_count": 0,
      "outputs": []
    },
    {
      "cell_type": "code",
      "metadata": {
        "id": "e4S-d9frqccr",
        "colab_type": "code",
        "colab": {}
      },
      "source": [
        ""
      ],
      "execution_count": 0,
      "outputs": []
    },
    {
      "cell_type": "markdown",
      "metadata": {
        "id": "YwiyAZZYwTur",
        "colab_type": "text"
      },
      "source": [
        "# Adding batch normalization"
      ]
    },
    {
      "cell_type": "code",
      "metadata": {
        "id": "m-sHn3wCqci8",
        "colab_type": "code",
        "colab": {}
      },
      "source": [
        "from keras.layers.normalization import BatchNormalization\n",
        "from keras.regularizers import l2"
      ],
      "execution_count": 0,
      "outputs": []
    },
    {
      "cell_type": "code",
      "metadata": {
        "id": "SEtPeuB8qcnO",
        "colab_type": "code",
        "outputId": "0d9f5e26-ae05-44d8-f483-5bdf57623d05",
        "colab": {
          "base_uri": "https://localhost:8080/",
          "height": 3434
        }
      },
      "source": [
        "model = Sequential()\n",
        "model.add(Dense(1000, input_dim=784,activation='relu', kernel_regularizer = l2(0.01)))\n",
        "model.add(BatchNormalization())\n",
        "model.add(Dense(10,  activation='softmax', kernel_regularizer = l2(0.01)))\n",
        "from keras.optimizers import Adam\n",
        "#adam = Adam(lr = 0.01)\n",
        "model.compile(loss='categorical_crossentropy', optimizer='adam', metrics=['accuracy'])\n",
        "history = model.fit(X_train, y_train, validation_data=(X_test, y_test), epochs=100, batch_size=1024, verbose=1)"
      ],
      "execution_count": 0,
      "outputs": [
        {
          "output_type": "stream",
          "text": [
            "Train on 60000 samples, validate on 10000 samples\n",
            "Epoch 1/100\n",
            "60000/60000 [==============================] - 1s 24us/step - loss: 4.6404 - acc: 0.9066 - val_loss: 1.6588 - val_acc: 0.9614\n",
            "Epoch 2/100\n",
            "60000/60000 [==============================] - 1s 13us/step - loss: 0.9260 - acc: 0.9684 - val_loss: 0.6129 - val_acc: 0.9649\n",
            "Epoch 3/100\n",
            "60000/60000 [==============================] - 1s 13us/step - loss: 0.3842 - acc: 0.9740 - val_loss: 0.3612 - val_acc: 0.9671\n",
            "Epoch 4/100\n",
            "60000/60000 [==============================] - 1s 13us/step - loss: 0.2642 - acc: 0.9749 - val_loss: 0.2866 - val_acc: 0.9693\n",
            "Epoch 5/100\n",
            "60000/60000 [==============================] - 1s 13us/step - loss: 0.2277 - acc: 0.9758 - val_loss: 0.2517 - val_acc: 0.9666\n",
            "Epoch 6/100\n",
            "60000/60000 [==============================] - 1s 13us/step - loss: 0.2127 - acc: 0.9759 - val_loss: 0.2250 - val_acc: 0.9730\n",
            "Epoch 7/100\n",
            "60000/60000 [==============================] - 1s 13us/step - loss: 0.2110 - acc: 0.9754 - val_loss: 0.2284 - val_acc: 0.9685\n",
            "Epoch 8/100\n",
            "60000/60000 [==============================] - 1s 13us/step - loss: 0.2067 - acc: 0.9756 - val_loss: 0.2199 - val_acc: 0.9729\n",
            "Epoch 9/100\n",
            "60000/60000 [==============================] - 1s 13us/step - loss: 0.2059 - acc: 0.9762 - val_loss: 0.2278 - val_acc: 0.9674\n",
            "Epoch 10/100\n",
            "60000/60000 [==============================] - 1s 13us/step - loss: 0.2037 - acc: 0.9757 - val_loss: 0.2177 - val_acc: 0.9720\n",
            "Epoch 11/100\n",
            "60000/60000 [==============================] - 1s 13us/step - loss: 0.2013 - acc: 0.9763 - val_loss: 0.2219 - val_acc: 0.9687\n",
            "Epoch 12/100\n",
            "60000/60000 [==============================] - 1s 13us/step - loss: 0.2008 - acc: 0.9763 - val_loss: 0.2193 - val_acc: 0.9690\n",
            "Epoch 13/100\n",
            "60000/60000 [==============================] - 1s 13us/step - loss: 0.1988 - acc: 0.9761 - val_loss: 0.2156 - val_acc: 0.9707\n",
            "Epoch 14/100\n",
            "60000/60000 [==============================] - 1s 13us/step - loss: 0.1986 - acc: 0.9767 - val_loss: 0.2126 - val_acc: 0.9708\n",
            "Epoch 15/100\n",
            "60000/60000 [==============================] - 1s 13us/step - loss: 0.1967 - acc: 0.9765 - val_loss: 0.2052 - val_acc: 0.9742\n",
            "Epoch 16/100\n",
            "60000/60000 [==============================] - 1s 13us/step - loss: 0.1970 - acc: 0.9765 - val_loss: 0.2248 - val_acc: 0.9665\n",
            "Epoch 17/100\n",
            "60000/60000 [==============================] - 1s 13us/step - loss: 0.1958 - acc: 0.9770 - val_loss: 0.2093 - val_acc: 0.9717\n",
            "Epoch 18/100\n",
            "60000/60000 [==============================] - 1s 13us/step - loss: 0.1929 - acc: 0.9782 - val_loss: 0.2308 - val_acc: 0.9628\n",
            "Epoch 19/100\n",
            "60000/60000 [==============================] - 1s 13us/step - loss: 0.1935 - acc: 0.9772 - val_loss: 0.2205 - val_acc: 0.9665\n",
            "Epoch 20/100\n",
            "60000/60000 [==============================] - 1s 13us/step - loss: 0.1922 - acc: 0.9780 - val_loss: 0.2174 - val_acc: 0.9690\n",
            "Epoch 21/100\n",
            "60000/60000 [==============================] - 1s 13us/step - loss: 0.1927 - acc: 0.9774 - val_loss: 0.2110 - val_acc: 0.9701\n",
            "Epoch 22/100\n",
            "60000/60000 [==============================] - 1s 13us/step - loss: 0.1898 - acc: 0.9775 - val_loss: 0.2391 - val_acc: 0.9596\n",
            "Epoch 23/100\n",
            "60000/60000 [==============================] - 1s 13us/step - loss: 0.1888 - acc: 0.9779 - val_loss: 0.2058 - val_acc: 0.9717\n",
            "Epoch 24/100\n",
            "60000/60000 [==============================] - 1s 13us/step - loss: 0.1853 - acc: 0.9787 - val_loss: 0.1975 - val_acc: 0.9715\n",
            "Epoch 25/100\n",
            "60000/60000 [==============================] - 1s 13us/step - loss: 0.1854 - acc: 0.9789 - val_loss: 0.2062 - val_acc: 0.9694\n",
            "Epoch 26/100\n",
            "60000/60000 [==============================] - 1s 13us/step - loss: 0.1849 - acc: 0.9780 - val_loss: 0.2159 - val_acc: 0.9687\n",
            "Epoch 27/100\n",
            "60000/60000 [==============================] - 1s 13us/step - loss: 0.1825 - acc: 0.9790 - val_loss: 0.2186 - val_acc: 0.9656\n",
            "Epoch 28/100\n",
            "60000/60000 [==============================] - 1s 13us/step - loss: 0.1798 - acc: 0.9796 - val_loss: 0.1989 - val_acc: 0.9734\n",
            "Epoch 29/100\n",
            "60000/60000 [==============================] - 1s 13us/step - loss: 0.1796 - acc: 0.9793 - val_loss: 0.2373 - val_acc: 0.9581\n",
            "Epoch 30/100\n",
            "60000/60000 [==============================] - 1s 13us/step - loss: 0.1778 - acc: 0.9794 - val_loss: 0.1924 - val_acc: 0.9750\n",
            "Epoch 31/100\n",
            "60000/60000 [==============================] - 1s 13us/step - loss: 0.1773 - acc: 0.9796 - val_loss: 0.2088 - val_acc: 0.9691\n",
            "Epoch 32/100\n",
            "60000/60000 [==============================] - 1s 13us/step - loss: 0.1717 - acc: 0.9804 - val_loss: 0.1861 - val_acc: 0.9753\n",
            "Epoch 33/100\n",
            "60000/60000 [==============================] - 1s 13us/step - loss: 0.1708 - acc: 0.9802 - val_loss: 0.1968 - val_acc: 0.9705\n",
            "Epoch 34/100\n",
            "60000/60000 [==============================] - 1s 13us/step - loss: 0.1730 - acc: 0.9808 - val_loss: 0.2095 - val_acc: 0.9684\n",
            "Epoch 35/100\n",
            "60000/60000 [==============================] - 1s 13us/step - loss: 0.1698 - acc: 0.9809 - val_loss: 0.1913 - val_acc: 0.9717\n",
            "Epoch 36/100\n",
            "60000/60000 [==============================] - 1s 13us/step - loss: 0.1673 - acc: 0.9810 - val_loss: 0.1967 - val_acc: 0.9716\n",
            "Epoch 37/100\n",
            "60000/60000 [==============================] - 1s 13us/step - loss: 0.1657 - acc: 0.9817 - val_loss: 0.1982 - val_acc: 0.9700\n",
            "Epoch 38/100\n",
            "60000/60000 [==============================] - 1s 13us/step - loss: 0.1641 - acc: 0.9813 - val_loss: 0.1901 - val_acc: 0.9710\n",
            "Epoch 39/100\n",
            "60000/60000 [==============================] - 1s 13us/step - loss: 0.1643 - acc: 0.9814 - val_loss: 0.1809 - val_acc: 0.9746\n",
            "Epoch 40/100\n",
            "60000/60000 [==============================] - 1s 13us/step - loss: 0.1618 - acc: 0.9817 - val_loss: 0.2001 - val_acc: 0.9693\n",
            "Epoch 41/100\n",
            "60000/60000 [==============================] - 1s 13us/step - loss: 0.1607 - acc: 0.9816 - val_loss: 0.1895 - val_acc: 0.9731\n",
            "Epoch 42/100\n",
            "60000/60000 [==============================] - 1s 13us/step - loss: 0.1610 - acc: 0.9819 - val_loss: 0.1883 - val_acc: 0.9697\n",
            "Epoch 43/100\n",
            "60000/60000 [==============================] - 1s 13us/step - loss: 0.1591 - acc: 0.9818 - val_loss: 0.1910 - val_acc: 0.9708\n",
            "Epoch 44/100\n",
            "60000/60000 [==============================] - 1s 13us/step - loss: 0.1583 - acc: 0.9824 - val_loss: 0.1820 - val_acc: 0.9751\n",
            "Epoch 45/100\n",
            "60000/60000 [==============================] - 1s 13us/step - loss: 0.1538 - acc: 0.9832 - val_loss: 0.1844 - val_acc: 0.9731\n",
            "Epoch 46/100\n",
            "60000/60000 [==============================] - 1s 13us/step - loss: 0.1539 - acc: 0.9833 - val_loss: 0.1837 - val_acc: 0.9708\n",
            "Epoch 47/100\n",
            "60000/60000 [==============================] - 1s 13us/step - loss: 0.1533 - acc: 0.9824 - val_loss: 0.1848 - val_acc: 0.9706\n",
            "Epoch 48/100\n",
            "60000/60000 [==============================] - 1s 13us/step - loss: 0.1518 - acc: 0.9830 - val_loss: 0.1826 - val_acc: 0.9724\n",
            "Epoch 49/100\n",
            "60000/60000 [==============================] - 1s 13us/step - loss: 0.1532 - acc: 0.9832 - val_loss: 0.1892 - val_acc: 0.9703\n",
            "Epoch 50/100\n",
            "60000/60000 [==============================] - 1s 13us/step - loss: 0.1490 - acc: 0.9840 - val_loss: 0.1850 - val_acc: 0.9729\n",
            "Epoch 51/100\n",
            "60000/60000 [==============================] - 1s 13us/step - loss: 0.1502 - acc: 0.9837 - val_loss: 0.1844 - val_acc: 0.9724\n",
            "Epoch 52/100\n",
            "60000/60000 [==============================] - 1s 13us/step - loss: 0.1491 - acc: 0.9837 - val_loss: 0.1703 - val_acc: 0.9746\n",
            "Epoch 53/100\n",
            "60000/60000 [==============================] - 1s 13us/step - loss: 0.1482 - acc: 0.9839 - val_loss: 0.1754 - val_acc: 0.9743\n",
            "Epoch 54/100\n",
            "60000/60000 [==============================] - 1s 13us/step - loss: 0.1474 - acc: 0.9841 - val_loss: 0.1800 - val_acc: 0.9706\n",
            "Epoch 55/100\n",
            "60000/60000 [==============================] - 1s 13us/step - loss: 0.1453 - acc: 0.9842 - val_loss: 0.1918 - val_acc: 0.9672\n",
            "Epoch 56/100\n",
            "60000/60000 [==============================] - 1s 13us/step - loss: 0.1432 - acc: 0.9843 - val_loss: 0.1929 - val_acc: 0.9664\n",
            "Epoch 57/100\n",
            "60000/60000 [==============================] - 1s 13us/step - loss: 0.1439 - acc: 0.9847 - val_loss: 0.1774 - val_acc: 0.9726\n",
            "Epoch 58/100\n",
            "60000/60000 [==============================] - 1s 13us/step - loss: 0.1430 - acc: 0.9847 - val_loss: 0.1758 - val_acc: 0.9737\n",
            "Epoch 59/100\n",
            "60000/60000 [==============================] - 1s 13us/step - loss: 0.1411 - acc: 0.9853 - val_loss: 0.1798 - val_acc: 0.9693\n",
            "Epoch 60/100\n",
            "60000/60000 [==============================] - 1s 13us/step - loss: 0.1426 - acc: 0.9843 - val_loss: 0.1776 - val_acc: 0.9720\n",
            "Epoch 61/100\n",
            "60000/60000 [==============================] - 1s 13us/step - loss: 0.1409 - acc: 0.9847 - val_loss: 0.1647 - val_acc: 0.9767\n",
            "Epoch 62/100\n",
            "60000/60000 [==============================] - 1s 13us/step - loss: 0.1387 - acc: 0.9849 - val_loss: 0.1748 - val_acc: 0.9719\n",
            "Epoch 63/100\n",
            "60000/60000 [==============================] - 1s 13us/step - loss: 0.1381 - acc: 0.9852 - val_loss: 0.1679 - val_acc: 0.9751\n",
            "Epoch 64/100\n",
            "60000/60000 [==============================] - 1s 13us/step - loss: 0.1376 - acc: 0.9847 - val_loss: 0.1950 - val_acc: 0.9660\n",
            "Epoch 65/100\n",
            "60000/60000 [==============================] - 1s 13us/step - loss: 0.1396 - acc: 0.9844 - val_loss: 0.1777 - val_acc: 0.9719\n",
            "Epoch 66/100\n",
            "60000/60000 [==============================] - 1s 13us/step - loss: 0.1392 - acc: 0.9846 - val_loss: 0.1561 - val_acc: 0.9780\n",
            "Epoch 67/100\n",
            "60000/60000 [==============================] - 1s 13us/step - loss: 0.1332 - acc: 0.9859 - val_loss: 0.1689 - val_acc: 0.9745\n",
            "Epoch 68/100\n",
            "60000/60000 [==============================] - 1s 13us/step - loss: 0.1345 - acc: 0.9860 - val_loss: 0.1619 - val_acc: 0.9750\n",
            "Epoch 69/100\n",
            "60000/60000 [==============================] - 1s 13us/step - loss: 0.1333 - acc: 0.9851 - val_loss: 0.1639 - val_acc: 0.9744\n",
            "Epoch 70/100\n",
            "60000/60000 [==============================] - 1s 13us/step - loss: 0.1334 - acc: 0.9860 - val_loss: 0.1641 - val_acc: 0.9745\n",
            "Epoch 71/100\n",
            "60000/60000 [==============================] - 1s 13us/step - loss: 0.1329 - acc: 0.9855 - val_loss: 0.1802 - val_acc: 0.9683\n",
            "Epoch 72/100\n",
            "60000/60000 [==============================] - 1s 13us/step - loss: 0.1313 - acc: 0.9860 - val_loss: 0.1602 - val_acc: 0.9746\n",
            "Epoch 73/100\n",
            "60000/60000 [==============================] - 1s 13us/step - loss: 0.1290 - acc: 0.9864 - val_loss: 0.1756 - val_acc: 0.9710\n",
            "Epoch 74/100\n",
            "60000/60000 [==============================] - 1s 13us/step - loss: 0.1314 - acc: 0.9856 - val_loss: 0.1713 - val_acc: 0.9741\n",
            "Epoch 75/100\n",
            "60000/60000 [==============================] - 1s 13us/step - loss: 0.1293 - acc: 0.9862 - val_loss: 0.1641 - val_acc: 0.9727\n",
            "Epoch 76/100\n",
            "60000/60000 [==============================] - 1s 13us/step - loss: 0.1336 - acc: 0.9851 - val_loss: 0.1616 - val_acc: 0.9763\n",
            "Epoch 77/100\n",
            "60000/60000 [==============================] - 1s 13us/step - loss: 0.1249 - acc: 0.9879 - val_loss: 0.1653 - val_acc: 0.9711\n",
            "Epoch 78/100\n",
            "60000/60000 [==============================] - 1s 13us/step - loss: 0.1287 - acc: 0.9858 - val_loss: 0.1646 - val_acc: 0.9731\n",
            "Epoch 79/100\n",
            "60000/60000 [==============================] - 1s 13us/step - loss: 0.1273 - acc: 0.9870 - val_loss: 0.1553 - val_acc: 0.9761\n",
            "Epoch 80/100\n",
            "60000/60000 [==============================] - 1s 13us/step - loss: 0.1263 - acc: 0.9866 - val_loss: 0.1587 - val_acc: 0.9731\n",
            "Epoch 81/100\n",
            "60000/60000 [==============================] - 1s 13us/step - loss: 0.1300 - acc: 0.9852 - val_loss: 0.1555 - val_acc: 0.9773\n",
            "Epoch 82/100\n",
            "60000/60000 [==============================] - 1s 13us/step - loss: 0.1252 - acc: 0.9871 - val_loss: 0.1635 - val_acc: 0.9717\n",
            "Epoch 83/100\n",
            "60000/60000 [==============================] - 1s 13us/step - loss: 0.1254 - acc: 0.9865 - val_loss: 0.1583 - val_acc: 0.9728\n",
            "Epoch 84/100\n",
            "60000/60000 [==============================] - 1s 13us/step - loss: 0.1234 - acc: 0.9871 - val_loss: 0.1683 - val_acc: 0.9715\n",
            "Epoch 85/100\n",
            "60000/60000 [==============================] - 1s 13us/step - loss: 0.1236 - acc: 0.9873 - val_loss: 0.1611 - val_acc: 0.9751\n",
            "Epoch 86/100\n",
            "60000/60000 [==============================] - 1s 13us/step - loss: 0.1251 - acc: 0.9863 - val_loss: 0.1514 - val_acc: 0.9769\n",
            "Epoch 87/100\n",
            "60000/60000 [==============================] - 1s 13us/step - loss: 0.1248 - acc: 0.9862 - val_loss: 0.1585 - val_acc: 0.9741\n",
            "Epoch 88/100\n",
            "60000/60000 [==============================] - 1s 13us/step - loss: 0.1245 - acc: 0.9867 - val_loss: 0.1524 - val_acc: 0.9772\n",
            "Epoch 89/100\n",
            "60000/60000 [==============================] - 1s 13us/step - loss: 0.1230 - acc: 0.9869 - val_loss: 0.1625 - val_acc: 0.9733\n",
            "Epoch 90/100\n",
            "60000/60000 [==============================] - 1s 13us/step - loss: 0.1230 - acc: 0.9873 - val_loss: 0.1816 - val_acc: 0.9673\n",
            "Epoch 91/100\n",
            "60000/60000 [==============================] - 1s 13us/step - loss: 0.1235 - acc: 0.9859 - val_loss: 0.1722 - val_acc: 0.9686\n",
            "Epoch 92/100\n",
            "60000/60000 [==============================] - 1s 13us/step - loss: 0.1206 - acc: 0.9875 - val_loss: 0.1562 - val_acc: 0.9733\n",
            "Epoch 93/100\n",
            "60000/60000 [==============================] - 1s 13us/step - loss: 0.1214 - acc: 0.9870 - val_loss: 0.1574 - val_acc: 0.9728\n",
            "Epoch 94/100\n",
            "60000/60000 [==============================] - 1s 13us/step - loss: 0.1200 - acc: 0.9876 - val_loss: 0.1509 - val_acc: 0.9760\n",
            "Epoch 95/100\n",
            "60000/60000 [==============================] - 1s 13us/step - loss: 0.1190 - acc: 0.9872 - val_loss: 0.1538 - val_acc: 0.9750\n",
            "Epoch 96/100\n",
            "60000/60000 [==============================] - 1s 13us/step - loss: 0.1226 - acc: 0.9861 - val_loss: 0.1563 - val_acc: 0.9745\n",
            "Epoch 97/100\n",
            "60000/60000 [==============================] - 1s 13us/step - loss: 0.1190 - acc: 0.9878 - val_loss: 0.1684 - val_acc: 0.9694\n",
            "Epoch 98/100\n",
            "60000/60000 [==============================] - 1s 13us/step - loss: 0.1181 - acc: 0.9871 - val_loss: 0.1598 - val_acc: 0.9746\n",
            "Epoch 99/100\n",
            "60000/60000 [==============================] - 1s 13us/step - loss: 0.1188 - acc: 0.9865 - val_loss: 0.1581 - val_acc: 0.9730\n",
            "Epoch 100/100\n",
            "60000/60000 [==============================] - 1s 13us/step - loss: 0.1198 - acc: 0.9870 - val_loss: 0.1511 - val_acc: 0.9742\n"
          ],
          "name": "stdout"
        }
      ]
    },
    {
      "cell_type": "code",
      "metadata": {
        "id": "H31OmOGjL3mj",
        "colab_type": "code",
        "outputId": "ac828561-5a27-4d5f-ee91-d044fcf00960",
        "colab": {
          "base_uri": "https://localhost:8080/",
          "height": 335
        }
      },
      "source": [
        "history_dict = history.history\n",
        "loss_values = history_dict['loss']\n",
        "val_loss_values = history_dict['val_loss']\n",
        "acc_values = history_dict['acc']\n",
        "val_acc_values = history_dict['val_acc']\n",
        "epochs = range(1, len(val_loss_values) + 1)\n",
        "\n",
        "import matplotlib.pyplot as plt\n",
        "%matplotlib inline\n",
        "plt.subplot(211)\n",
        "plt.plot(epochs, history.history['loss'], 'bo', label='Training loss')\n",
        "plt.plot(epochs, val_loss_values, 'r', label='Test loss')\n",
        "plt.title('Training and test loss with regularization and batch normalization')\n",
        "plt.xlabel('Epochs')\n",
        "plt.ylabel('Loss')\n",
        "plt.legend()\n",
        "plt.grid('off')\n",
        "plt.show()\n",
        "plt.subplot(212)\n",
        "plt.plot(epochs, history.history['acc'], 'bo', label='Training accuracy')\n",
        "plt.plot(epochs, val_acc_values, 'r', label='Test accuracy')\n",
        "plt.title('Training and test accuracy with regularization and batch normalization')\n",
        "plt.xlabel('Epochs')\n",
        "plt.ylabel('Accuracy')\n",
        "plt.gca().set_yticklabels(['{:.0f}%'.format(x*100) for x in plt.gca().get_yticks()]) \n",
        "plt.legend()\n",
        "plt.grid('off')\n",
        "plt.show()"
      ],
      "execution_count": 0,
      "outputs": [
        {
          "output_type": "display_data",
          "data": {
            "image/png": "[encoded data removed]",
            "text/plain": [
              "<matplotlib.figure.Figure at 0x7f866d736f60>"
            ]
          },
          "metadata": {
            "tags": []
          }
        },
        {
          "output_type": "display_data",
          "data": {
            "image/png": "[encoded data removed]",
            "text/plain": [
              "<matplotlib.figure.Figure at 0x7f866dd8b390>"
            ]
          },
          "metadata": {
            "tags": []
          }
        }
      ]
    },
    {
      "cell_type": "code",
      "metadata": {
        "id": "keLoH4eXqcgu",
        "colab_type": "code",
        "outputId": "32819559-be79-4dd1-ea58-78e9e7790a98",
        "colab": {
          "base_uri": "https://localhost:8080/",
          "height": 294
        }
      },
      "source": [
        "plt.hist(model.get_weights()[-2].flatten())\n",
        "plt.xlabel('Weight values')\n",
        "plt.ylabel('Frequency')\n",
        "plt.title('Histogram of weight values when batch normalization is applied')\n",
        "plt.grid('off')"
      ],
      "execution_count": 0,
      "outputs": [
        {
          "output_type": "display_data",
          "data": {
            "image/png": "[encoded data removed]",
            "text/plain": [
              "<matplotlib.figure.Figure at 0x7f9cc320da58>"
            ]
          },
          "metadata": {
            "tags": []
          }
        }
      ]
    }
  ]
}