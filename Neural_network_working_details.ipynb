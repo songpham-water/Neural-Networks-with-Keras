{
  "nbformat": 4,
  "nbformat_minor": 0,
  "metadata": {
    "colab": {
      "name": "Neural_network_working_details.ipynb",
      "provenance": [],
      "collapsed_sections": []
    },
    "kernelspec": {
      "display_name": "Python [conda env:ocr]",
      "language": "python",
      "name": "conda-env-ocr-py"
    },
    "language_info": {
      "codemirror_mode": {
        "name": "ipython",
        "version": 3
      },
      "file_extension": ".py",
      "mimetype": "text/x-python",
      "name": "python",
      "nbconvert_exporter": "python",
      "pygments_lexer": "ipython3",
      "version": "3.6.8"
    }
  },
  "cells": [
    {
      "cell_type": "markdown",
      "metadata": {
        "id": "9ubNxwX3xQ2w",
        "colab_type": "text"
      },
      "source": [
        "https://colab.research.google.com/drive/1N2vNzxZrj5U3-51eYJobhNcBenlP00Pw"
      ]
    },
    {
      "cell_type": "code",
      "metadata": {
        "ExecuteTime": {
          "end_time": "2019-02-06T15:01:04.077408Z",
          "start_time": "2019-02-06T15:01:01.517009Z"
        },
        "colab_type": "code",
        "id": "69_D8f8Q-jck",
        "outputId": "461fb8c1-4c2c-4dfd-cbbb-9348718cbd5d",
        "colab": {
          "base_uri": "https://localhost:8080/",
          "height": 34
        }
      },
      "source": [
        "import numpy as np\n",
        "from keras.models import Sequential\n",
        "from keras.layers import Dense"
      ],
      "execution_count": 1,
      "outputs": [
        {
          "output_type": "stream",
          "text": [
            "Using TensorFlow backend.\n"
          ],
          "name": "stderr"
        }
      ]
    },
    {
      "cell_type": "code",
      "metadata": {
        "ExecuteTime": {
          "end_time": "2019-02-06T15:01:04.082092Z",
          "start_time": "2019-02-06T15:01:04.079514Z"
        },
        "colab_type": "code",
        "id": "t2R75_Tsf43c",
        "colab": {}
      },
      "source": [
        "x = [[1],[2],[3],[4]]\n",
        "y = [[2],[4],[6],[8]]"
      ],
      "execution_count": 0,
      "outputs": []
    },
    {
      "cell_type": "code",
      "metadata": {
        "ExecuteTime": {
          "end_time": "2019-02-06T15:01:04.115474Z",
          "start_time": "2019-02-06T15:01:04.083806Z"
        },
        "colab_type": "code",
        "id": "YGMue2a3f46p",
        "outputId": "a72c82b9-0a61-443d-b823-42743caea508",
        "colab": {
          "base_uri": "https://localhost:8080/",
          "height": 309
        }
      },
      "source": [
        "model = Sequential()\n",
        "model.add(Dense(1, activation='linear', input_shape=(1,)))\n",
        "model.summary()"
      ],
      "execution_count": 3,
      "outputs": [
        {
          "output_type": "stream",
          "text": [
            "WARNING:tensorflow:From /usr/local/lib/python3.6/dist-packages/keras/backend/tensorflow_backend.py:66: The name tf.get_default_graph is deprecated. Please use tf.compat.v1.get_default_graph instead.\n",
            "\n",
            "WARNING:tensorflow:From /usr/local/lib/python3.6/dist-packages/keras/backend/tensorflow_backend.py:541: The name tf.placeholder is deprecated. Please use tf.compat.v1.placeholder instead.\n",
            "\n",
            "WARNING:tensorflow:From /usr/local/lib/python3.6/dist-packages/keras/backend/tensorflow_backend.py:4432: The name tf.random_uniform is deprecated. Please use tf.random.uniform instead.\n",
            "\n",
            "Model: \"sequential_1\"\n",
            "_________________________________________________________________\n",
            "Layer (type)                 Output Shape              Param #   \n",
            "=================================================================\n",
            "dense_1 (Dense)              (None, 1)                 2         \n",
            "=================================================================\n",
            "Total params: 2\n",
            "Trainable params: 2\n",
            "Non-trainable params: 0\n",
            "_________________________________________________________________\n"
          ],
          "name": "stdout"
        }
      ]
    },
    {
      "cell_type": "code",
      "metadata": {
        "ExecuteTime": {
          "end_time": "2019-02-06T15:01:04.129940Z",
          "start_time": "2019-02-06T15:01:04.118932Z"
        },
        "colab_type": "code",
        "id": "CIpEfaSvgGTX",
        "outputId": "ca39ad45-07a6-4ea4-a4bf-8bf05520b87f",
        "colab": {
          "base_uri": "https://localhost:8080/",
          "height": 51
        }
      },
      "source": [
        "model.weights"
      ],
      "execution_count": 4,
      "outputs": [
        {
          "output_type": "execute_result",
          "data": {
            "text/plain": [
              "[<tf.Variable 'dense_1/kernel:0' shape=(1, 1) dtype=float32_ref>,\n",
              " <tf.Variable 'dense_1/bias:0' shape=(1,) dtype=float32_ref>]"
            ]
          },
          "metadata": {
            "tags": []
          },
          "execution_count": 4
        }
      ]
    },
    {
      "cell_type": "code",
      "metadata": {
        "ExecuteTime": {
          "end_time": "2019-02-06T15:01:04.167785Z",
          "start_time": "2019-02-06T15:01:04.133071Z"
        },
        "colab_type": "code",
        "id": "RtTiJM0XgHbv",
        "outputId": "e0d8df89-e55f-4386-97f4-5d31994cc1c3",
        "colab": {
          "base_uri": "https://localhost:8080/",
          "height": 122
        }
      },
      "source": [
        "model.get_weights()"
      ],
      "execution_count": 5,
      "outputs": [
        {
          "output_type": "stream",
          "text": [
            "WARNING:tensorflow:From /usr/local/lib/python3.6/dist-packages/keras/backend/tensorflow_backend.py:190: The name tf.get_default_session is deprecated. Please use tf.compat.v1.get_default_session instead.\n",
            "\n",
            "WARNING:tensorflow:From /usr/local/lib/python3.6/dist-packages/keras/backend/tensorflow_backend.py:197: The name tf.ConfigProto is deprecated. Please use tf.compat.v1.ConfigProto instead.\n",
            "\n"
          ],
          "name": "stdout"
        },
        {
          "output_type": "execute_result",
          "data": {
            "text/plain": [
              "[array([[-0.07377076]], dtype=float32), array([0.], dtype=float32)]"
            ]
          },
          "metadata": {
            "tags": []
          },
          "execution_count": 5
        }
      ]
    },
    {
      "cell_type": "code",
      "metadata": {
        "ExecuteTime": {
          "end_time": "2019-02-06T15:01:04.199577Z",
          "start_time": "2019-02-06T15:01:04.169239Z"
        },
        "colab_type": "code",
        "id": "i_dBj3XZgIe5",
        "outputId": "dbc54e81-3ba8-48ff-894e-faf6dc12c17c",
        "colab": {
          "base_uri": "https://localhost:8080/",
          "height": 71
        }
      },
      "source": [
        "from keras.optimizers import sgd\n",
        "s= sgd(lr = 0.01)\n",
        "model.compile(optimizer=s,loss='mean_squared_error',metrics=['accuracy'])"
      ],
      "execution_count": 6,
      "outputs": [
        {
          "output_type": "stream",
          "text": [
            "WARNING:tensorflow:From /usr/local/lib/python3.6/dist-packages/keras/optimizers.py:793: The name tf.train.Optimizer is deprecated. Please use tf.compat.v1.train.Optimizer instead.\n",
            "\n"
          ],
          "name": "stdout"
        }
      ]
    },
    {
      "cell_type": "code",
      "metadata": {
        "ExecuteTime": {
          "end_time": "2019-02-06T15:01:04.203644Z",
          "start_time": "2019-02-06T15:01:04.201126Z"
        },
        "colab_type": "code",
        "id": "PKbkH7UcbtYG",
        "colab": {}
      },
      "source": [
        "from copy import deepcopy"
      ],
      "execution_count": 0,
      "outputs": []
    },
    {
      "cell_type": "code",
      "metadata": {
        "ExecuteTime": {
          "end_time": "2019-02-06T15:01:04.226175Z",
          "start_time": "2019-02-06T15:01:04.205327Z"
        },
        "colab_type": "code",
        "id": "7DrDeh9dgUw_",
        "colab": {}
      },
      "source": [
        "w = deepcopy(model.get_weights())"
      ],
      "execution_count": 0,
      "outputs": []
    },
    {
      "cell_type": "code",
      "metadata": {
        "ExecuteTime": {
          "end_time": "2019-02-06T15:01:04.232195Z",
          "start_time": "2019-02-06T15:01:04.227913Z"
        },
        "colab_type": "code",
        "id": "dDXso2D3hLTm",
        "outputId": "4e129283-c59e-48fc-f9f0-338809166dc6",
        "colab": {
          "base_uri": "https://localhost:8080/",
          "height": 34
        }
      },
      "source": [
        "w"
      ],
      "execution_count": 9,
      "outputs": [
        {
          "output_type": "execute_result",
          "data": {
            "text/plain": [
              "[array([[-0.07377076]], dtype=float32), array([0.], dtype=float32)]"
            ]
          },
          "metadata": {
            "tags": []
          },
          "execution_count": 9
        }
      ]
    },
    {
      "cell_type": "code",
      "metadata": {
        "ExecuteTime": {
          "end_time": "2019-02-06T15:01:04.237074Z",
          "start_time": "2019-02-06T15:01:04.233832Z"
        },
        "colab_type": "code",
        "id": "1VQcbSUk80Iq",
        "outputId": "b51af49b-bb54-4b7a-940d-0efaa537b0a3",
        "colab": {
          "base_uri": "https://localhost:8080/",
          "height": 34
        }
      },
      "source": [
        "w = [[[-0.07377076]], [0.]]\n",
        "w"
      ],
      "execution_count": 10,
      "outputs": [
        {
          "output_type": "execute_result",
          "data": {
            "text/plain": [
              "[[[-0.07377076]], [0.0]]"
            ]
          },
          "metadata": {
            "tags": []
          },
          "execution_count": 10
        }
      ]
    },
    {
      "cell_type": "code",
      "metadata": {
        "ExecuteTime": {
          "end_time": "2019-02-06T15:01:04.242582Z",
          "start_time": "2019-02-06T15:01:04.238658Z"
        },
        "colab_type": "code",
        "id": "le25igri89J5",
        "outputId": "fee1f8a1-a556-4e65-f2e6-fe3db39b775a",
        "colab": {
          "base_uri": "https://localhost:8080/",
          "height": 34
        }
      },
      "source": [
        "w[0]"
      ],
      "execution_count": 11,
      "outputs": [
        {
          "output_type": "execute_result",
          "data": {
            "text/plain": [
              "[[-0.07377076]]"
            ]
          },
          "metadata": {
            "tags": []
          },
          "execution_count": 11
        }
      ]
    },
    {
      "cell_type": "code",
      "metadata": {
        "ExecuteTime": {
          "end_time": "2019-02-06T15:01:04.248231Z",
          "start_time": "2019-02-06T15:01:04.244978Z"
        },
        "colab_type": "code",
        "id": "Z9NcQEFFgXLl",
        "colab": {}
      },
      "source": [
        "def feed_forward(inputs, outputs, weights):\n",
        "    hidden = np.dot(inputs,weights[0])\n",
        "    out = hidden+weights[1]\n",
        "    squared_error = (np.square(out - outputs))\n",
        "    return squared_error"
      ],
      "execution_count": 0,
      "outputs": []
    },
    {
      "cell_type": "code",
      "metadata": {
        "ExecuteTime": {
          "end_time": "2019-02-06T15:01:04.255500Z",
          "start_time": "2019-02-06T15:01:04.250166Z"
        },
        "colab_type": "code",
        "id": "gVbeiIYi4vly",
        "colab": {}
      },
      "source": [
        "def update_weights(inputs, outputs, weights, epochs):  \n",
        "    for epoch in range(epochs):\n",
        "        org_loss = feed_forward(inputs, outputs, weights)  \n",
        "        wts_tmp = deepcopy(weights)\n",
        "        wts_tmp2 = deepcopy(weights)\n",
        "        for ix, wt in enumerate(weights): \n",
        "            wts_tmp[-(ix+1)] += 0.0001\n",
        "            # print('wts_tmp:', wts_tmp)\n",
        "            loss = feed_forward(inputs, outputs, wts_tmp)\n",
        "            # print('loss', loss)\n",
        "            del_loss = np.sum(org_loss - loss)/(0.0001*len(inputs))\n",
        "            wts_tmp2[-(ix+1)] += del_loss*0.01\n",
        "            wts_tmp = deepcopy(weights)\n",
        "\n",
        "        weights = deepcopy(wts_tmp2)\n",
        "    return wts_tmp2"
      ],
      "execution_count": 0,
      "outputs": []
    },
    {
      "cell_type": "code",
      "metadata": {
        "ExecuteTime": {
          "end_time": "2019-02-06T15:01:04.265501Z",
          "start_time": "2019-02-06T15:01:04.261875Z"
        },
        "colab_type": "code",
        "id": "Vl-3pGg7wyA0",
        "outputId": "6c928a18-cb08-4766-efe8-cdc529f36264",
        "colab": {
          "base_uri": "https://localhost:8080/",
          "height": 34
        }
      },
      "source": [
        "w = [2000, 0]\n",
        "w[-1]"
      ],
      "execution_count": 14,
      "outputs": [
        {
          "output_type": "execute_result",
          "data": {
            "text/plain": [
              "0"
            ]
          },
          "metadata": {
            "tags": []
          },
          "execution_count": 14
        }
      ]
    },
    {
      "cell_type": "code",
      "metadata": {
        "ExecuteTime": {
          "end_time": "2019-02-06T15:01:04.271473Z",
          "start_time": "2019-02-06T15:01:04.267050Z"
        },
        "colab_type": "code",
        "id": "AXoyyzovwbnu",
        "outputId": "ba3ee620-4f5f-45f3-eadb-04ed1c38e6ba",
        "colab": {
          "base_uri": "https://localhost:8080/",
          "height": 34
        }
      },
      "source": [
        "import numpy as np\n",
        "from copy import deepcopy\n",
        "update_weights(x,y,w,1)"
      ],
      "execution_count": 15,
      "outputs": [
        {
          "output_type": "execute_result",
          "data": {
            "text/plain": [
              "[1700.2999925636686, -99.90000113612041]"
            ]
          },
          "metadata": {
            "tags": []
          },
          "execution_count": 15
        }
      ]
    },
    {
      "cell_type": "code",
      "metadata": {
        "ExecuteTime": {
          "end_time": "2019-02-06T15:01:41.999589Z",
          "start_time": "2019-02-06T15:01:04.272917Z"
        },
        "colab_type": "code",
        "id": "Cp1ARjWVxjv6",
        "colab": {}
      },
      "source": [
        "w_val = []\n",
        "b_val = []\n",
        "for k in range(100):\n",
        "    w_new, b_new = update_weights(x,y,w,(k+1))\n",
        "    w_val.append(w_new)\n",
        "    b_val.append(b_new)"
      ],
      "execution_count": 0,
      "outputs": []
    },
    {
      "cell_type": "code",
      "metadata": {
        "ExecuteTime": {
          "end_time": "2019-02-06T15:01:42.439555Z",
          "start_time": "2019-02-06T15:01:42.003499Z"
        },
        "colab_type": "code",
        "id": "YxqiDTabCpbq",
        "outputId": "486aa6ad-ab4e-429a-e34f-1ba86a7eb8c9",
        "colab": {
          "base_uri": "https://localhost:8080/",
          "height": 346
        }
      },
      "source": [
        "import matplotlib.pyplot as plt\n",
        "%matplotlib inline\n",
        "plt.plot(w_val)\n",
        "plt.title('Weight value over different epochs when initial weight is 1.5')\n",
        "plt.xlabel('epochs')\n",
        "plt.ylabel('weight value')\n",
        "plt.grid('off')"
      ],
      "execution_count": 17,
      "outputs": [
        {
          "output_type": "stream",
          "text": [
            "/usr/local/lib/python3.6/dist-packages/matplotlib/cbook/__init__.py:424: MatplotlibDeprecationWarning: \n",
            "Passing one of 'on', 'true', 'off', 'false' as a boolean is deprecated; use an actual boolean (True/False) instead.\n",
            "  warn_deprecated(\"2.2\", \"Passing one of 'on', 'true', 'off', 'false' as a \"\n"
          ],
          "name": "stderr"
        },
        {
          "output_type": "display_data",
          "data": {
            "image/png": "[encoded data removed]",
            "text/plain": [
              "<Figure size 432x288 with 1 Axes>"
            ]
          },
          "metadata": {
            "tags": []
          }
        }
      ]
    },
    {
      "cell_type": "code",
      "metadata": {
        "ExecuteTime": {
          "end_time": "2019-02-06T15:01:42.595083Z",
          "start_time": "2019-02-06T15:01:42.441418Z"
        },
        "colab_type": "code",
        "id": "vD7_gStUCag4",
        "outputId": "684da867-5510-46b4-94e1-6dbf6ee7cb41",
        "colab": {
          "base_uri": "https://localhost:8080/",
          "height": 346
        }
      },
      "source": [
        "import matplotlib.pyplot as plt\n",
        "%matplotlib inline\n",
        "plt.plot(w_val)\n",
        "plt.title('Weight value over different epochs when initial weight is 0.01')\n",
        "plt.xlabel('epochs')\n",
        "plt.ylabel('weight value')\n",
        "plt.grid('off')"
      ],
      "execution_count": 18,
      "outputs": [
        {
          "output_type": "stream",
          "text": [
            "/usr/local/lib/python3.6/dist-packages/matplotlib/cbook/__init__.py:424: MatplotlibDeprecationWarning: \n",
            "Passing one of 'on', 'true', 'off', 'false' as a boolean is deprecated; use an actual boolean (True/False) instead.\n",
            "  warn_deprecated(\"2.2\", \"Passing one of 'on', 'true', 'off', 'false' as a \"\n"
          ],
          "name": "stderr"
        },
        {
          "output_type": "display_data",
          "data": {
            "image/png": "[encoded data removed]",
            "text/plain": [
              "<Figure size 432x288 with 1 Axes>"
            ]
          },
          "metadata": {
            "tags": []
          }
        }
      ]
    },
    {
      "cell_type": "code",
      "metadata": {
        "ExecuteTime": {
          "end_time": "2019-02-06T15:01:42.751047Z",
          "start_time": "2019-02-06T15:01:42.596516Z"
        },
        "colab_type": "code",
        "id": "0QmI07khy8Yt",
        "outputId": "7c5e239c-1cbf-4f81-c8ce-f605ed954966",
        "colab": {
          "base_uri": "https://localhost:8080/",
          "height": 346
        }
      },
      "source": [
        "import matplotlib.pyplot as plt\n",
        "%matplotlib inline\n",
        "plt.plot(w_val)\n",
        "plt.title('Weight value over different epochs when initial weight is 0.00001')\n",
        "plt.xlabel('epochs')\n",
        "plt.ylabel('weight value')\n",
        "plt.grid('off')"
      ],
      "execution_count": 19,
      "outputs": [
        {
          "output_type": "stream",
          "text": [
            "/usr/local/lib/python3.6/dist-packages/matplotlib/cbook/__init__.py:424: MatplotlibDeprecationWarning: \n",
            "Passing one of 'on', 'true', 'off', 'false' as a boolean is deprecated; use an actual boolean (True/False) instead.\n",
            "  warn_deprecated(\"2.2\", \"Passing one of 'on', 'true', 'off', 'false' as a \"\n"
          ],
          "name": "stderr"
        },
        {
          "output_type": "display_data",
          "data": {
            "image/png": "[encoded data removed]",
            "text/plain": [
              "<Figure size 432x288 with 1 Axes>"
            ]
          },
          "metadata": {
            "tags": []
          }
        }
      ]
    },
    {
      "cell_type": "code",
      "metadata": {
        "ExecuteTime": {
          "end_time": "2019-02-06T15:01:42.756141Z",
          "start_time": "2019-02-06T15:01:42.752481Z"
        },
        "colab_type": "code",
        "id": "JQhrdZhQqEdW",
        "outputId": "27faf895-e7cb-4555-b133-ad14b9215e5f",
        "colab": {
          "base_uri": "https://localhost:8080/",
          "height": 34
        }
      },
      "source": [
        "w = list(model.get_weights().copy())\n",
        "w"
      ],
      "execution_count": 20,
      "outputs": [
        {
          "output_type": "execute_result",
          "data": {
            "text/plain": [
              "[array([[-0.07377076]], dtype=float32), array([0.], dtype=float32)]"
            ]
          },
          "metadata": {
            "tags": []
          },
          "execution_count": 20
        }
      ]
    },
    {
      "cell_type": "code",
      "metadata": {
        "ExecuteTime": {
          "end_time": "2019-02-06T15:01:42.771200Z",
          "start_time": "2019-02-06T15:01:42.757573Z"
        },
        "colab_type": "code",
        "id": "wJMNp4m2kh2X",
        "outputId": "c6ff2567-78b3-449c-f7c2-adf16dc743da",
        "colab": {
          "base_uri": "https://localhost:8080/",
          "height": 34
        }
      },
      "source": [
        "update_weights(x,y,w,100)"
      ],
      "execution_count": 21,
      "outputs": [
        {
          "output_type": "execute_result",
          "data": {
            "text/plain": [
              "[array([[1.8406178]], dtype=float32), array([0.46846756], dtype=float32)]"
            ]
          },
          "metadata": {
            "tags": []
          },
          "execution_count": 21
        }
      ]
    },
    {
      "cell_type": "code",
      "metadata": {
        "ExecuteTime": {
          "end_time": "2019-02-06T15:01:43.086233Z",
          "start_time": "2019-02-06T15:01:42.772533Z"
        },
        "colab_type": "code",
        "id": "gsBQ4FM5kmKm",
        "outputId": "d0c8c81b-b8ed-4fcc-9bf3-0e0f19ca2897",
        "colab": {
          "base_uri": "https://localhost:8080/",
          "height": 1000
        }
      },
      "source": [
        "model.fit(np.array(x), np.array(y), epochs=100, batch_size = 4, verbose=1)"
      ],
      "execution_count": 22,
      "outputs": [
        {
          "output_type": "stream",
          "text": [
            "Epoch 1/100\n",
            "4/4 [==============================] - 0s 60ms/step - loss: 32.2539 - acc: 0.0000e+00\n",
            "Epoch 2/100\n",
            "4/4 [==============================] - 0s 1ms/step - loss: 22.4004 - acc: 0.0000e+00\n",
            "Epoch 3/100\n",
            "4/4 [==============================] - 0s 1ms/step - loss: 15.5631 - acc: 0.0000e+00\n",
            "Epoch 4/100\n",
            "4/4 [==============================] - 0s 1ms/step - loss: 10.8187 - acc: 0.0000e+00\n",
            "Epoch 5/100\n",
            "4/4 [==============================] - 0s 1ms/step - loss: 7.5265 - acc: 0.0000e+00\n",
            "Epoch 6/100\n",
            "4/4 [==============================] - 0s 1ms/step - loss: 5.2421 - acc: 0.0000e+00\n",
            "Epoch 7/100\n",
            "4/4 [==============================] - 0s 1ms/step - loss: 3.6568 - acc: 0.2500\n",
            "Epoch 8/100\n",
            "4/4 [==============================] - 0s 1ms/step - loss: 2.5567 - acc: 0.2500\n",
            "Epoch 9/100\n",
            "4/4 [==============================] - 0s 948us/step - loss: 1.7932 - acc: 0.2500\n",
            "Epoch 10/100\n",
            "4/4 [==============================] - 0s 1ms/step - loss: 1.2634 - acc: 0.2500\n",
            "Epoch 11/100\n",
            "4/4 [==============================] - 0s 264us/step - loss: 0.8956 - acc: 0.2500\n",
            "Epoch 12/100\n",
            "4/4 [==============================] - 0s 1ms/step - loss: 0.6403 - acc: 0.5000\n",
            "Epoch 13/100\n",
            "4/4 [==============================] - 0s 739us/step - loss: 0.4631 - acc: 0.5000\n",
            "Epoch 14/100\n",
            "4/4 [==============================] - 0s 480us/step - loss: 0.3400 - acc: 0.5000\n",
            "Epoch 15/100\n",
            "4/4 [==============================] - 0s 412us/step - loss: 0.2544 - acc: 0.7500\n",
            "Epoch 16/100\n",
            "4/4 [==============================] - 0s 441us/step - loss: 0.1950 - acc: 0.7500\n",
            "Epoch 17/100\n",
            "4/4 [==============================] - 0s 399us/step - loss: 0.1536 - acc: 0.7500\n",
            "Epoch 18/100\n",
            "4/4 [==============================] - 0s 394us/step - loss: 0.1248 - acc: 0.7500\n",
            "Epoch 19/100\n",
            "4/4 [==============================] - 0s 418us/step - loss: 0.1047 - acc: 0.7500\n",
            "Epoch 20/100\n",
            "4/4 [==============================] - 0s 419us/step - loss: 0.0906 - acc: 1.0000\n",
            "Epoch 21/100\n",
            "4/4 [==============================] - 0s 438us/step - loss: 0.0808 - acc: 1.0000\n",
            "Epoch 22/100\n",
            "4/4 [==============================] - 0s 359us/step - loss: 0.0738 - acc: 1.0000\n",
            "Epoch 23/100\n",
            "4/4 [==============================] - 0s 336us/step - loss: 0.0689 - acc: 1.0000\n",
            "Epoch 24/100\n",
            "4/4 [==============================] - 0s 366us/step - loss: 0.0653 - acc: 1.0000\n",
            "Epoch 25/100\n",
            "4/4 [==============================] - 0s 341us/step - loss: 0.0628 - acc: 1.0000\n",
            "Epoch 26/100\n",
            "4/4 [==============================] - 0s 365us/step - loss: 0.0609 - acc: 1.0000\n",
            "Epoch 27/100\n",
            "4/4 [==============================] - 0s 357us/step - loss: 0.0595 - acc: 1.0000\n",
            "Epoch 28/100\n",
            "4/4 [==============================] - 0s 327us/step - loss: 0.0584 - acc: 1.0000\n",
            "Epoch 29/100\n",
            "4/4 [==============================] - 0s 352us/step - loss: 0.0576 - acc: 1.0000\n",
            "Epoch 30/100\n",
            "4/4 [==============================] - 0s 329us/step - loss: 0.0569 - acc: 1.0000\n",
            "Epoch 31/100\n",
            "4/4 [==============================] - 0s 764us/step - loss: 0.0563 - acc: 1.0000\n",
            "Epoch 32/100\n",
            "4/4 [==============================] - 0s 344us/step - loss: 0.0558 - acc: 1.0000\n",
            "Epoch 33/100\n",
            "4/4 [==============================] - 0s 354us/step - loss: 0.0554 - acc: 1.0000\n",
            "Epoch 34/100\n",
            "4/4 [==============================] - 0s 377us/step - loss: 0.0550 - acc: 1.0000\n",
            "Epoch 35/100\n",
            "4/4 [==============================] - 0s 320us/step - loss: 0.0546 - acc: 1.0000\n",
            "Epoch 36/100\n",
            "4/4 [==============================] - 0s 325us/step - loss: 0.0542 - acc: 1.0000\n",
            "Epoch 37/100\n",
            "4/4 [==============================] - 0s 347us/step - loss: 0.0539 - acc: 1.0000\n",
            "Epoch 38/100\n",
            "4/4 [==============================] - 0s 331us/step - loss: 0.0535 - acc: 1.0000\n",
            "Epoch 39/100\n",
            "4/4 [==============================] - 0s 322us/step - loss: 0.0532 - acc: 1.0000\n",
            "Epoch 40/100\n",
            "4/4 [==============================] - 0s 351us/step - loss: 0.0529 - acc: 1.0000\n",
            "Epoch 41/100\n",
            "4/4 [==============================] - 0s 337us/step - loss: 0.0525 - acc: 1.0000\n",
            "Epoch 42/100\n",
            "4/4 [==============================] - 0s 336us/step - loss: 0.0522 - acc: 1.0000\n",
            "Epoch 43/100\n",
            "4/4 [==============================] - 0s 365us/step - loss: 0.0519 - acc: 1.0000\n",
            "Epoch 44/100\n",
            "4/4 [==============================] - 0s 350us/step - loss: 0.0516 - acc: 1.0000\n",
            "Epoch 45/100\n",
            "4/4 [==============================] - 0s 323us/step - loss: 0.0513 - acc: 1.0000\n",
            "Epoch 46/100\n",
            "4/4 [==============================] - 0s 357us/step - loss: 0.0510 - acc: 1.0000\n",
            "Epoch 47/100\n",
            "4/4 [==============================] - 0s 310us/step - loss: 0.0507 - acc: 1.0000\n",
            "Epoch 48/100\n",
            "4/4 [==============================] - 0s 346us/step - loss: 0.0504 - acc: 1.0000\n",
            "Epoch 49/100\n",
            "4/4 [==============================] - 0s 333us/step - loss: 0.0501 - acc: 1.0000\n",
            "Epoch 50/100\n",
            "4/4 [==============================] - 0s 328us/step - loss: 0.0498 - acc: 1.0000\n",
            "Epoch 51/100\n",
            "4/4 [==============================] - 0s 406us/step - loss: 0.0495 - acc: 1.0000\n",
            "Epoch 52/100\n",
            "4/4 [==============================] - 0s 368us/step - loss: 0.0492 - acc: 1.0000\n",
            "Epoch 53/100\n",
            "4/4 [==============================] - 0s 337us/step - loss: 0.0489 - acc: 1.0000\n",
            "Epoch 54/100\n",
            "4/4 [==============================] - 0s 337us/step - loss: 0.0486 - acc: 1.0000\n",
            "Epoch 55/100\n",
            "4/4 [==============================] - 0s 322us/step - loss: 0.0483 - acc: 1.0000\n",
            "Epoch 56/100\n",
            "4/4 [==============================] - 0s 299us/step - loss: 0.0480 - acc: 1.0000\n",
            "Epoch 57/100\n",
            "4/4 [==============================] - 0s 382us/step - loss: 0.0477 - acc: 1.0000\n",
            "Epoch 58/100\n",
            "4/4 [==============================] - 0s 343us/step - loss: 0.0474 - acc: 1.0000\n",
            "Epoch 59/100\n",
            "4/4 [==============================] - 0s 474us/step - loss: 0.0471 - acc: 1.0000\n",
            "Epoch 60/100\n",
            "4/4 [==============================] - 0s 329us/step - loss: 0.0469 - acc: 1.0000\n",
            "Epoch 61/100\n",
            "4/4 [==============================] - 0s 454us/step - loss: 0.0466 - acc: 1.0000\n",
            "Epoch 62/100\n",
            "4/4 [==============================] - 0s 430us/step - loss: 0.0463 - acc: 1.0000\n",
            "Epoch 63/100\n",
            "4/4 [==============================] - 0s 378us/step - loss: 0.0460 - acc: 1.0000\n",
            "Epoch 64/100\n",
            "4/4 [==============================] - 0s 407us/step - loss: 0.0457 - acc: 1.0000\n",
            "Epoch 65/100\n",
            "4/4 [==============================] - 0s 355us/step - loss: 0.0455 - acc: 1.0000\n",
            "Epoch 66/100\n",
            "4/4 [==============================] - 0s 354us/step - loss: 0.0452 - acc: 1.0000\n",
            "Epoch 67/100\n",
            "4/4 [==============================] - 0s 361us/step - loss: 0.0449 - acc: 1.0000\n",
            "Epoch 68/100\n",
            "4/4 [==============================] - 0s 321us/step - loss: 0.0447 - acc: 1.0000\n",
            "Epoch 69/100\n",
            "4/4 [==============================] - 0s 336us/step - loss: 0.0444 - acc: 1.0000\n",
            "Epoch 70/100\n",
            "4/4 [==============================] - 0s 348us/step - loss: 0.0441 - acc: 1.0000\n",
            "Epoch 71/100\n",
            "4/4 [==============================] - 0s 311us/step - loss: 0.0439 - acc: 1.0000\n",
            "Epoch 72/100\n",
            "4/4 [==============================] - 0s 327us/step - loss: 0.0436 - acc: 1.0000\n",
            "Epoch 73/100\n",
            "4/4 [==============================] - 0s 326us/step - loss: 0.0433 - acc: 1.0000\n",
            "Epoch 74/100\n",
            "4/4 [==============================] - 0s 357us/step - loss: 0.0431 - acc: 1.0000\n",
            "Epoch 75/100\n",
            "4/4 [==============================] - 0s 335us/step - loss: 0.0428 - acc: 1.0000\n",
            "Epoch 76/100\n",
            "4/4 [==============================] - 0s 341us/step - loss: 0.0426 - acc: 1.0000\n",
            "Epoch 77/100\n",
            "4/4 [==============================] - 0s 356us/step - loss: 0.0423 - acc: 1.0000\n",
            "Epoch 78/100\n",
            "4/4 [==============================] - 0s 337us/step - loss: 0.0421 - acc: 1.0000\n",
            "Epoch 79/100\n",
            "4/4 [==============================] - 0s 340us/step - loss: 0.0418 - acc: 1.0000\n",
            "Epoch 80/100\n",
            "4/4 [==============================] - 0s 318us/step - loss: 0.0416 - acc: 1.0000\n",
            "Epoch 81/100\n",
            "4/4 [==============================] - 0s 331us/step - loss: 0.0413 - acc: 1.0000\n",
            "Epoch 82/100\n",
            "4/4 [==============================] - 0s 357us/step - loss: 0.0411 - acc: 1.0000\n",
            "Epoch 83/100\n",
            "4/4 [==============================] - 0s 334us/step - loss: 0.0408 - acc: 1.0000\n",
            "Epoch 84/100\n",
            "4/4 [==============================] - 0s 359us/step - loss: 0.0406 - acc: 1.0000\n",
            "Epoch 85/100\n",
            "4/4 [==============================] - 0s 311us/step - loss: 0.0403 - acc: 1.0000\n",
            "Epoch 86/100\n",
            "4/4 [==============================] - 0s 319us/step - loss: 0.0401 - acc: 1.0000\n",
            "Epoch 87/100\n",
            "4/4 [==============================] - 0s 314us/step - loss: 0.0399 - acc: 1.0000\n",
            "Epoch 88/100\n",
            "4/4 [==============================] - 0s 296us/step - loss: 0.0396 - acc: 1.0000\n",
            "Epoch 89/100\n",
            "4/4 [==============================] - 0s 327us/step - loss: 0.0394 - acc: 1.0000\n",
            "Epoch 90/100\n",
            "4/4 [==============================] - 0s 323us/step - loss: 0.0391 - acc: 1.0000\n",
            "Epoch 91/100\n",
            "4/4 [==============================] - 0s 330us/step - loss: 0.0389 - acc: 1.0000\n",
            "Epoch 92/100\n",
            "4/4 [==============================] - 0s 312us/step - loss: 0.0387 - acc: 1.0000\n",
            "Epoch 93/100\n",
            "4/4 [==============================] - 0s 414us/step - loss: 0.0384 - acc: 1.0000\n",
            "Epoch 94/100\n",
            "4/4 [==============================] - 0s 389us/step - loss: 0.0382 - acc: 1.0000\n",
            "Epoch 95/100\n",
            "4/4 [==============================] - 0s 378us/step - loss: 0.0380 - acc: 1.0000\n",
            "Epoch 96/100\n",
            "4/4 [==============================] - 0s 367us/step - loss: 0.0378 - acc: 1.0000\n",
            "Epoch 97/100\n",
            "4/4 [==============================] - 0s 392us/step - loss: 0.0375 - acc: 1.0000\n",
            "Epoch 98/100\n",
            "4/4 [==============================] - 0s 338us/step - loss: 0.0373 - acc: 1.0000\n",
            "Epoch 99/100\n",
            "4/4 [==============================] - 0s 294us/step - loss: 0.0371 - acc: 1.0000\n",
            "Epoch 100/100\n",
            "4/4 [==============================] - 0s 282us/step - loss: 0.0369 - acc: 1.0000\n"
          ],
          "name": "stdout"
        },
        {
          "output_type": "execute_result",
          "data": {
            "text/plain": [
              "<keras.callbacks.History at 0x7f4813b89a58>"
            ]
          },
          "metadata": {
            "tags": []
          },
          "execution_count": 22
        }
      ]
    },
    {
      "cell_type": "code",
      "metadata": {
        "ExecuteTime": {
          "end_time": "2019-02-06T15:01:43.092924Z",
          "start_time": "2019-02-06T15:01:43.088369Z"
        },
        "colab_type": "code",
        "id": "-XgMBr75kpoU",
        "outputId": "f7282cb6-93d1-4162-d3cd-6c5de08457c1",
        "colab": {
          "base_uri": "https://localhost:8080/",
          "height": 34
        }
      },
      "source": [
        "model.get_weights()"
      ],
      "execution_count": 23,
      "outputs": [
        {
          "output_type": "execute_result",
          "data": {
            "text/plain": [
              "[array([[1.8406798]], dtype=float32), array([0.46842048], dtype=float32)]"
            ]
          },
          "metadata": {
            "tags": []
          },
          "execution_count": 23
        }
      ]
    },
    {
      "cell_type": "code",
      "metadata": {
        "colab_type": "code",
        "id": "hnKdbDXc7_os",
        "colab": {}
      },
      "source": [
        ""
      ],
      "execution_count": 0,
      "outputs": []
    },
    {
      "cell_type": "code",
      "metadata": {
        "colab_type": "code",
        "id": "EIP1fJva7_sV",
        "colab": {}
      },
      "source": [
        ""
      ],
      "execution_count": 0,
      "outputs": []
    },
    {
      "cell_type": "code",
      "metadata": {
        "colab_type": "code",
        "id": "R2617Tap7_0F",
        "colab": {}
      },
      "source": [
        ""
      ],
      "execution_count": 0,
      "outputs": []
    },
    {
      "cell_type": "code",
      "metadata": {
        "colab_type": "code",
        "id": "1Aj_JINC7_x4",
        "colab": {}
      },
      "source": [
        ""
      ],
      "execution_count": 0,
      "outputs": []
    },
    {
      "cell_type": "code",
      "metadata": {
        "colab_type": "code",
        "id": "oKPyff0D7_wJ",
        "colab": {}
      },
      "source": [
        ""
      ],
      "execution_count": 0,
      "outputs": []
    }
  ]
}