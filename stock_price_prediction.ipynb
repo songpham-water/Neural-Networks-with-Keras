{
  "nbformat": 4,
  "nbformat_minor": 0,
  "metadata": {
    "colab": {
      "name": "stock_price_prediction.ipynb",
      "provenance": [],
      "collapsed_sections": []
    },
    "kernelspec": {
      "name": "python3",
      "display_name": "Python 3"
    },
    "accelerator": "GPU"
  },
  "cells": [
    {
      "cell_type": "markdown",
      "metadata": {
        "id": "pMcNdRFdGjtZ",
        "colab_type": "text"
      },
      "source": [
        "https://colab.research.google.com/drive/1GK_JQZz2sRX3Yc-0mrwbtOKH84r-XnKT"
      ]
    },
    {
      "cell_type": "code",
      "metadata": {
        "id": "5Y3bHRRwG66w",
        "colab_type": "code",
        "outputId": "7cca36ff-eb33-44d9-c990-e59c38af6b9d",
        "colab": {
          "base_uri": "https://localhost:8080/",
          "height": 377
        }
      },
      "source": [
        "!wget https://www.dropbox.com/s/6fab2uqje8e5bf5/stock_data.csv"
      ],
      "execution_count": 0,
      "outputs": [
        {
          "output_type": "stream",
          "text": [
            "--2019-09-18 05:16:37--  https://www.dropbox.com/s/6fab2uqje8e5bf5/stock_data.csv\n",
            "Resolving www.dropbox.com (www.dropbox.com)... 162.125.9.1, 2620:100:601f:1::a27d:901\n",
            "Connecting to www.dropbox.com (www.dropbox.com)|162.125.9.1|:443... connected.\n",
            "HTTP request sent, awaiting response... 301 Moved Permanently\n",
            "Location: /s/raw/6fab2uqje8e5bf5/stock_data.csv [following]\n",
            "--2019-09-18 05:16:42--  https://www.dropbox.com/s/raw/6fab2uqje8e5bf5/stock_data.csv\n",
            "Reusing existing connection to www.dropbox.com:443.\n",
            "HTTP request sent, awaiting response... 302 Found\n",
            "Location: https://uc63d5b096d2126c182390853bd3.dl.dropboxusercontent.com/cd/0/inline/AoyorJDS6KkHHiMtqj99AOqRXSX4ZXAhMB8WbZ8ss2oskdfkfmOZlmW4VGGjo7ezINJJqNhESsLWEr_Rx5RqcXjF462_dEu0LIMA8QJwXTZggw/file# [following]\n",
            "--2019-09-18 05:16:43--  https://uc63d5b096d2126c182390853bd3.dl.dropboxusercontent.com/cd/0/inline/AoyorJDS6KkHHiMtqj99AOqRXSX4ZXAhMB8WbZ8ss2oskdfkfmOZlmW4VGGjo7ezINJJqNhESsLWEr_Rx5RqcXjF462_dEu0LIMA8QJwXTZggw/file\n",
            "Resolving uc63d5b096d2126c182390853bd3.dl.dropboxusercontent.com (uc63d5b096d2126c182390853bd3.dl.dropboxusercontent.com)... 162.125.9.6, 2620:100:601f:6::a27d:906\n",
            "Connecting to uc63d5b096d2126c182390853bd3.dl.dropboxusercontent.com (uc63d5b096d2126c182390853bd3.dl.dropboxusercontent.com)|162.125.9.6|:443... connected.\n",
            "HTTP request sent, awaiting response... 200 OK\n",
            "Length: 169042 (165K) [text/plain]\n",
            "Saving to: ‘stock_data.csv’\n",
            "\n",
            "stock_data.csv      100%[===================>] 165.08K  --.-KB/s    in 0.06s   \n",
            "\n",
            "2019-09-18 05:16:43 (2.86 MB/s) - ‘stock_data.csv’ saved [169042/169042]\n",
            "\n"
          ],
          "name": "stdout"
        }
      ]
    },
    {
      "cell_type": "code",
      "metadata": {
        "id": "mFtjbDYqzNqc",
        "colab_type": "code",
        "outputId": "fd624885-cbca-45e2-fe70-a1bd9991724b",
        "colab": {
          "base_uri": "https://localhost:8080/",
          "height": 34
        }
      },
      "source": [
        "!ls"
      ],
      "execution_count": 0,
      "outputs": [
        {
          "output_type": "stream",
          "text": [
            "sample_data  stock_data.csv\n"
          ],
          "name": "stdout"
        }
      ]
    },
    {
      "cell_type": "code",
      "metadata": {
        "id": "PwDDtBaaG9yk",
        "colab_type": "code",
        "colab": {}
      },
      "source": [
        "import pandas as pd\n",
        "data2 = pd.read_csv('stock_data.csv')"
      ],
      "execution_count": 0,
      "outputs": []
    },
    {
      "cell_type": "code",
      "metadata": {
        "id": "YNeCh6WaHAUI",
        "colab_type": "code",
        "colab": {}
      },
      "source": [
        "x= []\n",
        "y = []\n",
        "for i in range(data2.shape[0]-5):\n",
        " x.append(data2.loc[i:(i+4)]['Close'].values)\n",
        " y.append(data2.loc[i+5]['Close'])"
      ],
      "execution_count": 0,
      "outputs": []
    },
    {
      "cell_type": "code",
      "metadata": {
        "id": "gKy5nnl2HCSs",
        "colab_type": "code",
        "colab": {}
      },
      "source": [
        "import numpy as np\n",
        "x = np.array(x)\n",
        "y = np.array(y)"
      ],
      "execution_count": 0,
      "outputs": []
    },
    {
      "cell_type": "code",
      "metadata": {
        "id": "_n6WsLHeHG05",
        "colab_type": "code",
        "colab": {}
      },
      "source": [
        "from sklearn.model_selection import train_test_split\n",
        "X_train, X_test, y_train, y_test = train_test_split(x, y, test_size=0.30,random_state=10)"
      ],
      "execution_count": 0,
      "outputs": []
    },
    {
      "cell_type": "code",
      "metadata": {
        "id": "K3LPeDekHKEo",
        "colab_type": "code",
        "outputId": "e6ac412a-4986-4565-a93f-a5e3a01d8c3c",
        "colab": {
          "base_uri": "https://localhost:8080/",
          "height": 340
        }
      },
      "source": [
        "from keras.layers import Dense\n",
        "from keras.models import Sequential, Model\n",
        "model = Sequential()\n",
        "model.add(Dense(100, input_dim = 5, activation = 'relu'))\n",
        "model.add(Dense(1,activation='linear'))\n",
        "model.summary()"
      ],
      "execution_count": 0,
      "outputs": [
        {
          "output_type": "stream",
          "text": [
            "Using TensorFlow backend.\n"
          ],
          "name": "stderr"
        },
        {
          "output_type": "stream",
          "text": [
            "WARNING:tensorflow:From /usr/local/lib/python3.6/dist-packages/keras/backend/tensorflow_backend.py:66: The name tf.get_default_graph is deprecated. Please use tf.compat.v1.get_default_graph instead.\n",
            "\n",
            "WARNING:tensorflow:From /usr/local/lib/python3.6/dist-packages/keras/backend/tensorflow_backend.py:541: The name tf.placeholder is deprecated. Please use tf.compat.v1.placeholder instead.\n",
            "\n",
            "WARNING:tensorflow:From /usr/local/lib/python3.6/dist-packages/keras/backend/tensorflow_backend.py:4432: The name tf.random_uniform is deprecated. Please use tf.random.uniform instead.\n",
            "\n",
            "Model: \"sequential_1\"\n",
            "_________________________________________________________________\n",
            "Layer (type)                 Output Shape              Param #   \n",
            "=================================================================\n",
            "dense_1 (Dense)              (None, 100)               600       \n",
            "_________________________________________________________________\n",
            "dense_2 (Dense)              (None, 1)                 101       \n",
            "=================================================================\n",
            "Total params: 701\n",
            "Trainable params: 701\n",
            "Non-trainable params: 0\n",
            "_________________________________________________________________\n"
          ],
          "name": "stdout"
        }
      ]
    },
    {
      "cell_type": "code",
      "metadata": {
        "id": "aQTaFw1QH2PT",
        "colab_type": "code",
        "outputId": "51df42f7-f3c3-4e97-d29e-43117afaf87b",
        "colab": {
          "base_uri": "https://localhost:8080/",
          "height": 51
        }
      },
      "source": [
        "model.compile(optimizer='adam', loss='mean_squared_error')"
      ],
      "execution_count": 0,
      "outputs": [
        {
          "output_type": "stream",
          "text": [
            "WARNING:tensorflow:From /usr/local/lib/python3.6/dist-packages/keras/optimizers.py:793: The name tf.train.Optimizer is deprecated. Please use tf.compat.v1.train.Optimizer instead.\n",
            "\n"
          ],
          "name": "stdout"
        }
      ]
    },
    {
      "cell_type": "code",
      "metadata": {
        "id": "0VH_MaksHOsQ",
        "colab_type": "code",
        "colab": {}
      },
      "source": [
        "model.fit(X_train, y_train, epochs=100, batch_size=64, validation_data=(X_test, y_test), verbose = 1)"
      ],
      "execution_count": 0,
      "outputs": []
    },
    {
      "cell_type": "code",
      "metadata": {
        "id": "YpUeH2ENZ4Bq",
        "colab_type": "code",
        "colab": {}
      },
      "source": [
        "from bs4 import BeautifulSoup\n",
        "import urllib, json"
      ],
      "execution_count": 0,
      "outputs": []
    },
    {
      "cell_type": "code",
      "metadata": {
        "id": "h4pquNhuZ6kv",
        "colab_type": "code",
        "outputId": "f60671c3-fa02-45bc-e226-d0f03a2c78b6",
        "colab": {
          "base_uri": "https://localhost:8080/",
          "height": 136
        }
      },
      "source": [
        "dates = []\n",
        "titles = []\n",
        "for i in range(100):\n",
        "  try:\n",
        "    url = 'https://content.guardianapis.com/search?from-date=2010-01-01&section=business&page-size=200&order-by=newest&page='+str(i+1)+'&q=amazon&api-key=207b6047-a2a6-4dd2-813b-5cd006b780d7'\n",
        "    response = urllib.request.urlopen(url)\n",
        "    encoding = response.info().get_content_charset('utf8')\n",
        "    data = json.loads(response.read().decode(encoding))\n",
        "    print(i)\n",
        "    for j in range(len(data['response']['results'])):\n",
        "      dates.append(data['response']['results'][j]['webPublicationDate'])\n",
        "      titles.append(data['response']['results'][j]['webTitle'])  \n",
        "  except:\n",
        "    break"
      ],
      "execution_count": 0,
      "outputs": [
        {
          "output_type": "stream",
          "text": [
            "0\n",
            "1\n",
            "2\n",
            "3\n",
            "4\n",
            "5\n",
            "6\n"
          ],
          "name": "stdout"
        }
      ]
    },
    {
      "cell_type": "code",
      "metadata": {
        "id": "jOxK0c5rZ9aH",
        "colab_type": "code",
        "colab": {}
      },
      "source": [
        "import pandas as pd\n",
        "data = pd.DataFrame(dates, titles)"
      ],
      "execution_count": 0,
      "outputs": []
    },
    {
      "cell_type": "code",
      "metadata": {
        "id": "ulAYpE87Z_a5",
        "colab_type": "code",
        "colab": {}
      },
      "source": [
        "data = data.reset_index()\n",
        "data.columns = ['title','date']"
      ],
      "execution_count": 0,
      "outputs": []
    },
    {
      "cell_type": "code",
      "metadata": {
        "id": "VbnScL2uaDG3",
        "colab_type": "code",
        "colab": {}
      },
      "source": [
        "data['date']=data['date'].str[:10]"
      ],
      "execution_count": 0,
      "outputs": []
    },
    {
      "cell_type": "code",
      "metadata": {
        "id": "3Rjxkad6aFAD",
        "colab_type": "code",
        "colab": {}
      },
      "source": [
        "data['date']=pd.to_datetime(data['date'], format = '%Y-%m-%d')"
      ],
      "execution_count": 0,
      "outputs": []
    },
    {
      "cell_type": "code",
      "metadata": {
        "id": "hHoLTUIhaGeE",
        "colab_type": "code",
        "colab": {}
      },
      "source": [
        "data = data.sort_values(by='date')"
      ],
      "execution_count": 0,
      "outputs": []
    },
    {
      "cell_type": "code",
      "metadata": {
        "id": "pbNMjcyyaIIM",
        "colab_type": "code",
        "colab": {}
      },
      "source": [
        "data_final = data.groupby('date').first().reset_index()"
      ],
      "execution_count": 0,
      "outputs": []
    },
    {
      "cell_type": "code",
      "metadata": {
        "id": "fBH0--RFaJjG",
        "colab_type": "code",
        "colab": {}
      },
      "source": [
        "data2['Date'] = pd.to_datetime(data2['Date'],format='%Y-%m-%d')"
      ],
      "execution_count": 0,
      "outputs": []
    },
    {
      "cell_type": "code",
      "metadata": {
        "id": "uHfaYdCYaP6Y",
        "colab_type": "code",
        "colab": {}
      },
      "source": [
        "data3 = pd.merge(data2,data_final, left_on = 'Date', right_on = 'date', how='left')"
      ],
      "execution_count": 0,
      "outputs": []
    },
    {
      "cell_type": "code",
      "metadata": {
        "id": "6Aarus3_eJJU",
        "colab_type": "code",
        "outputId": "999cd9a0-61e0-405c-9d4c-cfc303408ada",
        "colab": {
          "base_uri": "https://localhost:8080/",
          "height": 34
        }
      },
      "source": [
        "data2.shape"
      ],
      "execution_count": 0,
      "outputs": [
        {
          "output_type": "execute_result",
          "data": {
            "text/plain": [
              "(2261, 7)"
            ]
          },
          "metadata": {
            "tags": []
          },
          "execution_count": 22
        }
      ]
    },
    {
      "cell_type": "code",
      "metadata": {
        "id": "HQAqIWeEd7Eb",
        "colab_type": "code",
        "outputId": "6cd1853b-fc4d-4e02-8ee3-8ecc7e63ef84",
        "colab": {
          "base_uri": "https://localhost:8080/",
          "height": 34
        }
      },
      "source": [
        "data3.shape"
      ],
      "execution_count": 0,
      "outputs": [
        {
          "output_type": "execute_result",
          "data": {
            "text/plain": [
              "(2261, 9)"
            ]
          },
          "metadata": {
            "tags": []
          },
          "execution_count": 23
        }
      ]
    },
    {
      "cell_type": "code",
      "metadata": {
        "id": "jolqiCJ2aRY_",
        "colab_type": "code",
        "outputId": "07892067-c0f0-4071-857e-c02c1df3ad22",
        "colab": {
          "base_uri": "https://localhost:8080/",
          "height": 51
        }
      },
      "source": [
        "import nltk\n",
        "import re\n",
        "nltk.download('stopwords')\n",
        "stop = nltk.corpus.stopwords.words('english')\n",
        "def preprocess(text):\n",
        "    text = str(text)\n",
        "    text=text.lower()\n",
        "    text=re.sub('[^0-9a-zA-Z]+',' ',text)\n",
        "    words = text.split()\n",
        "    words2=[w for w in words if (w not in stop)]\n",
        "    #words3=[ps.stem(w) for w in words]\n",
        "    words4=' '.join(words2)\n",
        "    return(words4)\n",
        "data3['title'] = data3['title'].apply(preprocess)"
      ],
      "execution_count": 0,
      "outputs": [
        {
          "output_type": "stream",
          "text": [
            "[nltk_data] Downloading package stopwords to /root/nltk_data...\n",
            "[nltk_data]   Unzipping corpora/stopwords.zip.\n"
          ],
          "name": "stdout"
        }
      ]
    },
    {
      "cell_type": "code",
      "metadata": {
        "id": "9OjIfVIwaS5t",
        "colab_type": "code",
        "colab": {}
      },
      "source": [
        "data3['title']=np.where(data3['title'].isnull(),'-','-'+data3['title'])"
      ],
      "execution_count": 0,
      "outputs": []
    },
    {
      "cell_type": "code",
      "metadata": {
        "id": "pRF-4hRxaUro",
        "colab_type": "code",
        "colab": {}
      },
      "source": [
        "docs = data3['title'].values"
      ],
      "execution_count": 0,
      "outputs": []
    },
    {
      "cell_type": "code",
      "metadata": {
        "id": "0KwD59MXaWil",
        "colab_type": "code",
        "colab": {}
      },
      "source": [
        "from collections import Counter\n",
        "counts = Counter()\n",
        "for i,review in enumerate(docs):\n",
        "  counts.update(review.split())\n",
        "words = sorted(counts, key=counts.get, reverse=True)\n",
        "vocab_size=len(words)\n",
        "word_to_int = {word: i for i, word in enumerate(words, 1)}\n",
        "encoded_docs = []\n",
        "for doc in docs:\n",
        "  encoded_docs.append([word_to_int[word] for word in doc.split()])"
      ],
      "execution_count": 0,
      "outputs": []
    },
    {
      "cell_type": "code",
      "metadata": {
        "id": "36tz3BW7d2K6",
        "colab_type": "code",
        "outputId": "cdb2a747-e06c-42d1-c4d0-afd86840afd7",
        "colab": {
          "base_uri": "https://localhost:8080/",
          "height": 34
        }
      },
      "source": [
        "docs.shape"
      ],
      "execution_count": 0,
      "outputs": [
        {
          "output_type": "execute_result",
          "data": {
            "text/plain": [
              "(2261,)"
            ]
          },
          "metadata": {
            "tags": []
          },
          "execution_count": 28
        }
      ]
    },
    {
      "cell_type": "code",
      "metadata": {
        "id": "BUxiFUexaX8S",
        "colab_type": "code",
        "outputId": "a9022517-d181-4224-f4d2-80d2a6559e88",
        "colab": {
          "base_uri": "https://localhost:8080/",
          "height": 34
        }
      },
      "source": [
        "vocab_size"
      ],
      "execution_count": 0,
      "outputs": [
        {
          "output_type": "execute_result",
          "data": {
            "text/plain": [
              "2307"
            ]
          },
          "metadata": {
            "tags": []
          },
          "execution_count": 29
        }
      ]
    },
    {
      "cell_type": "code",
      "metadata": {
        "id": "wYP4h4XGaaQp",
        "colab_type": "code",
        "colab": {}
      },
      "source": [
        "import numpy as np\n",
        "def vectorize_sequences(sequences, dimension=vocab_size):\n",
        "     results = np.zeros((len(sequences), dimension+1))\n",
        "     for i, sequence in enumerate(sequences):\n",
        "         results[i, sequence] = 1.\n",
        "     return results"
      ],
      "execution_count": 0,
      "outputs": []
    },
    {
      "cell_type": "code",
      "metadata": {
        "id": "bFLitTu1ajnL",
        "colab_type": "code",
        "colab": {}
      },
      "source": [
        "vectorized_docs = vectorize_sequences(encoded_docs)"
      ],
      "execution_count": 0,
      "outputs": []
    },
    {
      "cell_type": "code",
      "metadata": {
        "id": "iWHyW9D5ar7H",
        "colab_type": "code",
        "outputId": "cc53bafe-7a27-4fe2-ec72-20712e7c6639",
        "colab": {
          "base_uri": "https://localhost:8080/",
          "height": 34
        }
      },
      "source": [
        "vectorized_docs.shape"
      ],
      "execution_count": 0,
      "outputs": [
        {
          "output_type": "execute_result",
          "data": {
            "text/plain": [
              "(2261, 2308)"
            ]
          },
          "metadata": {
            "tags": []
          },
          "execution_count": 32
        }
      ]
    },
    {
      "cell_type": "code",
      "metadata": {
        "id": "nwHdv-PAb4qA",
        "colab_type": "code",
        "colab": {}
      },
      "source": [
        "from keras.layers import Dense, Input\n",
        "from keras import Model\n",
        "import keras.backend as K"
      ],
      "execution_count": 0,
      "outputs": []
    },
    {
      "cell_type": "code",
      "metadata": {
        "id": "wL6QyRrJbPYk",
        "colab_type": "code",
        "colab": {}
      },
      "source": [
        "input1 = Input(shape=(2308,))\n",
        "model = (Dense(100, activation='relu'))(input1)\n",
        "model = (Dense(1, activation='tanh'))(model)"
      ],
      "execution_count": 0,
      "outputs": []
    },
    {
      "cell_type": "code",
      "metadata": {
        "id": "1RTER7subvX8",
        "colab_type": "code",
        "colab": {}
      },
      "source": [
        "input2 = Input(shape=(5,))\n",
        "model2 = (Dense(100, activation='relu'))(input2)\n",
        "model2 = (Dense(1, activation='linear'))(model2)"
      ],
      "execution_count": 0,
      "outputs": []
    },
    {
      "cell_type": "code",
      "metadata": {
        "id": "jnfQR81fb_hf",
        "colab_type": "code",
        "colab": {}
      },
      "source": [
        "from keras.layers import multiply\n",
        "out = multiply([model, model2])"
      ],
      "execution_count": 0,
      "outputs": []
    },
    {
      "cell_type": "code",
      "metadata": {
        "id": "qs6MEvjUcNJm",
        "colab_type": "code",
        "outputId": "57e5f1c8-7174-4bd0-a31b-1465b8d3d9ce",
        "colab": {
          "base_uri": "https://localhost:8080/",
          "height": 408
        }
      },
      "source": [
        "model = Model([input1, input2], out)\n",
        "model.summary()"
      ],
      "execution_count": 0,
      "outputs": [
        {
          "output_type": "stream",
          "text": [
            "Model: \"model_2\"\n",
            "__________________________________________________________________________________________________\n",
            "Layer (type)                    Output Shape         Param #     Connected to                     \n",
            "==================================================================================================\n",
            "input_3 (InputLayer)            (None, 2308)         0                                            \n",
            "__________________________________________________________________________________________________\n",
            "input_4 (InputLayer)            (None, 5)            0                                            \n",
            "__________________________________________________________________________________________________\n",
            "dense_7 (Dense)                 (None, 100)          230900      input_3[0][0]                    \n",
            "__________________________________________________________________________________________________\n",
            "dense_9 (Dense)                 (None, 100)          600         input_4[0][0]                    \n",
            "__________________________________________________________________________________________________\n",
            "dense_8 (Dense)                 (None, 1)            101         dense_7[0][0]                    \n",
            "__________________________________________________________________________________________________\n",
            "dense_10 (Dense)                (None, 1)            101         dense_9[0][0]                    \n",
            "__________________________________________________________________________________________________\n",
            "multiply_2 (Multiply)           (None, 1)            0           dense_8[0][0]                    \n",
            "                                                                 dense_10[0][0]                   \n",
            "==================================================================================================\n",
            "Total params: 231,702\n",
            "Trainable params: 231,702\n",
            "Non-trainable params: 0\n",
            "__________________________________________________________________________________________________\n"
          ],
          "name": "stdout"
        }
      ]
    },
    {
      "cell_type": "code",
      "metadata": {
        "id": "FlrwKERH5JtD",
        "colab_type": "code",
        "outputId": "81e0a17f-8d11-4856-85ce-974cb67bfbe2",
        "colab": {
          "base_uri": "https://localhost:8080/",
          "height": 153
        }
      },
      "source": [
        "!apt install graphviz\n",
        "!pip install pydot pydot-ng"
      ],
      "execution_count": 0,
      "outputs": [
        {
          "output_type": "stream",
          "text": [
            "Reading package lists... Done\n",
            "Building dependency tree       \n",
            "Reading state information... Done\n",
            "graphviz is already the newest version (2.40.1-2).\n",
            "0 upgraded, 0 newly installed, 0 to remove and 8 not upgraded.\n",
            "Requirement already satisfied: pydot in /usr/local/lib/python3.6/dist-packages (1.3.0)\n",
            "Requirement already satisfied: pydot-ng in /usr/local/lib/python3.6/dist-packages (2.0.0)\n",
            "Requirement already satisfied: pyparsing>=2.1.4 in /usr/local/lib/python3.6/dist-packages (from pydot) (2.4.2)\n"
          ],
          "name": "stdout"
        }
      ]
    },
    {
      "cell_type": "code",
      "metadata": {
        "id": "ZXmn76ne52U9",
        "colab_type": "code",
        "colab": {}
      },
      "source": [
        "from keras.models import Model\n",
        "from keras.layers import Input, Dense\n",
        "from keras.utils import plot_model"
      ],
      "execution_count": 0,
      "outputs": []
    },
    {
      "cell_type": "code",
      "metadata": {
        "id": "XwkonZju542n",
        "colab_type": "code",
        "outputId": "3f3a8802-352e-46be-9c75-1dc96a9114d5",
        "colab": {
          "base_uri": "https://localhost:8080/",
          "height": 219
        }
      },
      "source": [
        "plot_model(model, show_shapes=True, show_layer_names=True, to_file='model.png')\n",
        "from IPython.display import Image\n",
        "Image(retina=True, filename='model.png')"
      ],
      "execution_count": 0,
      "outputs": [
        {
          "output_type": "execute_result",
          "data": {
            "image/png": "[encoded data removed]",
            "text/plain": [
              "<IPython.core.display.Image object>"
            ]
          },
          "metadata": {
            "tags": [],
            "image/png": {
              "width": 383,
              "height": 202
            }
          },
          "execution_count": 53
        }
      ]
    },
    {
      "cell_type": "code",
      "metadata": {
        "id": "VkrmrAutcP4-",
        "colab_type": "code",
        "colab": {}
      },
      "source": [
        "x1 = np.array(x)\n",
        "x2 = np.array(vectorized_docs[5:])\n",
        "y = np.array(y)"
      ],
      "execution_count": 0,
      "outputs": []
    },
    {
      "cell_type": "code",
      "metadata": {
        "id": "NE7-M__VcvBt",
        "colab_type": "code",
        "outputId": "b3d4661a-25c9-4964-8074-3224b615f36b",
        "colab": {
          "base_uri": "https://localhost:8080/",
          "height": 34
        }
      },
      "source": [
        "print(x1.shape, x2.shape, y.shape)"
      ],
      "execution_count": 0,
      "outputs": [
        {
          "output_type": "stream",
          "text": [
            "(2256, 5) (2256, 2308) (2256,)\n"
          ],
          "name": "stdout"
        }
      ]
    },
    {
      "cell_type": "code",
      "metadata": {
        "id": "DOjQJVBacqXu",
        "colab_type": "code",
        "colab": {}
      },
      "source": [
        "X1_train = x1[:2100,:]\n",
        "X2_train = x2[:2100, :]\n",
        "y_train = y[:2100]\n",
        "\n",
        "X1_test = x1[2100:,:]\n",
        "X2_test = x2[2100:,:]\n",
        "y_test = y[2100:]"
      ],
      "execution_count": 0,
      "outputs": []
    },
    {
      "cell_type": "code",
      "metadata": {
        "id": "-4FFPDHndnbU",
        "colab_type": "code",
        "outputId": "f5739381-d168-464e-f14f-085e6c9486be",
        "colab": {
          "base_uri": "https://localhost:8080/",
          "height": 34
        }
      },
      "source": [
        "print(X1_test.shape, X2_test.shape, y_test.shape)"
      ],
      "execution_count": 0,
      "outputs": [
        {
          "output_type": "stream",
          "text": [
            "(156, 5) (156, 2308) (156,)\n"
          ],
          "name": "stdout"
        }
      ]
    },
    {
      "cell_type": "code",
      "metadata": {
        "id": "RwuITD_-dGni",
        "colab_type": "code",
        "colab": {}
      },
      "source": [
        "model.compile(optimizer='adam', loss='mean_squared_error', metrics=['acc'])"
      ],
      "execution_count": 0,
      "outputs": []
    },
    {
      "cell_type": "code",
      "metadata": {
        "id": "YTo70qGWc1fJ",
        "colab_type": "code",
        "colab": {}
      },
      "source": [
        "model.fit(x=[X2_train, X1_train], y=y_train, epochs=400,batch_size = 32, validation_data = ([X2_test, X1_test], y_test))"
      ],
      "execution_count": 0,
      "outputs": []
    },
    {
      "cell_type": "code",
      "metadata": {
        "id": "FYJx8AQV4F2P",
        "colab_type": "code",
        "colab": {}
      },
      "source": [
        ""
      ],
      "execution_count": 0,
      "outputs": []
    }
  ]
}