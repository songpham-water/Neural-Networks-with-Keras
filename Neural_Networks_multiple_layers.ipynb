{
  "nbformat": 4,
  "nbformat_minor": 0,
  "metadata": {
    "colab": {
      "name": "Neural_Networks_multiple_layers.ipynb",
      "provenance": [],
      "collapsed_sections": []
    },
    "kernelspec": {
      "name": "python3",
      "display_name": "Python 3"
    }
  },
  "cells": [
    {
      "cell_type": "markdown",
      "metadata": {
        "id": "0TRiHiaE4zwB",
        "colab_type": "text"
      },
      "source": [
        "https://colab.research.google.com/drive/162rFZOjCp-IBV-AkbnYmMh271gG7Sxhu"
      ]
    },
    {
      "cell_type": "code",
      "metadata": {
        "id": "GZGMThBdxv_s",
        "colab_type": "code",
        "colab": {}
      },
      "source": [
        "import numpy as np\n",
        "from keras.models import Sequential\n",
        "from keras.layers import Dense\n",
        "from copy import deepcopy"
      ],
      "execution_count": 0,
      "outputs": []
    },
    {
      "cell_type": "code",
      "metadata": {
        "id": "2RJnSRvlx1QH",
        "colab_type": "code",
        "colab": {}
      },
      "source": [
        "\n",
        "x = np.array([[1],[2],[3],[4]])\n",
        "y = np.array([[2],[4],[6],[8]])"
      ],
      "execution_count": 0,
      "outputs": []
    },
    {
      "cell_type": "code",
      "metadata": {
        "id": "R12fgA5gx3im",
        "colab_type": "code",
        "outputId": "09842eed-9f51-43c0-a8d5-9ba37a56d072",
        "colab": {
          "base_uri": "https://localhost:8080/",
          "height": 221
        }
      },
      "source": [
        "model = Sequential()\n",
        "model.add(Dense(3, activation='relu', input_shape=(1,)))\n",
        "model.add(Dense(1, activation='linear'))\n",
        "model.summary()"
      ],
      "execution_count": 11,
      "outputs": [
        {
          "output_type": "stream",
          "text": [
            "Model: \"sequential_2\"\n",
            "_________________________________________________________________\n",
            "Layer (type)                 Output Shape              Param #   \n",
            "=================================================================\n",
            "dense_3 (Dense)              (None, 3)                 6         \n",
            "_________________________________________________________________\n",
            "dense_4 (Dense)              (None, 1)                 4         \n",
            "=================================================================\n",
            "Total params: 10\n",
            "Trainable params: 10\n",
            "Non-trainable params: 0\n",
            "_________________________________________________________________\n"
          ],
          "name": "stdout"
        }
      ]
    },
    {
      "cell_type": "code",
      "metadata": {
        "id": "oNNWmL_Qx-6G",
        "colab_type": "code",
        "outputId": "079b2f77-0d74-4784-e8c4-c439d5fd40ee",
        "colab": {
          "base_uri": "https://localhost:8080/",
          "height": 85
        }
      },
      "source": [
        "\n",
        "from keras.optimizers import sgd\n",
        "s = sgd(lr = 0.01)\n",
        "model.compile(optimizer=s,loss='mean_squared_error',metrics=['accuracy'])\n",
        "\n",
        "display(model.weights)"
      ],
      "execution_count": 12,
      "outputs": [
        {
          "output_type": "display_data",
          "data": {
            "text/plain": [
              "[<tf.Variable 'dense_3/kernel:0' shape=(1, 3) dtype=float32_ref>,\n",
              " <tf.Variable 'dense_3/bias:0' shape=(3,) dtype=float32_ref>,\n",
              " <tf.Variable 'dense_4/kernel:0' shape=(3, 1) dtype=float32_ref>,\n",
              " <tf.Variable 'dense_4/bias:0' shape=(1,) dtype=float32_ref>]"
            ]
          },
          "metadata": {
            "tags": []
          }
        }
      ]
    },
    {
      "cell_type": "code",
      "metadata": {
        "id": "C424W9ydyCSX",
        "colab_type": "code",
        "colab": {}
      },
      "source": [
        "def feed_forward(inputs, outputs, weights):\n",
        "    pre_hidden = np.dot(inputs,weights[0])+ weights[1]\n",
        "    hidden = np.where(pre_hidden<0, 0, pre_hidden) \n",
        "    out = np.dot(hidden, weights[2]) + weights[3]\n",
        "    squared_error = (np.square(out - outputs))\n",
        "    return squared_error"
      ],
      "execution_count": 0,
      "outputs": []
    },
    {
      "cell_type": "code",
      "metadata": {
        "id": "AqHhygCqyTqH",
        "colab_type": "code",
        "outputId": "aeec26e6-ccf9-4502-86dd-6b02342660a5",
        "colab": {
          "base_uri": "https://localhost:8080/",
          "height": 119
        }
      },
      "source": [
        "def update_weights(inputs, outputs, weights, epochs):  \n",
        "    for epoch in range(epochs):\n",
        "        org_loss = feed_forward(inputs, outputs, weights)\n",
        "\n",
        "        weights_new = deepcopy(weights)\n",
        "        weights_new2 = deepcopy(weights)\n",
        "\n",
        "        for i, layer in enumerate(reversed(weights)):\n",
        "            # print(i, layer)\n",
        "            for index, weight in np.ndenumerate(layer):\n",
        "                # print(index, weight)\n",
        "                weights_new[-(i+1)][index] += 0.0001\n",
        "                # print('weights_new:', weights_new)\n",
        "                loss = feed_forward(inputs, outputs, weights_new)\n",
        "                # print('loss', loss)\n",
        "                del_loss = np.sum(org_loss - loss)/(0.0001*len(inputs))\n",
        "\n",
        "                weights_new2[-(i+1)][index] += del_loss*0.01\n",
        "                weights_new = deepcopy(weights)\n",
        "\n",
        "        weights = deepcopy(weights_new2)\n",
        "        \n",
        "    return weights_new2\n",
        "\n",
        "w = deepcopy(model.get_weights())\n",
        "update_weights(x,y,w,1)"
      ],
      "execution_count": 14,
      "outputs": [
        {
          "output_type": "execute_result",
          "data": {
            "text/plain": [
              "[array([[-0.3493415 , -0.47544134, -0.44914657]], dtype=float32),\n",
              " array([0., 0., 0.], dtype=float32),\n",
              " array([[-1.1885896 ],\n",
              "        [ 0.71235716],\n",
              "        [ 0.4478624 ]], dtype=float32),\n",
              " array([0.099999], dtype=float32)]"
            ]
          },
          "metadata": {
            "tags": []
          },
          "execution_count": 14
        }
      ]
    },
    {
      "cell_type": "code",
      "metadata": {
        "id": "p-oYSpKDyWwA",
        "colab_type": "code",
        "outputId": "e3ab05c5-213a-4968-a9fd-a0fd9f2c762b",
        "colab": {
          "base_uri": "https://localhost:8080/",
          "height": 153
        }
      },
      "source": [
        "model.fit(x, y, epochs=1, batch_size=4, verbose=1)\n",
        "model.get_weights()"
      ],
      "execution_count": 15,
      "outputs": [
        {
          "output_type": "stream",
          "text": [
            "Epoch 1/1\n",
            "\r4/4 [==============================] - 0s 17ms/step - loss: 30.0000 - acc: 0.0000e+00\n"
          ],
          "name": "stdout"
        },
        {
          "output_type": "execute_result",
          "data": {
            "text/plain": [
              "[array([[-0.3493415 , -0.47544134, -0.44914657]], dtype=float32),\n",
              " array([0., 0., 0.], dtype=float32),\n",
              " array([[-1.1885896 ],\n",
              "        [ 0.71235716],\n",
              "        [ 0.4478624 ]], dtype=float32),\n",
              " array([0.09999999], dtype=float32)]"
            ]
          },
          "metadata": {
            "tags": []
          },
          "execution_count": 15
        }
      ]
    },
    {
      "cell_type": "code",
      "metadata": {
        "id": "P-abCqpfybzo",
        "colab_type": "code",
        "outputId": "c45edc71-3063-40b2-dee7-13f574472451",
        "colab": {
          "base_uri": "https://localhost:8080/",
          "height": 51
        }
      },
      "source": [
        "x1 = [[5],[6]]\n",
        "model.predict(np.array(x1))"
      ],
      "execution_count": 16,
      "outputs": [
        {
          "output_type": "execute_result",
          "data": {
            "text/plain": [
              "array([[0.09999999],\n",
              "       [0.09999999]], dtype=float32)"
            ]
          },
          "metadata": {
            "tags": []
          },
          "execution_count": 16
        }
      ]
    },
    {
      "cell_type": "code",
      "metadata": {
        "id": "VltpnRTHyfko",
        "colab_type": "code",
        "colab": {}
      },
      "source": [
        "def cat_cross_entropy(p, y):\n",
        "    return -np.sum((y*np.log2(p)+(1-y)*np.log2(1-p)))"
      ],
      "execution_count": 0,
      "outputs": []
    },
    {
      "cell_type": "code",
      "metadata": {
        "id": "nmwItnd9ytnp",
        "colab_type": "code",
        "outputId": "3dd1994e-51af-44e7-fa92-962892d1241c",
        "colab": {
          "base_uri": "https://localhost:8080/",
          "height": 34
        }
      },
      "source": [
        "cat_cross_entropy(np.array([0.1,0.9]),np.array([0,1]))"
      ],
      "execution_count": 20,
      "outputs": [
        {
          "output_type": "execute_result",
          "data": {
            "text/plain": [
              "0.30400618689009995"
            ]
          },
          "metadata": {
            "tags": []
          },
          "execution_count": 20
        }
      ]
    },
    {
      "cell_type": "code",
      "metadata": {
        "id": "HIlHI5J1yw8y",
        "colab_type": "code",
        "colab": {}
      },
      "source": [
        ""
      ],
      "execution_count": 0,
      "outputs": []
    }
  ]
}